{
  "nbformat": 4,
  "nbformat_minor": 0,
  "metadata": {
    "kernelspec": {
      "display_name": "Python 3",
      "language": "python",
      "name": "python3"
    },
    "language_info": {
      "codemirror_mode": {
        "name": "ipython",
        "version": 3
      },
      "file_extension": ".py",
      "mimetype": "text/x-python",
      "name": "python",
      "nbconvert_exporter": "python",
      "pygments_lexer": "ipython3",
      "version": "3.8.5"
    },
    "colab": {
      "name": "preprocess_data.ipynb",
      "provenance": []
    },
    "accelerator": "GPU",
    "widgets": {
      "application/vnd.jupyter.widget-state+json": {
        "45edd7de10944f96a5c320ad2c4bc8ef": {
          "model_module": "@jupyter-widgets/controls",
          "model_name": "HBoxModel",
          "state": {
            "_view_name": "HBoxView",
            "_dom_classes": [],
            "_model_name": "HBoxModel",
            "_view_module": "@jupyter-widgets/controls",
            "_model_module_version": "1.5.0",
            "_view_count": null,
            "_view_module_version": "1.5.0",
            "box_style": "",
            "layout": "IPY_MODEL_d68993c0e8984138892ae63d1d03b051",
            "_model_module": "@jupyter-widgets/controls",
            "children": [
              "IPY_MODEL_2006eb11d4df458d90b64444e1a0d8c9",
              "IPY_MODEL_31a9ad15b5c249b5bcd74809d9519365"
            ]
          }
        },
        "d68993c0e8984138892ae63d1d03b051": {
          "model_module": "@jupyter-widgets/base",
          "model_name": "LayoutModel",
          "state": {
            "_view_name": "LayoutView",
            "grid_template_rows": null,
            "right": null,
            "justify_content": null,
            "_view_module": "@jupyter-widgets/base",
            "overflow": null,
            "_model_module_version": "1.2.0",
            "_view_count": null,
            "flex_flow": null,
            "width": null,
            "min_width": null,
            "border": null,
            "align_items": null,
            "bottom": null,
            "_model_module": "@jupyter-widgets/base",
            "top": null,
            "grid_column": null,
            "overflow_y": null,
            "overflow_x": null,
            "grid_auto_flow": null,
            "grid_area": null,
            "grid_template_columns": null,
            "flex": null,
            "_model_name": "LayoutModel",
            "justify_items": null,
            "grid_row": null,
            "max_height": null,
            "align_content": null,
            "visibility": null,
            "align_self": null,
            "height": null,
            "min_height": null,
            "padding": null,
            "grid_auto_rows": null,
            "grid_gap": null,
            "max_width": null,
            "order": null,
            "_view_module_version": "1.2.0",
            "grid_template_areas": null,
            "object_position": null,
            "object_fit": null,
            "grid_auto_columns": null,
            "margin": null,
            "display": null,
            "left": null
          }
        },
        "2006eb11d4df458d90b64444e1a0d8c9": {
          "model_module": "@jupyter-widgets/controls",
          "model_name": "FloatProgressModel",
          "state": {
            "_view_name": "ProgressView",
            "style": "IPY_MODEL_08a8c21e62be4c778abee54c0d8de528",
            "_dom_classes": [],
            "description": "100%",
            "_model_name": "FloatProgressModel",
            "bar_style": "success",
            "max": 405234788,
            "_view_module": "@jupyter-widgets/controls",
            "_model_module_version": "1.5.0",
            "value": 405234788,
            "_view_count": null,
            "_view_module_version": "1.5.0",
            "orientation": "horizontal",
            "min": 0,
            "description_tooltip": null,
            "_model_module": "@jupyter-widgets/controls",
            "layout": "IPY_MODEL_5c17dde4ef0142c7969713c6757bb18f"
          }
        },
        "31a9ad15b5c249b5bcd74809d9519365": {
          "model_module": "@jupyter-widgets/controls",
          "model_name": "HTMLModel",
          "state": {
            "_view_name": "HTMLView",
            "style": "IPY_MODEL_6fb4cc547bc349ebab438bf3b0ba1c09",
            "_dom_classes": [],
            "description": "",
            "_model_name": "HTMLModel",
            "placeholder": "​",
            "_view_module": "@jupyter-widgets/controls",
            "_model_module_version": "1.5.0",
            "value": " 405M/405M [00:28&lt;00:00, 14.0MB/s]",
            "_view_count": null,
            "_view_module_version": "1.5.0",
            "description_tooltip": null,
            "_model_module": "@jupyter-widgets/controls",
            "layout": "IPY_MODEL_86da5f4a55dd4294a54ab2898c95d7c4"
          }
        },
        "08a8c21e62be4c778abee54c0d8de528": {
          "model_module": "@jupyter-widgets/controls",
          "model_name": "ProgressStyleModel",
          "state": {
            "_view_name": "StyleView",
            "_model_name": "ProgressStyleModel",
            "description_width": "initial",
            "_view_module": "@jupyter-widgets/base",
            "_model_module_version": "1.5.0",
            "_view_count": null,
            "_view_module_version": "1.2.0",
            "bar_color": null,
            "_model_module": "@jupyter-widgets/controls"
          }
        },
        "5c17dde4ef0142c7969713c6757bb18f": {
          "model_module": "@jupyter-widgets/base",
          "model_name": "LayoutModel",
          "state": {
            "_view_name": "LayoutView",
            "grid_template_rows": null,
            "right": null,
            "justify_content": null,
            "_view_module": "@jupyter-widgets/base",
            "overflow": null,
            "_model_module_version": "1.2.0",
            "_view_count": null,
            "flex_flow": null,
            "width": null,
            "min_width": null,
            "border": null,
            "align_items": null,
            "bottom": null,
            "_model_module": "@jupyter-widgets/base",
            "top": null,
            "grid_column": null,
            "overflow_y": null,
            "overflow_x": null,
            "grid_auto_flow": null,
            "grid_area": null,
            "grid_template_columns": null,
            "flex": null,
            "_model_name": "LayoutModel",
            "justify_items": null,
            "grid_row": null,
            "max_height": null,
            "align_content": null,
            "visibility": null,
            "align_self": null,
            "height": null,
            "min_height": null,
            "padding": null,
            "grid_auto_rows": null,
            "grid_gap": null,
            "max_width": null,
            "order": null,
            "_view_module_version": "1.2.0",
            "grid_template_areas": null,
            "object_position": null,
            "object_fit": null,
            "grid_auto_columns": null,
            "margin": null,
            "display": null,
            "left": null
          }
        },
        "6fb4cc547bc349ebab438bf3b0ba1c09": {
          "model_module": "@jupyter-widgets/controls",
          "model_name": "DescriptionStyleModel",
          "state": {
            "_view_name": "StyleView",
            "_model_name": "DescriptionStyleModel",
            "description_width": "",
            "_view_module": "@jupyter-widgets/base",
            "_model_module_version": "1.5.0",
            "_view_count": null,
            "_view_module_version": "1.2.0",
            "_model_module": "@jupyter-widgets/controls"
          }
        },
        "86da5f4a55dd4294a54ab2898c95d7c4": {
          "model_module": "@jupyter-widgets/base",
          "model_name": "LayoutModel",
          "state": {
            "_view_name": "LayoutView",
            "grid_template_rows": null,
            "right": null,
            "justify_content": null,
            "_view_module": "@jupyter-widgets/base",
            "overflow": null,
            "_model_module_version": "1.2.0",
            "_view_count": null,
            "flex_flow": null,
            "width": null,
            "min_width": null,
            "border": null,
            "align_items": null,
            "bottom": null,
            "_model_module": "@jupyter-widgets/base",
            "top": null,
            "grid_column": null,
            "overflow_y": null,
            "overflow_x": null,
            "grid_auto_flow": null,
            "grid_area": null,
            "grid_template_columns": null,
            "flex": null,
            "_model_name": "LayoutModel",
            "justify_items": null,
            "grid_row": null,
            "max_height": null,
            "align_content": null,
            "visibility": null,
            "align_self": null,
            "height": null,
            "min_height": null,
            "padding": null,
            "grid_auto_rows": null,
            "grid_gap": null,
            "max_width": null,
            "order": null,
            "_view_module_version": "1.2.0",
            "grid_template_areas": null,
            "object_position": null,
            "object_fit": null,
            "grid_auto_columns": null,
            "margin": null,
            "display": null,
            "left": null
          }
        }
      }
    }
  },
  "cells": [
    {
      "cell_type": "markdown",
      "metadata": {
        "id": "v5D6TsQlvSZH"
      },
      "source": [
        "# [Data Preprocessing](http://colab.research.google.com/github/boringPpl/presidential_debates_comments_clustering/blob/main/preprocess_data.ipynb)\n",
        "\n",
        "## 1. Setup\n",
        "\n",
        "### 1.1 Hardware\n",
        "\n",
        "First, check that the runtime in Google Colab is set to GPU. If it is not, go to **Runtime > Change runtime type** and change the **Hardware Accelerator** to **GPU**."
      ]
    },
    {
      "cell_type": "code",
      "metadata": {
        "colab": {
          "base_uri": "https://localhost:8080/"
        },
        "id": "IsSzCZyxy9As",
        "outputId": "c82f19bd-1025-45b4-8dd9-604f7834af7d"
      },
      "source": [
        "!nvidia-smi"
      ],
      "execution_count": 3,
      "outputs": [
        {
          "output_type": "stream",
          "text": [
            "Mon Jun 14 12:39:58 2021       \n",
            "+-----------------------------------------------------------------------------+\n",
            "| NVIDIA-SMI 465.27       Driver Version: 460.32.03    CUDA Version: 11.2     |\n",
            "|-------------------------------+----------------------+----------------------+\n",
            "| GPU  Name        Persistence-M| Bus-Id        Disp.A | Volatile Uncorr. ECC |\n",
            "| Fan  Temp  Perf  Pwr:Usage/Cap|         Memory-Usage | GPU-Util  Compute M. |\n",
            "|                               |                      |               MIG M. |\n",
            "|===============================+======================+======================|\n",
            "|   0  Tesla T4            Off  | 00000000:00:04.0 Off |                    0 |\n",
            "| N/A   54C    P8    10W /  70W |      0MiB / 15109MiB |      0%      Default |\n",
            "|                               |                      |                  N/A |\n",
            "+-------------------------------+----------------------+----------------------+\n",
            "                                                                               \n",
            "+-----------------------------------------------------------------------------+\n",
            "| Processes:                                                                  |\n",
            "|  GPU   GI   CI        PID   Type   Process name                  GPU Memory |\n",
            "|        ID   ID                                                   Usage      |\n",
            "|=============================================================================|\n",
            "|  No running processes found                                                 |\n",
            "+-----------------------------------------------------------------------------+\n"
          ],
          "name": "stdout"
        }
      ]
    },
    {
      "cell_type": "markdown",
      "metadata": {
        "id": "7f99sNEh2bnr"
      },
      "source": [
        "The following shows the CPU details for the Google Colab instance"
      ]
    },
    {
      "cell_type": "code",
      "metadata": {
        "colab": {
          "base_uri": "https://localhost:8080/"
        },
        "id": "klKuW-xB2FKl",
        "outputId": "47ecb3a7-d050-4fc1-91f0-a310993f78e7"
      },
      "source": [
        "!lscpu"
      ],
      "execution_count": 4,
      "outputs": [
        {
          "output_type": "stream",
          "text": [
            "Architecture:        x86_64\n",
            "CPU op-mode(s):      32-bit, 64-bit\n",
            "Byte Order:          Little Endian\n",
            "CPU(s):              2\n",
            "On-line CPU(s) list: 0,1\n",
            "Thread(s) per core:  2\n",
            "Core(s) per socket:  1\n",
            "Socket(s):           1\n",
            "NUMA node(s):        1\n",
            "Vendor ID:           GenuineIntel\n",
            "CPU family:          6\n",
            "Model:               79\n",
            "Model name:          Intel(R) Xeon(R) CPU @ 2.20GHz\n",
            "Stepping:            0\n",
            "CPU MHz:             2199.998\n",
            "BogoMIPS:            4399.99\n",
            "Hypervisor vendor:   KVM\n",
            "Virtualization type: full\n",
            "L1d cache:           32K\n",
            "L1i cache:           32K\n",
            "L2 cache:            256K\n",
            "L3 cache:            56320K\n",
            "NUMA node0 CPU(s):   0,1\n",
            "Flags:               fpu vme de pse tsc msr pae mce cx8 apic sep mtrr pge mca cmov pat pse36 clflush mmx fxsr sse sse2 ss ht syscall nx pdpe1gb rdtscp lm constant_tsc rep_good nopl xtopology nonstop_tsc cpuid tsc_known_freq pni pclmulqdq ssse3 fma cx16 pcid sse4_1 sse4_2 x2apic movbe popcnt aes xsave avx f16c rdrand hypervisor lahf_lm abm 3dnowprefetch invpcid_single ssbd ibrs ibpb stibp fsgsbase tsc_adjust bmi1 hle avx2 smep bmi2 erms invpcid rtm rdseed adx smap xsaveopt arat md_clear arch_capabilities\n"
          ],
          "name": "stdout"
        }
      ]
    },
    {
      "cell_type": "markdown",
      "metadata": {
        "id": "iN3t5qwA2rbb"
      },
      "source": [
        "The memory available for the instance is listed as follows"
      ]
    },
    {
      "cell_type": "code",
      "metadata": {
        "colab": {
          "base_uri": "https://localhost:8080/"
        },
        "id": "46fl6M1z2IVk",
        "outputId": "93308f29-0292-4b0f-9b04-fca88b54955c"
      },
      "source": [
        "!free -h"
      ],
      "execution_count": 5,
      "outputs": [
        {
          "output_type": "stream",
          "text": [
            "              total        used        free      shared  buff/cache   available\n",
            "Mem:            12G        549M         10G        1.1M        2.1G         11G\n",
            "Swap:            0B          0B          0B\n"
          ],
          "name": "stdout"
        }
      ]
    },
    {
      "cell_type": "markdown",
      "metadata": {
        "id": "6FT94kk61QKd"
      },
      "source": [
        "### 1.2 Install Dependencies"
      ]
    },
    {
      "cell_type": "code",
      "metadata": {
        "colab": {
          "base_uri": "https://localhost:8080/"
        },
        "id": "49kLid8avSZJ",
        "outputId": "d42c4242-3cad-4e64-d8df-919421a03e0f"
      },
      "source": [
        "!git clone https://github.com/boringPpl/presidential_debates_comments_clustering.git\n",
        "%cd presidential_debates_comments_clustering\n",
        "!pip install -qr requirements.txt"
      ],
      "execution_count": 6,
      "outputs": [
        {
          "output_type": "stream",
          "text": [
            "Cloning into 'presidential_debates_comments_clustering'...\n",
            "remote: Enumerating objects: 187, done.\u001b[K\n",
            "remote: Counting objects: 100% (20/20), done.\u001b[K\n",
            "remote: Compressing objects: 100% (17/17), done.\u001b[K\n",
            "remote: Total 187 (delta 5), reused 15 (delta 3), pack-reused 167\u001b[K\n",
            "Receiving objects: 100% (187/187), 93.92 MiB | 18.29 MiB/s, done.\n",
            "Resolving deltas: 100% (81/81), done.\n",
            "/content/presidential_debates_comments_clustering\n",
            "\u001b[K     |████████████████████████████████| 133kB 7.5MB/s \n",
            "\u001b[K     |████████████████████████████████| 6.4MB 20.4MB/s \n",
            "\u001b[?25h  Installing build dependencies ... \u001b[?25l\u001b[?25hdone\n",
            "  Getting requirements to build wheel ... \u001b[?25l\u001b[?25hdone\n",
            "    Preparing wheel metadata ... \u001b[?25l\u001b[?25hdone\n",
            "\u001b[K     |████████████████████████████████| 81kB 11.9MB/s \n",
            "\u001b[K     |████████████████████████████████| 890kB 44.0MB/s \n",
            "\u001b[K     |████████████████████████████████| 1.2MB 49.2MB/s \n",
            "\u001b[K     |████████████████████████████████| 3.0MB 52.9MB/s \n",
            "\u001b[K     |████████████████████████████████| 901kB 46.0MB/s \n",
            "\u001b[?25h  Building wheel for hdbscan (PEP 517) ... \u001b[?25l\u001b[?25hdone\n",
            "  Building wheel for sentence-transformers (setup.py) ... \u001b[?25l\u001b[?25hdone\n"
          ],
          "name": "stdout"
        }
      ]
    },
    {
      "cell_type": "code",
      "metadata": {
        "id": "8ZevAggEvSZK",
        "outputId": "faa81a27-00e6-4732-af99-3303d168aee2",
        "colab": {
          "base_uri": "https://localhost:8080/",
          "height": 66,
          "referenced_widgets": [
            "45edd7de10944f96a5c320ad2c4bc8ef",
            "d68993c0e8984138892ae63d1d03b051",
            "2006eb11d4df458d90b64444e1a0d8c9",
            "31a9ad15b5c249b5bcd74809d9519365",
            "08a8c21e62be4c778abee54c0d8de528",
            "5c17dde4ef0142c7969713c6757bb18f",
            "6fb4cc547bc349ebab438bf3b0ba1c09",
            "86da5f4a55dd4294a54ab2898c95d7c4"
          ]
        }
      },
      "source": [
        "import numpy as np\n",
        "import pandas as pd\n",
        "import emoji\n",
        "\n",
        "from sentence_transformers import SentenceTransformer\n",
        "from sklearn.cluster import KMeans\n",
        "\n",
        "embedder = SentenceTransformer('bert-base-nli-mean-tokens')"
      ],
      "execution_count": 7,
      "outputs": [
        {
          "output_type": "display_data",
          "data": {
            "application/vnd.jupyter.widget-view+json": {
              "model_id": "45edd7de10944f96a5c320ad2c4bc8ef",
              "version_minor": 0,
              "version_major": 2
            },
            "text/plain": [
              "HBox(children=(FloatProgress(value=0.0, max=405234788.0), HTML(value='')))"
            ]
          },
          "metadata": {
            "tags": []
          }
        },
        {
          "output_type": "stream",
          "text": [
            "\n"
          ],
          "name": "stdout"
        }
      ]
    },
    {
      "cell_type": "markdown",
      "metadata": {
        "id": "eGSugYCGvSZK"
      },
      "source": [
        "## 2. Exploratory Data Analysis\n",
        "\n",
        "### 2.1 Load data into Pandas"
      ]
    },
    {
      "cell_type": "code",
      "metadata": {
        "id": "BWRl3_GzvSZK"
      },
      "source": [
        "def load_comments(video_id):\n",
        "    filename = f'data/{video_id}_csv_final.feather'\n",
        "    df = pd.read_feather(filename)\n",
        "    return df"
      ],
      "execution_count": 8,
      "outputs": []
    },
    {
      "cell_type": "code",
      "metadata": {
        "id": "OLffUHsTvSZL"
      },
      "source": [
        "# This is the dataset for the first presidential debate.\n",
        "df1 = load_comments('wW1lY5jFNcQ')\n",
        "comments1 = df1['Comments']\n",
        "df1['Updated At'] = pd.to_datetime(df1['Updated At'], format='%Y-%m-%dT%H:%M:%SZ', errors='coerce')"
      ],
      "execution_count": 9,
      "outputs": []
    },
    {
      "cell_type": "markdown",
      "metadata": {
        "id": "eNpUIfUnvSZL"
      },
      "source": [
        "### 2.2 Exploratory data analysis"
      ]
    },
    {
      "cell_type": "code",
      "metadata": {
        "colab": {
          "base_uri": "https://localhost:8080/",
          "height": 340
        },
        "id": "bnHLsvy7vSZL",
        "outputId": "f6836856-af22-4390-f5b9-9b91a7a4416c"
      },
      "source": [
        "print(f'The shape of the dataframe is: {df1.shape}')\n",
        "print(f\"The time range for the data is: {df1['Updated At'].min():%Y-%m-%d %H%Mh} to {df1['Updated At'].max():%Y-%m-%d %H%Mh}\")\n",
        "df1.head()"
      ],
      "execution_count": 10,
      "outputs": [
        {
          "output_type": "stream",
          "text": [
            "The shape of the dataframe is: (53271, 6)\n",
            "The time range for the data is: 2020-09-30 0245h to 2021-03-28 1717h\n"
          ],
          "name": "stdout"
        },
        {
          "output_type": "execute_result",
          "data": {
            "text/html": [
              "<div>\n",
              "<style scoped>\n",
              "    .dataframe tbody tr th:only-of-type {\n",
              "        vertical-align: middle;\n",
              "    }\n",
              "\n",
              "    .dataframe tbody tr th {\n",
              "        vertical-align: top;\n",
              "    }\n",
              "\n",
              "    .dataframe thead th {\n",
              "        text-align: right;\n",
              "    }\n",
              "</style>\n",
              "<table border=\"1\" class=\"dataframe\">\n",
              "  <thead>\n",
              "    <tr style=\"text-align: right;\">\n",
              "      <th></th>\n",
              "      <th>Comments</th>\n",
              "      <th>Comment ID</th>\n",
              "      <th>Reply Count</th>\n",
              "      <th>Like Count</th>\n",
              "      <th>Updated At</th>\n",
              "      <th>Viewer Rating</th>\n",
              "    </tr>\n",
              "  </thead>\n",
              "  <tbody>\n",
              "    <tr>\n",
              "      <th>0</th>\n",
              "      <td>Trump's America: *7M cases*\\nBiden: 200K peopl...</td>\n",
              "      <td>UgzOHAjMxYA4Q1NXivR4AaABAg</td>\n",
              "      <td>0</td>\n",
              "      <td>0</td>\n",
              "      <td>2021-03-28 17:17:10</td>\n",
              "      <td>none</td>\n",
              "    </tr>\n",
              "    <tr>\n",
              "      <th>1</th>\n",
              "      <td>Wow Joes laugh makes me cringe 😬</td>\n",
              "      <td>Ugy1AdZUVDPjO-YzszB4AaABAg</td>\n",
              "      <td>0</td>\n",
              "      <td>0</td>\n",
              "      <td>2021-03-28 09:49:51</td>\n",
              "      <td>none</td>\n",
              "    </tr>\n",
              "    <tr>\n",
              "      <th>2</th>\n",
              "      <td>Dang hate to say it,  Trump seems sharp compar...</td>\n",
              "      <td>UgwxiTXgqmNvg0nQZ554AaABAg</td>\n",
              "      <td>1</td>\n",
              "      <td>0</td>\n",
              "      <td>2021-03-28 09:48:46</td>\n",
              "      <td>none</td>\n",
              "    </tr>\n",
              "    <tr>\n",
              "      <th>3</th>\n",
              "      <td>HEY BIDEN, I HAVE A FEELING YOU WERE IN ON THE...</td>\n",
              "      <td>UgyjoIPRCH0X57xnKa94AaABAg</td>\n",
              "      <td>0</td>\n",
              "      <td>0</td>\n",
              "      <td>2021-03-27 15:16:51</td>\n",
              "      <td>none</td>\n",
              "    </tr>\n",
              "    <tr>\n",
              "      <th>4</th>\n",
              "      <td>FAKE BRIDEN!!!!!!!!!!!!!!!!!!!!!!!!!!!!!!!!!!!...</td>\n",
              "      <td>UgxXf4RANq3Per7_lKR4AaABAg</td>\n",
              "      <td>0</td>\n",
              "      <td>0</td>\n",
              "      <td>2021-03-27 15:15:17</td>\n",
              "      <td>none</td>\n",
              "    </tr>\n",
              "  </tbody>\n",
              "</table>\n",
              "</div>"
            ],
            "text/plain": [
              "                                            Comments  ... Viewer Rating\n",
              "0  Trump's America: *7M cases*\\nBiden: 200K peopl...  ...          none\n",
              "1                   Wow Joes laugh makes me cringe 😬  ...          none\n",
              "2  Dang hate to say it,  Trump seems sharp compar...  ...          none\n",
              "3  HEY BIDEN, I HAVE A FEELING YOU WERE IN ON THE...  ...          none\n",
              "4  FAKE BRIDEN!!!!!!!!!!!!!!!!!!!!!!!!!!!!!!!!!!!...  ...          none\n",
              "\n",
              "[5 rows x 6 columns]"
            ]
          },
          "metadata": {
            "tags": []
          },
          "execution_count": 10
        }
      ]
    },
    {
      "cell_type": "code",
      "metadata": {
        "colab": {
          "base_uri": "https://localhost:8080/",
          "height": 320
        },
        "id": "2lhHs12yvSZL",
        "outputId": "11acb3a6-b976-4e13-cb05-9ae55293713d"
      },
      "source": [
        "ax = df1['Updated At'].hist(bins=25, figsize=(12, 5))\n",
        "ax.set_yscale('log')"
      ],
      "execution_count": 11,
      "outputs": [
        {
          "output_type": "display_data",
          "data": {
            "image/png": "[encoded data removed]",
            "text/plain": [
              "<Figure size 864x360 with 1 Axes>"
            ]
          },
          "metadata": {
            "tags": [],
            "needs_background": "light"
          }
        }
      ]
    },
    {
      "cell_type": "code",
      "metadata": {
        "colab": {
          "base_uri": "https://localhost:8080/"
        },
        "id": "QZyIA-tfvSZM",
        "outputId": "de73374e-c987-4245-8ba3-f0c6e9c528c7"
      },
      "source": [
        "import emoji\n",
        "print(emoji.demojize('trending 😉\t'))"
      ],
      "execution_count": 12,
      "outputs": [
        {
          "output_type": "stream",
          "text": [
            "trending :winking_face:\t\n"
          ],
          "name": "stdout"
        }
      ]
    },
    {
      "cell_type": "code",
      "metadata": {
        "id": "lej-nAeXvSZM"
      },
      "source": [
        "df_corpus = df1"
      ],
      "execution_count": 13,
      "outputs": []
    },
    {
      "cell_type": "code",
      "metadata": {
        "id": "UWq6agYPvSZM"
      },
      "source": [
        "df_corpus.rename(columns={'Comments': 'comment_text'}, inplace=True)"
      ],
      "execution_count": 14,
      "outputs": []
    },
    {
      "cell_type": "code",
      "metadata": {
        "id": "nvynIneBvSZN"
      },
      "source": [
        "# De-emojize\n",
        "df_corpus['comments_cleaned'] = df_corpus['comment_text'].apply(emoji.demojize)\n",
        "\n",
        "# Replace the colons, and \\n with a space\n",
        "df_corpus['comments_cleaned'] = df_corpus['comments_cleaned'].str.replace('[\\n:]', ' ', regex=True)\n",
        "df_corpus['comments_cleaned'] = df_corpus['comments_cleaned'].str.replace(r'\\\\n', ' ', regex=True)"
      ],
      "execution_count": 15,
      "outputs": []
    },
    {
      "cell_type": "code",
      "metadata": {
        "id": "9iwHuvFPvSZN"
      },
      "source": [
        "df_corpus['comments_cleaned'] = df_corpus['comments_cleaned'].str.lower()"
      ],
      "execution_count": 16,
      "outputs": []
    },
    {
      "cell_type": "code",
      "metadata": {
        "colab": {
          "base_uri": "https://localhost:8080/"
        },
        "id": "9YxEPBoTvSZN",
        "outputId": "039f962a-bb66-46d7-a884-c3b86b406ee4"
      },
      "source": [
        "df_corpus.drop_duplicates(subset=['comments_cleaned'], inplace = True)\n",
        "df_corpus.shape"
      ],
      "execution_count": 17,
      "outputs": [
        {
          "output_type": "execute_result",
          "data": {
            "text/plain": [
              "(50889, 7)"
            ]
          },
          "metadata": {
            "tags": []
          },
          "execution_count": 17
        }
      ]
    },
    {
      "cell_type": "code",
      "metadata": {
        "id": "ZEWnr931vSZO"
      },
      "source": [
        "# remove special characters\n",
        "df_corpus['comments_cleaned'] = df_corpus['comments_cleaned'].str.replace('[^a-zA-Z0-9]', ' ')\n",
        "\n",
        "# remove white spaces\n",
        "df_corpus['comments_cleaned'] = df_corpus['comments_cleaned'].str.replace('\\s+', ' ', regex=True)\n",
        "df_corpus['comments_cleaned'] = df_corpus['comments_cleaned'].str.strip()"
      ],
      "execution_count": 18,
      "outputs": []
    },
    {
      "cell_type": "code",
      "metadata": {
        "id": "w1DNb4RIvSZO"
      },
      "source": [
        "# Save metadata in .tsv and .parquet formats\n",
        "df_corpus['comments_cleaned'].to_csv('meta.tsv', columns=['comments_cleaned'], index= False, header= False)\n",
        "df_corpus[['comments_cleaned']].to_parquet('meta.parquet', index=False)"
      ],
      "execution_count": 31,
      "outputs": []
    },
    {
      "cell_type": "markdown",
      "metadata": {
        "id": "iX6NhMd5vSZO"
      },
      "source": [
        "The longest comment has 16120 characters"
      ]
    },
    {
      "cell_type": "code",
      "metadata": {
        "colab": {
          "base_uri": "https://localhost:8080/"
        },
        "id": "6XEek6ClvSZP",
        "outputId": "94a4e3eb-8188-470a-88f2-05bd8b7ab5a9"
      },
      "source": [
        "df_corpus['comments_cleaned'].apply(len).sort_values(ascending=False).head(20)"
      ],
      "execution_count": 32,
      "outputs": [
        {
          "output_type": "execute_result",
          "data": {
            "text/plain": [
              "17433    16120\n",
              "34534    10709\n",
              "33397     9944\n",
              "2455      9649\n",
              "15230     9594\n",
              "41574     9539\n",
              "16652     9261\n",
              "29426     8957\n",
              "5256      8910\n",
              "16754     8711\n",
              "2614      8534\n",
              "22371     8399\n",
              "37653     7883\n",
              "47314     7336\n",
              "25375     7324\n",
              "42454     7260\n",
              "19705     7145\n",
              "27632     7129\n",
              "16743     6957\n",
              "26948     6955\n",
              "Name: comments_cleaned, dtype: int64"
            ]
          },
          "metadata": {
            "tags": []
          },
          "execution_count": 32
        }
      ]
    },
    {
      "cell_type": "markdown",
      "metadata": {
        "id": "mcv7vIhgvSZP"
      },
      "source": [
        "## Sentence Bert Embeddings"
      ]
    },
    {
      "cell_type": "code",
      "metadata": {
        "id": "9ZboLRN5vSZP"
      },
      "source": [
        "corpus_embeddings = embedder.encode(df_corpus[\"comments_cleaned\"].values.tolist())"
      ],
      "execution_count": 33,
      "outputs": []
    },
    {
      "cell_type": "code",
      "metadata": {
        "colab": {
          "base_uri": "https://localhost:8080/"
        },
        "id": "3UcZAIVdvSZP",
        "outputId": "95812187-09e5-4820-932b-ac14c1d27025"
      },
      "source": [
        "corpus_embeddings = np.array(corpus_embeddings)\n",
        "corpus_embeddings.shape"
      ],
      "execution_count": 34,
      "outputs": [
        {
          "output_type": "execute_result",
          "data": {
            "text/plain": [
              "(50889, 768)"
            ]
          },
          "metadata": {
            "tags": []
          },
          "execution_count": 34
        }
      ]
    },
    {
      "cell_type": "code",
      "metadata": {
        "id": "MfBQw8jWvSZP"
      },
      "source": [
        "def plot_similarity(labels, features, rotation):\n",
        "  corr = np.inner(features, features)\n",
        "  sns.set(font_scale=1.2)\n",
        "  g = sns.heatmap(\n",
        "      corr,\n",
        "      xticklabels=labels,\n",
        "      yticklabels=labels,\n",
        "      vmin=0,\n",
        "      vmax=1,\n",
        "      cmap=\"YlOrRd\")\n",
        "  g.set_xticklabels(labels, rotation=rotation)\n",
        "  g.set_title(\"Semantic Textual Similarity\")\n",
        "\n",
        "def run_and_plot(messages_):\n",
        "  message_embeddings_ = embed(messages_)\n",
        "  plot_similarity(messages_, corpus_embeddings, 90)"
      ],
      "execution_count": 35,
      "outputs": []
    },
    {
      "cell_type": "markdown",
      "metadata": {
        "id": "dDMPsKE5vSZQ"
      },
      "source": [
        "## Google Universal Encoder"
      ]
    },
    {
      "cell_type": "code",
      "metadata": {
        "colab": {
          "base_uri": "https://localhost:8080/"
        },
        "id": "Kd-JU_exvSZQ",
        "outputId": "e0ea7e4b-ee92-4e7f-b33f-88de6fe7ba66"
      },
      "source": [
        "from absl import logging\n",
        "\n",
        "import tensorflow as tf\n",
        "\n",
        "import tensorflow_hub as hub\n",
        "import matplotlib.pyplot as plt\n",
        "import numpy as np\n",
        "import os\n",
        "import pandas as pd\n",
        "import re\n",
        "import seaborn as sns\n",
        "\n",
        "module_url = \"https://tfhub.dev/google/universal-sentence-encoder-large/5\" #@param [\"https://tfhub.dev/google/universal-sentence-encoder/4\", \"https://tfhub.dev/google/universal-sentence-encoder-large/5\"]\n",
        "model = hub.load(module_url)\n",
        "print (\"module %s loaded\" % module_url)\n",
        "def embed(input):\n",
        "  return model(input)"
      ],
      "execution_count": 36,
      "outputs": [
        {
          "output_type": "stream",
          "text": [
            "INFO:absl:Using /tmp/tfhub_modules to cache modules.\n",
            "INFO:absl:Downloading TF-Hub Module 'https://tfhub.dev/google/universal-sentence-encoder-large/5'.\n",
            "INFO:absl:Downloaded https://tfhub.dev/google/universal-sentence-encoder-large/5, Total size: 577.10MB\n",
            "INFO:absl:Downloaded TF-Hub Module 'https://tfhub.dev/google/universal-sentence-encoder-large/5'.\n"
          ],
          "name": "stderr"
        },
        {
          "output_type": "stream",
          "text": [
            "module https://tfhub.dev/google/universal-sentence-encoder-large/5 loaded\n"
          ],
          "name": "stdout"
        }
      ]
    },
    {
      "cell_type": "code",
      "metadata": {
        "colab": {
          "base_uri": "https://localhost:8080/"
        },
        "id": "img28FjgvSZQ",
        "outputId": "3bd42fd3-5fb9-4653-894d-c0939aa0c4df"
      },
      "source": [
        "#@title Compute a representation for each message, showing various lengths supported.\n",
        "word = \"Elephant\"\n",
        "sentence = \"I am a sentence for which I would like to get its embedding.\"\n",
        "paragraph = (\n",
        "    \"Universal Sentence Encoder embeddings also support short paragraphs. \"\n",
        "    \"There is no hard limit on how long the paragraph is. Roughly, the longer \"\n",
        "    \"the more 'diluted' the emtbedding will be.\")\n",
        "messages = [word, sentence, paragraph]\n",
        "\n",
        "# Reduce logging output.\n",
        "logging.set_verbosity(logging.ERROR)\n",
        "\n",
        "message_embeddings = embed(messages)\n",
        "\n",
        "for i, message_embedding in enumerate(np.array(message_embeddings).tolist()):\n",
        "  print(\"Message: {}\".format(messages[i]))\n",
        "  print(\"Embedding size: {}\".format(len(message_embedding)))\n",
        "  message_embedding_snippet = \", \".join(\n",
        "      (str(x) for x in message_embedding[:3]))\n",
        "  print(\"Embedding: [{}, ...]\\n\".format(message_embedding_snippet))"
      ],
      "execution_count": 37,
      "outputs": [
        {
          "output_type": "stream",
          "text": [
            "Message: Elephant\n",
            "Embedding size: 512\n",
            "Embedding: [-0.034585606306791306, -0.01799013651907444, 0.0019805855117738247, ...]\n",
            "\n",
            "Message: I am a sentence for which I would like to get its embedding.\n",
            "Embedding size: 512\n",
            "Embedding: [0.05833391845226288, -0.08185010403394699, 0.06890939176082611, ...]\n",
            "\n",
            "Message: Universal Sentence Encoder embeddings also support short paragraphs. There is no hard limit on how long the paragraph is. Roughly, the longer the more 'diluted' the emtbedding will be.\n",
            "Embedding size: 512\n",
            "Embedding: [-0.018883436918258667, -0.0031109144911170006, -0.033673398196697235, ...]\n",
            "\n"
          ],
          "name": "stdout"
        }
      ]
    },
    {
      "cell_type": "markdown",
      "metadata": {
        "id": "xFNDvKCSvSZQ"
      },
      "source": [
        "## Semantic Textual Similarity Task Example\n",
        "\n",
        "The embeddings produced by the Universal Sentence Encoder are approximately normalized. The semantic similarity of two sentences can be trivially computed as the inner product of the encodings."
      ]
    },
    {
      "cell_type": "code",
      "metadata": {
        "id": "iyhhupo_vSZR"
      },
      "source": [
        "def plot_similarity(labels, features, rotation):\n",
        "  corr = np.inner(features, features)\n",
        "  sns.set(font_scale=1.2)\n",
        "  g = sns.heatmap(\n",
        "      corr,\n",
        "      xticklabels=labels,\n",
        "      yticklabels=labels,\n",
        "      vmin=0,\n",
        "      vmax=1,\n",
        "      cmap=\"YlOrRd\")\n",
        "  g.set_xticklabels(labels, rotation=rotation)\n",
        "  g.set_title(\"Semantic Textual Similarity\")\n",
        "\n",
        "def run_and_plot(messages_):\n",
        "  message_embeddings_ = embed(messages_)\n",
        "  plot_similarity(messages_, message_embeddings_, 90)"
      ],
      "execution_count": 38,
      "outputs": []
    },
    {
      "cell_type": "code",
      "metadata": {
        "id": "ZKYBmWgwvSZR"
      },
      "source": [
        "messages0 = df_corpus[\"comments_cleaned\"].values.tolist()"
      ],
      "execution_count": 39,
      "outputs": []
    },
    {
      "cell_type": "code",
      "metadata": {
        "colab": {
          "base_uri": "https://localhost:8080/"
        },
        "id": "OBn-kGVuvSZR",
        "outputId": "452c6985-7ee5-4bb9-cb56-b98791495bf1"
      },
      "source": [
        "df_corpus[\"comments_cleaned\"].apply(len).max()"
      ],
      "execution_count": 40,
      "outputs": [
        {
          "output_type": "execute_result",
          "data": {
            "text/plain": [
              "16120"
            ]
          },
          "metadata": {
            "tags": []
          },
          "execution_count": 40
        }
      ]
    },
    {
      "cell_type": "code",
      "metadata": {
        "id": "QF4xETc3vSZS"
      },
      "source": [
        "# embeddings_long = embed([df_corpus['comments_cleaned'].loc[617593]])"
      ],
      "execution_count": 41,
      "outputs": []
    },
    {
      "cell_type": "code",
      "metadata": {
        "id": "YOe8pabYvSZS"
      },
      "source": [
        "# [USComments.csv] Take only the first 2200 characters of each comment. Crashes at 2300+\n",
        "# [Presidential Debate 1] < 2200. Trying 2000 [Nope]. Trying 1800 [Nope].\n",
        "# Trying 1000 [Nope]. Trying 500 [Nope]. Trying 200.\n",
        "max_chars = 200\n",
        "messages = df_corpus[\"comments_cleaned\"].apply(\n",
        "    lambda x: x[:max_chars]\n",
        ").values.tolist()"
      ],
      "execution_count": 42,
      "outputs": []
    },
    {
      "cell_type": "code",
      "metadata": {
        "id": "pL93dJEI51OD",
        "colab": {
          "base_uri": "https://localhost:8080/"
        },
        "outputId": "01bde51e-aa4b-4dad-bb91-0d532dbbe0ab"
      },
      "source": [
        "print('Embeddings can only be done with about 500 rows at a time')\n",
        "n_chunks = len(messages) // 500\n",
        "message_list = np.array_split(np.array(messages), n_chunks)\n",
        "print(f'The {len(messages)} messages will be divided into {n_chunks} chunks of approximately 500 rows per chunk')"
      ],
      "execution_count": 43,
      "outputs": [
        {
          "output_type": "stream",
          "text": [
            "Embeddings can only be done with about 500 rows at a time\n",
            "The 50889 messages will be divided into 101 chunks of approximately 500 rows per chunk\n"
          ],
          "name": "stdout"
        }
      ]
    },
    {
      "cell_type": "code",
      "metadata": {
        "id": "oEr9Lh407TV_"
      },
      "source": [
        "for i, message in enumerate(message_list):\n",
        "    if i == 0:\n",
        "        embeddings = embed(message).numpy()\n",
        "    else:\n",
        "        embedding = embed(message).numpy()\n",
        "        embeddings = np.vstack((embeddings, embedding))"
      ],
      "execution_count": 44,
      "outputs": []
    },
    {
      "cell_type": "code",
      "metadata": {
        "id": "DoqTDzWd8D2n",
        "colab": {
          "base_uri": "https://localhost:8080/"
        },
        "outputId": "4fa6a2b7-3ea9-4eed-d363-19e1341e376b"
      },
      "source": [
        "print(f'The embeddings numpy array has shape: {embeddings.shape}')"
      ],
      "execution_count": 45,
      "outputs": [
        {
          "output_type": "stream",
          "text": [
            "The embeddings numpy array has shape: (50889, 512)\n"
          ],
          "name": "stdout"
        }
      ]
    },
    {
      "cell_type": "markdown",
      "metadata": {
        "id": "9X2OiSSj26FO"
      },
      "source": [
        "Saving 47k rows of data will take a long time (the final size is 634MB)"
      ]
    },
    {
      "cell_type": "code",
      "metadata": {
        "id": "p90i2R30lHbU"
      },
      "source": [
        "df_embeddings = pd.DataFrame(embeddings)\n",
        "df_embeddings.columns = [ str(x) for x in df_embeddings.columns ]\n",
        "df_embeddings.to_parquet('vecs0.parquet', index=False)\n",
        "np.savetxt('vecs0.tsv', embeddings , delimiter=\"\\t\")"
      ],
      "execution_count": 56,
      "outputs": []
    },
    {
      "cell_type": "code",
      "metadata": {
        "id": "70st8gsRAh0Q",
        "colab": {
          "base_uri": "https://localhost:8080/"
        },
        "outputId": "dc73f80c-9375-4184-c4c7-e6ec0ae4f508"
      },
      "source": [
        "# Check the final size of the file\n",
        "!ls -lh vecs0*"
      ],
      "execution_count": 59,
      "outputs": [
        {
          "output_type": "stream",
          "text": [
            "-rw-r--r-- 1 root root 149M Jun 14 12:56 vecs0.parquet\n",
            "-rw-r--r-- 1 root root 634M Jun 14 12:57 vecs0.tsv\n"
          ],
          "name": "stdout"
        }
      ]
    },
    {
      "cell_type": "code",
      "metadata": {
        "id": "GlBGndw4vSZV",
        "colab": {
          "base_uri": "https://localhost:8080/"
        },
        "outputId": "e8c9077b-033a-447e-e74b-611bcdc11a40"
      },
      "source": [
        "# Find the maximum length of the messages\n",
        "pd.Series(messages).apply(len).max()"
      ],
      "execution_count": 61,
      "outputs": [
        {
          "output_type": "execute_result",
          "data": {
            "text/plain": [
              "200"
            ]
          },
          "metadata": {
            "tags": []
          },
          "execution_count": 61
        }
      ]
    },
    {
      "cell_type": "markdown",
      "metadata": {
        "id": "IH6VTjAVvSZV"
      },
      "source": [
        "### PCA reduction\n",
        "\n",
        "The size of `vecs.tsv` can be reduced further.\n",
        "Using PCA, the number of dimensions of each embedding is reduced from 512 to 50."
      ]
    },
    {
      "cell_type": "code",
      "metadata": {
        "id": "gso-q5SPvSZV"
      },
      "source": [
        "from sklearn.decomposition import PCA"
      ],
      "execution_count": 62,
      "outputs": []
    },
    {
      "cell_type": "code",
      "metadata": {
        "id": "b8e9cd7JvSZV"
      },
      "source": [
        "#scale the data 0-1\n",
        "from sklearn.preprocessing import MinMaxScaler\n",
        "scaler = MinMaxScaler()\n",
        "rescaled = scaler.fit_transform(embeddings)"
      ],
      "execution_count": 63,
      "outputs": []
    },
    {
      "cell_type": "code",
      "metadata": {
        "id": "JLfDLcITvSZV",
        "colab": {
          "base_uri": "https://localhost:8080/",
          "height": 279
        },
        "outputId": "ffd90322-2bc6-45dc-9dfc-45207252ec3d"
      },
      "source": [
        "pca = PCA().fit(rescaled)\n",
        "plt.plot(np.cumsum(pca.explained_variance_ratio_))\n",
        "plt.xlabel('number of components')\n",
        "plt.ylabel('cumulative explained variance');"
      ],
      "execution_count": 64,
      "outputs": [
        {
          "output_type": "display_data",
          "data": {
            "image/png": "[encoded data removed]",
            "text/plain": [
              "<Figure size 432x288 with 1 Axes>"
            ]
          },
          "metadata": {
            "tags": [],
            "needs_background": "light"
          }
        }
      ]
    },
    {
      "cell_type": "code",
      "metadata": {
        "id": "n4qYCfpbvSZV",
        "colab": {
          "base_uri": "https://localhost:8080/"
        },
        "outputId": "319b9e75-9268-45d5-da7a-51844510e3e4"
      },
      "source": [
        "# need around 200 components to describe 100% of variance\n",
        "pca = PCA(n_components = 50)\n",
        "reduced_embeds = pca.fit_transform(rescaled)\n",
        "print(\"Original shape:   \", rescaled.shape)\n",
        "print(\"Transformed shape:\", reduced_embeds.shape)"
      ],
      "execution_count": 65,
      "outputs": [
        {
          "output_type": "stream",
          "text": [
            "Original shape:    (50889, 512)\n",
            "Transformed shape: (50889, 50)\n"
          ],
          "name": "stdout"
        }
      ]
    },
    {
      "cell_type": "code",
      "metadata": {
        "id": "pMYogewKvSZW",
        "colab": {
          "base_uri": "https://localhost:8080/"
        },
        "outputId": "fe5a3fce-01ba-4953-eee0-9ccbf3c68296"
      },
      "source": [
        "pca = PCA(n_components = 50)\n",
        "reduced_embeds = pca.fit_transform(rescaled)\n",
        "reduced_embeds.shape"
      ],
      "execution_count": 66,
      "outputs": [
        {
          "output_type": "execute_result",
          "data": {
            "text/plain": [
              "(50889, 50)"
            ]
          },
          "metadata": {
            "tags": []
          },
          "execution_count": 66
        }
      ]
    },
    {
      "cell_type": "code",
      "metadata": {
        "id": "kVexQw8e9UYT"
      },
      "source": [
        "# Save embeddings in .parquet and .tsv\n",
        "df_reduced = pd.DataFrame(reduced_embeds)\n",
        "df_reduced.columns = [ str(x) for x in df_reduced.columns ]\n",
        "df_reduced.to_parquet('vecs.parquet', index=False)\n",
        "np.savetxt('vecs.tsv', reduced_embeds , delimiter=\"\\t\")\n",
        "np.savetxt('vecs_5k.tsv', reduced_embeds[:5000] , delimiter=\"\\t\")"
      ],
      "execution_count": 92,
      "outputs": []
    },
    {
      "cell_type": "markdown",
      "metadata": {
        "id": "-H6f_9ZR-Z3w"
      },
      "source": [
        "After dimension reduction using PCA, the file size has been reduced from 634 MB to 62 MB (or 149 MB to 15 MB for the .parquet format)"
      ]
    },
    {
      "cell_type": "code",
      "metadata": {
        "colab": {
          "base_uri": "https://localhost:8080/"
        },
        "id": "ubaCiKEK9bNe",
        "outputId": "5d332cdd-55b3-4c8c-b3fb-b31ec5f2af4a"
      },
      "source": [
        "!ls -lh vecs*"
      ],
      "execution_count": 93,
      "outputs": [
        {
          "output_type": "stream",
          "text": [
            "-rw-r--r-- 1 root root 149M Jun 14 12:56 vecs0.parquet\n",
            "-rw-r--r-- 1 root root 634M Jun 14 12:57 vecs0.tsv\n",
            "-rw-r--r-- 1 root root 6.1M Jun 14 13:10 vecs_5k.tsv\n",
            "-rw-r--r-- 1 root root  15M Jun 14 13:10 vecs.parquet\n",
            "-rw-r--r-- 1 root root  62M Jun 14 13:10 vecs.tsv\n"
          ],
          "name": "stdout"
        }
      ]
    },
    {
      "cell_type": "markdown",
      "metadata": {
        "id": "wwHbLUzpvSZW"
      },
      "source": [
        "## Run HDBScan to find the clusters\n",
        "\n",
        "Note: the next code block takes a long time"
      ]
    },
    {
      "cell_type": "code",
      "metadata": {
        "id": "hVxDNTW4vSZX",
        "colab": {
          "base_uri": "https://localhost:8080/"
        },
        "outputId": "6c0688f3-1d71-451c-a3db-639eabbac356"
      },
      "source": [
        "import hdbscan\n",
        "\n",
        "clusterer = hdbscan.HDBSCAN()\n",
        "clusterer.fit(reduced_embeds)\n",
        "clusterer.labels_"
      ],
      "execution_count": 69,
      "outputs": [
        {
          "output_type": "execute_result",
          "data": {
            "text/plain": [
              "array([ -1, 104,  -1, ...,  -1, 332,  -1])"
            ]
          },
          "metadata": {
            "tags": []
          },
          "execution_count": 69
        }
      ]
    },
    {
      "cell_type": "code",
      "metadata": {
        "id": "MdzdxO4gvSZX",
        "colab": {
          "base_uri": "https://localhost:8080/"
        },
        "outputId": "97581951-6bfd-4df9-b383-f94249e1ba13"
      },
      "source": [
        "clusterer.labels_.max()"
      ],
      "execution_count": 70,
      "outputs": [
        {
          "output_type": "execute_result",
          "data": {
            "text/plain": [
              "365"
            ]
          },
          "metadata": {
            "tags": []
          },
          "execution_count": 70
        }
      ]
    },
    {
      "cell_type": "code",
      "metadata": {
        "id": "GuyjHVj7vSZX"
      },
      "source": [
        "df_corpus['hdb_labels'] = clusterer.labels_"
      ],
      "execution_count": 71,
      "outputs": []
    },
    {
      "cell_type": "code",
      "metadata": {
        "id": "qJObqzO-ocCR"
      },
      "source": [
        "# df_meta_lab = df_corpus[['comments_cleaned','hdb_labels']].copy()\n",
        "df_meta_lab = df_corpus[['comment_text','hdb_labels']].copy()"
      ],
      "execution_count": 82,
      "outputs": []
    },
    {
      "cell_type": "code",
      "metadata": {
        "id": "JSv_FuBsolLb"
      },
      "source": [
        "df_meta_lab['comment_text'] = df_meta_lab['comment_text'].str.replace('\\n', ' ')"
      ],
      "execution_count": 83,
      "outputs": []
    },
    {
      "cell_type": "code",
      "metadata": {
        "id": "ItoZ2c79vSZX"
      },
      "source": [
        "df_meta_lab.to_csv('meta_lab.tsv', index=False, header=True, sep='\\t')\n",
        "df_meta_lab.head(5000).to_csv('meta_lab_5k.tsv', index=False, header=True, sep='\\t')\n",
        "df_meta_lab.to_parquet('meta_lab.parquet', index=False)"
      ],
      "execution_count": 94,
      "outputs": []
    },
    {
      "cell_type": "code",
      "metadata": {
        "id": "iGK0xEcJvSZY",
        "colab": {
          "base_uri": "https://localhost:8080/"
        },
        "outputId": "655bde46-0dd2-4814-de19-06a51f56d41c"
      },
      "source": [
        "!head -7 meta.tsv"
      ],
      "execution_count": 95,
      "outputs": [
        {
          "output_type": "stream",
          "text": [
            "trump s america 7m cases biden 200k people have already died under his rule biden s america 30m cases 500k deaths biden well sometimes we fall and rise again\n",
            "wow joes laugh makes me cringe grimacing face\n",
            "dang hate to say it trump seems sharp compared to biden recently\n",
            "hey biden i have a feeling you were in on the scandal in new york to make trump look bad make more deaths on his watch\n",
            "fake briden look what he is doing to america\n",
            "why is there not a panel of questionnaires america united states is to only listen view 1 persons questions really\n",
            "i just watched bidens first news press conference and then thought i d stop by here again since it s so hilarious\n"
          ],
          "name": "stdout"
        }
      ]
    },
    {
      "cell_type": "code",
      "metadata": {
        "id": "LVw6ZMisvSZY",
        "colab": {
          "base_uri": "https://localhost:8080/"
        },
        "outputId": "cacef00d-8d39-4fdc-a6d1-c0302d7ba0f0"
      },
      "source": [
        "!head -8 meta_lab.tsv"
      ],
      "execution_count": 96,
      "outputs": [
        {
          "output_type": "stream",
          "text": [
            "comment_text\thdb_labels\n",
            "Trump's America: *7M cases* Biden: 200K people have already died under his rule!  Biden's America: *30M CASES+500K deaths* Biden: Well sometimes we fall and rise again\t-1\n",
            "Wow Joes laugh makes me cringe 😬\t104\n",
            "Dang hate to say it,  Trump seems sharp compared to Biden recently\t-1\n",
            "HEY BIDEN, I HAVE A FEELING YOU WERE IN ON THE SCANDAL IN NEW YORK  TO MAKE TRUMP LOOK BAD, MAKE MORE DEATHS ON HIS WATCH!!!\t-1\n",
            "FAKE BRIDEN!!!!!!!!!!!!!!!!!!!!!!!!!!!!!!!!!!!!!!!!!!!!!!!!!!!!!!!!!!!!!!!!!!!!!!!!!!!!!!!!!!!!!!!! LOOK WHAT HE IS DOING TO AMERICA!!!!!!!!!!!!!!!!!!!!!!!!!!!!!!!\t-1\n",
            "Why is there NOT a panel of questionnaires? America 🇺🇸 is to only listen & view 1 persons questions?!? Really???\t-1\n",
            "I just watched bidens first news press conference and then thought I'd stop by here again since it's so hilarious\t-1\n"
          ],
          "name": "stdout"
        }
      ]
    },
    {
      "cell_type": "code",
      "metadata": {
        "colab": {
          "base_uri": "https://localhost:8080/"
        },
        "id": "hcb3V6wK5ahi",
        "outputId": "00a80ce7-82b1-4a96-8c0a-6f2c40cdbbf7"
      },
      "source": [
        "!ls -lh *.tsv"
      ],
      "execution_count": 97,
      "outputs": [
        {
          "output_type": "stream",
          "text": [
            "-rw-r--r-- 1 root root 644K Jun 14 13:11 meta_lab_5k.tsv\n",
            "-rw-r--r-- 1 root root 6.1M Jun 14 13:11 meta_lab.tsv\n",
            "-rw-r--r-- 1 root root 5.9M Jun 14 12:47 meta.tsv\n",
            "-rw-r--r-- 1 root root 634M Jun 14 12:57 vecs0.tsv\n",
            "-rw-r--r-- 1 root root 6.1M Jun 14 13:10 vecs_5k.tsv\n",
            "-rw-r--r-- 1 root root  62M Jun 14 13:10 vecs.tsv\n"
          ],
          "name": "stdout"
        }
      ]
    },
    {
      "cell_type": "code",
      "metadata": {
        "id": "KYNQmv0SpFjt",
        "outputId": "ecacdfc7-b928-43c6-b68e-a22c406b0440",
        "colab": {
          "base_uri": "https://localhost:8080/"
        }
      },
      "source": [
        "!ls -lh *.parquet"
      ],
      "execution_count": 98,
      "outputs": [
        {
          "output_type": "stream",
          "text": [
            "-rw-r--r-- 1 root root 4.0M Jun 14 13:11 meta_lab.parquet\n",
            "-rw-r--r-- 1 root root 3.6M Jun 14 12:47 meta.parquet\n",
            "-rw-r--r-- 1 root root 149M Jun 14 12:56 vecs0.parquet\n",
            "-rw-r--r-- 1 root root  15M Jun 14 13:10 vecs.parquet\n"
          ],
          "name": "stdout"
        }
      ]
    },
    {
      "cell_type": "markdown",
      "metadata": {
        "id": "mh1NbTfbvSZY"
      },
      "source": [
        "Save `vecs_5k.tsv` and `meta_lab_5k.tsv`, containing the first 5000 embedding & label pairs.  Next, open http://projector.tensorflow.org/. Press \"Load\" and use `vecs_5k.tsv` for the first file, and `meta_lab_5k.tsv` for the second file. For the full original embedddings & labels, download `vecs.parquet`, `vecs0.parquet`, `meta.parquet`, and `meta_lab.parquet`."
      ]
    },
    {
      "cell_type": "code",
      "metadata": {
        "id": "8HLvTekSvSZY",
        "colab": {
          "base_uri": "https://localhost:8080/",
          "height": 17
        },
        "outputId": "f76f1a0e-0d57-447e-d90e-04cd8ec2ce29"
      },
      "source": [
        "from google.colab import files\n",
        "\n",
        "files.download('vecs_5k.tsv')\n",
        "files.download('meta_lab_5k.tsv')\n",
        "files.download('vecs.parquet')\n",
        "files.download('vecs0.parquet')\n",
        "files.download('meta.parquet')\n",
        "files.download('meta_lab.parquet')"
      ],
      "execution_count": 99,
      "outputs": [
        {
          "output_type": "display_data",
          "data": {
            "application/javascript": [
              "\n",
              "    async function download(id, filename, size) {\n",
              "      if (!google.colab.kernel.accessAllowed) {\n",
              "        return;\n",
              "      }\n",
              "      const div = document.createElement('div');\n",
              "      const label = document.createElement('label');\n",
              "      label.textContent = `Downloading \"${filename}\": `;\n",
              "      div.appendChild(label);\n",
              "      const progress = document.createElement('progress');\n",
              "      progress.max = size;\n",
              "      div.appendChild(progress);\n",
              "      document.body.appendChild(div);\n",
              "\n",
              "      const buffers = [];\n",
              "      let downloaded = 0;\n",
              "\n",
              "      const channel = await google.colab.kernel.comms.open(id);\n",
              "      // Send a message to notify the kernel that we're ready.\n",
              "      channel.send({})\n",
              "\n",
              "      for await (const message of channel.messages) {\n",
              "        // Send a message to notify the kernel that we're ready.\n",
              "        channel.send({})\n",
              "        if (message.buffers) {\n",
              "          for (const buffer of message.buffers) {\n",
              "            buffers.push(buffer);\n",
              "            downloaded += buffer.byteLength;\n",
              "            progress.value = downloaded;\n",
              "          }\n",
              "        }\n",
              "      }\n",
              "      const blob = new Blob(buffers, {type: 'application/binary'});\n",
              "      const a = document.createElement('a');\n",
              "      a.href = window.URL.createObjectURL(blob);\n",
              "      a.download = filename;\n",
              "      div.appendChild(a);\n",
              "      a.click();\n",
              "      div.remove();\n",
              "    }\n",
              "  "
            ],
            "text/plain": [
              "<IPython.core.display.Javascript object>"
            ]
          },
          "metadata": {
            "tags": []
          }
        },
        {
          "output_type": "display_data",
          "data": {
            "application/javascript": [
              "download(\"download_5d44145f-7a83-48c6-b67a-de00eb829a2f\", \"vecs_5k.tsv\", 6378309)"
            ],
            "text/plain": [
              "<IPython.core.display.Javascript object>"
            ]
          },
          "metadata": {
            "tags": []
          }
        },
        {
          "output_type": "display_data",
          "data": {
            "application/javascript": [
              "\n",
              "    async function download(id, filename, size) {\n",
              "      if (!google.colab.kernel.accessAllowed) {\n",
              "        return;\n",
              "      }\n",
              "      const div = document.createElement('div');\n",
              "      const label = document.createElement('label');\n",
              "      label.textContent = `Downloading \"${filename}\": `;\n",
              "      div.appendChild(label);\n",
              "      const progress = document.createElement('progress');\n",
              "      progress.max = size;\n",
              "      div.appendChild(progress);\n",
              "      document.body.appendChild(div);\n",
              "\n",
              "      const buffers = [];\n",
              "      let downloaded = 0;\n",
              "\n",
              "      const channel = await google.colab.kernel.comms.open(id);\n",
              "      // Send a message to notify the kernel that we're ready.\n",
              "      channel.send({})\n",
              "\n",
              "      for await (const message of channel.messages) {\n",
              "        // Send a message to notify the kernel that we're ready.\n",
              "        channel.send({})\n",
              "        if (message.buffers) {\n",
              "          for (const buffer of message.buffers) {\n",
              "            buffers.push(buffer);\n",
              "            downloaded += buffer.byteLength;\n",
              "            progress.value = downloaded;\n",
              "          }\n",
              "        }\n",
              "      }\n",
              "      const blob = new Blob(buffers, {type: 'application/binary'});\n",
              "      const a = document.createElement('a');\n",
              "      a.href = window.URL.createObjectURL(blob);\n",
              "      a.download = filename;\n",
              "      div.appendChild(a);\n",
              "      a.click();\n",
              "      div.remove();\n",
              "    }\n",
              "  "
            ],
            "text/plain": [
              "<IPython.core.display.Javascript object>"
            ]
          },
          "metadata": {
            "tags": []
          }
        },
        {
          "output_type": "display_data",
          "data": {
            "application/javascript": [
              "download(\"download_367c2954-97ed-478d-b911-95ae6fb12925\", \"meta_lab_5k.tsv\", 658551)"
            ],
            "text/plain": [
              "<IPython.core.display.Javascript object>"
            ]
          },
          "metadata": {
            "tags": []
          }
        },
        {
          "output_type": "display_data",
          "data": {
            "application/javascript": [
              "\n",
              "    async function download(id, filename, size) {\n",
              "      if (!google.colab.kernel.accessAllowed) {\n",
              "        return;\n",
              "      }\n",
              "      const div = document.createElement('div');\n",
              "      const label = document.createElement('label');\n",
              "      label.textContent = `Downloading \"${filename}\": `;\n",
              "      div.appendChild(label);\n",
              "      const progress = document.createElement('progress');\n",
              "      progress.max = size;\n",
              "      div.appendChild(progress);\n",
              "      document.body.appendChild(div);\n",
              "\n",
              "      const buffers = [];\n",
              "      let downloaded = 0;\n",
              "\n",
              "      const channel = await google.colab.kernel.comms.open(id);\n",
              "      // Send a message to notify the kernel that we're ready.\n",
              "      channel.send({})\n",
              "\n",
              "      for await (const message of channel.messages) {\n",
              "        // Send a message to notify the kernel that we're ready.\n",
              "        channel.send({})\n",
              "        if (message.buffers) {\n",
              "          for (const buffer of message.buffers) {\n",
              "            buffers.push(buffer);\n",
              "            downloaded += buffer.byteLength;\n",
              "            progress.value = downloaded;\n",
              "          }\n",
              "        }\n",
              "      }\n",
              "      const blob = new Blob(buffers, {type: 'application/binary'});\n",
              "      const a = document.createElement('a');\n",
              "      a.href = window.URL.createObjectURL(blob);\n",
              "      a.download = filename;\n",
              "      div.appendChild(a);\n",
              "      a.click();\n",
              "      div.remove();\n",
              "    }\n",
              "  "
            ],
            "text/plain": [
              "<IPython.core.display.Javascript object>"
            ]
          },
          "metadata": {
            "tags": []
          }
        },
        {
          "output_type": "display_data",
          "data": {
            "application/javascript": [
              "download(\"download_970224f9-713f-4894-aaa6-0753297f4d38\", \"vecs.parquet\", 15239978)"
            ],
            "text/plain": [
              "<IPython.core.display.Javascript object>"
            ]
          },
          "metadata": {
            "tags": []
          }
        },
        {
          "output_type": "display_data",
          "data": {
            "application/javascript": [
              "\n",
              "    async function download(id, filename, size) {\n",
              "      if (!google.colab.kernel.accessAllowed) {\n",
              "        return;\n",
              "      }\n",
              "      const div = document.createElement('div');\n",
              "      const label = document.createElement('label');\n",
              "      label.textContent = `Downloading \"${filename}\": `;\n",
              "      div.appendChild(label);\n",
              "      const progress = document.createElement('progress');\n",
              "      progress.max = size;\n",
              "      div.appendChild(progress);\n",
              "      document.body.appendChild(div);\n",
              "\n",
              "      const buffers = [];\n",
              "      let downloaded = 0;\n",
              "\n",
              "      const channel = await google.colab.kernel.comms.open(id);\n",
              "      // Send a message to notify the kernel that we're ready.\n",
              "      channel.send({})\n",
              "\n",
              "      for await (const message of channel.messages) {\n",
              "        // Send a message to notify the kernel that we're ready.\n",
              "        channel.send({})\n",
              "        if (message.buffers) {\n",
              "          for (const buffer of message.buffers) {\n",
              "            buffers.push(buffer);\n",
              "            downloaded += buffer.byteLength;\n",
              "            progress.value = downloaded;\n",
              "          }\n",
              "        }\n",
              "      }\n",
              "      const blob = new Blob(buffers, {type: 'application/binary'});\n",
              "      const a = document.createElement('a');\n",
              "      a.href = window.URL.createObjectURL(blob);\n",
              "      a.download = filename;\n",
              "      div.appendChild(a);\n",
              "      a.click();\n",
              "      div.remove();\n",
              "    }\n",
              "  "
            ],
            "text/plain": [
              "<IPython.core.display.Javascript object>"
            ]
          },
          "metadata": {
            "tags": []
          }
        },
        {
          "output_type": "display_data",
          "data": {
            "application/javascript": [
              "download(\"download_27a03e8b-804d-4301-9cad-827d04e4c25d\", \"vecs0.parquet\", 155614346)"
            ],
            "text/plain": [
              "<IPython.core.display.Javascript object>"
            ]
          },
          "metadata": {
            "tags": []
          }
        },
        {
          "output_type": "display_data",
          "data": {
            "application/javascript": [
              "\n",
              "    async function download(id, filename, size) {\n",
              "      if (!google.colab.kernel.accessAllowed) {\n",
              "        return;\n",
              "      }\n",
              "      const div = document.createElement('div');\n",
              "      const label = document.createElement('label');\n",
              "      label.textContent = `Downloading \"${filename}\": `;\n",
              "      div.appendChild(label);\n",
              "      const progress = document.createElement('progress');\n",
              "      progress.max = size;\n",
              "      div.appendChild(progress);\n",
              "      document.body.appendChild(div);\n",
              "\n",
              "      const buffers = [];\n",
              "      let downloaded = 0;\n",
              "\n",
              "      const channel = await google.colab.kernel.comms.open(id);\n",
              "      // Send a message to notify the kernel that we're ready.\n",
              "      channel.send({})\n",
              "\n",
              "      for await (const message of channel.messages) {\n",
              "        // Send a message to notify the kernel that we're ready.\n",
              "        channel.send({})\n",
              "        if (message.buffers) {\n",
              "          for (const buffer of message.buffers) {\n",
              "            buffers.push(buffer);\n",
              "            downloaded += buffer.byteLength;\n",
              "            progress.value = downloaded;\n",
              "          }\n",
              "        }\n",
              "      }\n",
              "      const blob = new Blob(buffers, {type: 'application/binary'});\n",
              "      const a = document.createElement('a');\n",
              "      a.href = window.URL.createObjectURL(blob);\n",
              "      a.download = filename;\n",
              "      div.appendChild(a);\n",
              "      a.click();\n",
              "      div.remove();\n",
              "    }\n",
              "  "
            ],
            "text/plain": [
              "<IPython.core.display.Javascript object>"
            ]
          },
          "metadata": {
            "tags": []
          }
        },
        {
          "output_type": "display_data",
          "data": {
            "application/javascript": [
              "download(\"download_bb6b139b-d365-4455-8090-ef797761e50f\", \"meta.parquet\", 3745796)"
            ],
            "text/plain": [
              "<IPython.core.display.Javascript object>"
            ]
          },
          "metadata": {
            "tags": []
          }
        },
        {
          "output_type": "display_data",
          "data": {
            "application/javascript": [
              "\n",
              "    async function download(id, filename, size) {\n",
              "      if (!google.colab.kernel.accessAllowed) {\n",
              "        return;\n",
              "      }\n",
              "      const div = document.createElement('div');\n",
              "      const label = document.createElement('label');\n",
              "      label.textContent = `Downloading \"${filename}\": `;\n",
              "      div.appendChild(label);\n",
              "      const progress = document.createElement('progress');\n",
              "      progress.max = size;\n",
              "      div.appendChild(progress);\n",
              "      document.body.appendChild(div);\n",
              "\n",
              "      const buffers = [];\n",
              "      let downloaded = 0;\n",
              "\n",
              "      const channel = await google.colab.kernel.comms.open(id);\n",
              "      // Send a message to notify the kernel that we're ready.\n",
              "      channel.send({})\n",
              "\n",
              "      for await (const message of channel.messages) {\n",
              "        // Send a message to notify the kernel that we're ready.\n",
              "        channel.send({})\n",
              "        if (message.buffers) {\n",
              "          for (const buffer of message.buffers) {\n",
              "            buffers.push(buffer);\n",
              "            downloaded += buffer.byteLength;\n",
              "            progress.value = downloaded;\n",
              "          }\n",
              "        }\n",
              "      }\n",
              "      const blob = new Blob(buffers, {type: 'application/binary'});\n",
              "      const a = document.createElement('a');\n",
              "      a.href = window.URL.createObjectURL(blob);\n",
              "      a.download = filename;\n",
              "      div.appendChild(a);\n",
              "      a.click();\n",
              "      div.remove();\n",
              "    }\n",
              "  "
            ],
            "text/plain": [
              "<IPython.core.display.Javascript object>"
            ]
          },
          "metadata": {
            "tags": []
          }
        },
        {
          "output_type": "display_data",
          "data": {
            "application/javascript": [
              "download(\"download_81141256-f9bc-4f14-862b-ed2d87c3b42b\", \"meta_lab.parquet\", 4187683)"
            ],
            "text/plain": [
              "<IPython.core.display.Javascript object>"
            ]
          },
          "metadata": {
            "tags": []
          }
        }
      ]
    },
    {
      "cell_type": "code",
      "metadata": {
        "id": "iKC82xBzrOmB"
      },
      "source": [
        ""
      ],
      "execution_count": null,
      "outputs": []
    }
  ]
}