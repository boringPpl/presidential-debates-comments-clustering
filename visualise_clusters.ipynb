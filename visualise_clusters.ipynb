{
  "nbformat": 4,
  "nbformat_minor": 0,
  "metadata": {
    "kernelspec": {
      "display_name": "Python 3",
      "language": "python",
      "name": "python3"
    },
    "language_info": {
      "codemirror_mode": {
        "name": "ipython",
        "version": 3
      },
      "file_extension": ".py",
      "mimetype": "text/x-python",
      "name": "python",
      "nbconvert_exporter": "python",
      "pygments_lexer": "ipython3",
      "version": "3.8.5"
    },
    "colab": {
      "name": "visualise_clusters.ipynb",
      "provenance": [],
<<<<<<< Updated upstream
=======
<<<<<<< HEAD
      "collapsed_sections": []
=======
>>>>>>> Stashed changes
      "collapsed_sections": [
        "TDY2SzmOp8ST",
        "AhDMT6Fup8SV"
      ]
<<<<<<< Updated upstream
=======
>>>>>>> 1a43c35980a32fc6a0d4a871d34569baf8a58066
>>>>>>> Stashed changes
    }
  },
  "cells": [
    {
      "cell_type": "markdown",
      "metadata": {
        "id": "Ftnoh1blp8SO"
      },
      "source": [
        "# Visualise Clusters\n",
        "\n",
        "\n",
        "## 1. Setup\n",
        "\n",
        "```bash\n",
        "conda update -n base -c defaults conda\n",
        "conda install -c conda-forge hdbscan\n",
        "```"
      ]
    },
    {
      "cell_type": "code",
      "metadata": {
        "id": "03jNMGeDsEjz",
        "colab": {
          "base_uri": "https://localhost:8080/"
        },
<<<<<<< Updated upstream
        "outputId": "2c415028-451b-4f65-8ee0-08b2ac17fd5b"
=======
<<<<<<< HEAD
        "outputId": "e4649e06-abdc-45db-ecbe-4ee0b18c07f5"
=======
        "outputId": "2c415028-451b-4f65-8ee0-08b2ac17fd5b"
>>>>>>> 1a43c35980a32fc6a0d4a871d34569baf8a58066
>>>>>>> Stashed changes
      },
      "source": [
        "!lscpu"
      ],
<<<<<<< Updated upstream
      "execution_count": 1,
=======
<<<<<<< HEAD
      "execution_count": 2,
=======
      "execution_count": 1,
>>>>>>> 1a43c35980a32fc6a0d4a871d34569baf8a58066
>>>>>>> Stashed changes
      "outputs": [
        {
          "output_type": "stream",
          "text": [
            "Architecture:        x86_64\n",
            "CPU op-mode(s):      32-bit, 64-bit\n",
            "Byte Order:          Little Endian\n",
            "CPU(s):              2\n",
            "On-line CPU(s) list: 0,1\n",
            "Thread(s) per core:  2\n",
            "Core(s) per socket:  1\n",
            "Socket(s):           1\n",
            "NUMA node(s):        1\n",
            "Vendor ID:           GenuineIntel\n",
            "CPU family:          6\n",
            "Model:               79\n",
            "Model name:          Intel(R) Xeon(R) CPU @ 2.20GHz\n",
            "Stepping:            0\n",
            "CPU MHz:             2199.998\n",
            "BogoMIPS:            4399.99\n",
            "Hypervisor vendor:   KVM\n",
            "Virtualization type: full\n",
            "L1d cache:           32K\n",
            "L1i cache:           32K\n",
            "L2 cache:            256K\n",
            "L3 cache:            56320K\n",
            "NUMA node0 CPU(s):   0,1\n",
            "Flags:               fpu vme de pse tsc msr pae mce cx8 apic sep mtrr pge mca cmov pat pse36 clflush mmx fxsr sse sse2 ss ht syscall nx pdpe1gb rdtscp lm constant_tsc rep_good nopl xtopology nonstop_tsc cpuid tsc_known_freq pni pclmulqdq ssse3 fma cx16 pcid sse4_1 sse4_2 x2apic movbe popcnt aes xsave avx f16c rdrand hypervisor lahf_lm abm 3dnowprefetch invpcid_single ssbd ibrs ibpb stibp fsgsbase tsc_adjust bmi1 hle avx2 smep bmi2 erms invpcid rtm rdseed adx smap xsaveopt arat md_clear arch_capabilities\n"
          ],
          "name": "stdout"
        }
      ]
    },
    {
      "cell_type": "code",
      "metadata": {
        "id": "Jswi-JpCrQwV",
        "colab": {
          "base_uri": "https://localhost:8080/"
        },
<<<<<<< Updated upstream
        "outputId": "fd79ab0a-bd7a-4b7a-b413-04272a4ceb98"
=======
<<<<<<< HEAD
        "outputId": "ec23546a-c618-4727-de89-2735e47f5462"
=======
        "outputId": "fd79ab0a-bd7a-4b7a-b413-04272a4ceb98"
>>>>>>> 1a43c35980a32fc6a0d4a871d34569baf8a58066
>>>>>>> Stashed changes
      },
      "source": [
        "!git clone https://github.com/boringPpl/presidential_debates_comments_clustering.git\n",
        "%cd presidential_debates_comments_clustering\n",
        "!pip install -q hdbscan umap-learn"
      ],
<<<<<<< Updated upstream
      "execution_count": 2,
=======
<<<<<<< HEAD
      "execution_count": 3,
=======
      "execution_count": 2,
>>>>>>> 1a43c35980a32fc6a0d4a871d34569baf8a58066
>>>>>>> Stashed changes
      "outputs": [
        {
          "output_type": "stream",
          "text": [
            "Cloning into 'presidential_debates_comments_clustering'...\n",
<<<<<<< Updated upstream
=======
<<<<<<< HEAD
            "remote: Enumerating objects: 230, done.\u001b[K\n",
            "remote: Counting objects: 100% (63/63), done.\u001b[K\n",
            "remote: Compressing objects: 100% (39/39), done.\u001b[K\n",
            "remote: Total 230 (delta 26), reused 60 (delta 24), pack-reused 167\u001b[K\n",
            "Receiving objects: 100% (230/230), 138.54 MiB | 27.64 MiB/s, done.\n",
            "Resolving deltas: 100% (98/98), done.\n",
            "Checking out files: 100% (38/38), done.\n",
            "/content/presidential_debates_comments_clustering\n",
            "\u001b[K     |████████████████████████████████| 6.4 MB 25.1 MB/s \n",
            "\u001b[?25h  Installing build dependencies ... \u001b[?25l\u001b[?25hdone\n",
            "  Getting requirements to build wheel ... \u001b[?25l\u001b[?25hdone\n",
            "    Preparing wheel metadata ... \u001b[?25l\u001b[?25hdone\n",
            "\u001b[K     |████████████████████████████████| 80 kB 6.5 MB/s \n",
            "\u001b[K     |████████████████████████████████| 1.1 MB 44.0 MB/s \n",
=======
>>>>>>> Stashed changes
            "remote: Enumerating objects: 226, done.\u001b[K\n",
            "remote: Counting objects: 100% (59/59), done.\u001b[K\n",
            "remote: Compressing objects: 100% (35/35), done.\u001b[K\n",
            "remote: Total 226 (delta 25), reused 58 (delta 24), pack-reused 167\u001b[K\n",
            "Receiving objects: 100% (226/226), 138.90 MiB | 29.57 MiB/s, done.\n",
            "Resolving deltas: 100% (101/101), done.\n",
            "Checking out files: 100% (38/38), done.\n",
            "/content/presidential_debates_comments_clustering\n",
            "\u001b[K     |████████████████████████████████| 6.4MB 31.4MB/s \n",
            "\u001b[?25h  Installing build dependencies ... \u001b[?25l\u001b[?25hdone\n",
            "  Getting requirements to build wheel ... \u001b[?25l\u001b[?25hdone\n",
            "    Preparing wheel metadata ... \u001b[?25l\u001b[?25hdone\n",
            "\u001b[K     |████████████████████████████████| 81kB 9.6MB/s \n",
            "\u001b[K     |████████████████████████████████| 1.1MB 48.1MB/s \n",
<<<<<<< Updated upstream
=======
>>>>>>> 1a43c35980a32fc6a0d4a871d34569baf8a58066
>>>>>>> Stashed changes
            "\u001b[?25h  Building wheel for hdbscan (PEP 517) ... \u001b[?25l\u001b[?25hdone\n",
            "  Building wheel for umap-learn (setup.py) ... \u001b[?25l\u001b[?25hdone\n",
            "  Building wheel for pynndescent (setup.py) ... \u001b[?25l\u001b[?25hdone\n"
          ],
          "name": "stdout"
        }
      ]
    },
    {
      "cell_type": "code",
      "metadata": {
        "id": "MfjP4nigp8SR"
      },
      "source": [
        "import hdbscan\n",
        "import matplotlib.pyplot as plt\n",
        "import numpy as np\n",
        "import pandas as pd\n",
        "import seaborn as sns"
      ],
<<<<<<< Updated upstream
      "execution_count": 3,
=======
<<<<<<< HEAD
      "execution_count": 4,
=======
      "execution_count": 3,
>>>>>>> 1a43c35980a32fc6a0d4a871d34569baf8a58066
>>>>>>> Stashed changes
      "outputs": []
    },
    {
      "cell_type": "code",
      "metadata": {
        "id": "VxlbtsAZp8SS",
        "colab": {
          "base_uri": "https://localhost:8080/"
        },
<<<<<<< Updated upstream
        "outputId": "d00419cd-31ae-4ecc-8914-0cf2396c0b2d"
=======
<<<<<<< HEAD
        "outputId": "8c70ad0c-d8f5-47e6-b0c5-d62e1fa8b0bd"
=======
        "outputId": "d00419cd-31ae-4ecc-8914-0cf2396c0b2d"
>>>>>>> 1a43c35980a32fc6a0d4a871d34569baf8a58066
>>>>>>> Stashed changes
      },
      "source": [
        "# !head -1 cluster_data/vecs1_5k.tsv\n",
        "# vecs1 = pd.read_csv(\"cluster_data/vecs1_5k.tsv\", sep='\\t', header=None)\n",
        "# vecs2 = pd.read_csv(\"cluster_data/vecs2_5k.tsv\", sep='\\t', header=None)\n",
        "vecs1 = pd.read_parquet(\"cluster_data/vecs1.parquet\")\n",
        "vecs2 = pd.read_parquet(\"cluster_data/vecs2.parquet\")\n",
        "print(f\"Shape of vecs1: {vecs1.shape}\")\n",
        "print(f\"Shape of vecs2: {vecs2.shape}\")"
      ],
<<<<<<< Updated upstream
      "execution_count": 4,
=======
<<<<<<< HEAD
      "execution_count": 5,
=======
      "execution_count": 4,
>>>>>>> 1a43c35980a32fc6a0d4a871d34569baf8a58066
>>>>>>> Stashed changes
      "outputs": [
        {
          "output_type": "stream",
          "text": [
            "Shape of vecs1: (50889, 50)\n",
            "Shape of vecs2: (47164, 50)\n"
          ],
          "name": "stdout"
        }
      ]
    },
    {
      "cell_type": "code",
      "metadata": {
        "id": "ag3mXgjSp8ST",
        "colab": {
          "base_uri": "https://localhost:8080/"
        },
<<<<<<< Updated upstream
        "outputId": "5cd46bab-9ef1-4788-8ce4-be32989f3b8b"
=======
<<<<<<< HEAD
        "outputId": "926f94ee-6bc0-4479-f134-dbd0d5d13dff"
=======
        "outputId": "5cd46bab-9ef1-4788-8ce4-be32989f3b8b"
>>>>>>> 1a43c35980a32fc6a0d4a871d34569baf8a58066
>>>>>>> Stashed changes
      },
      "source": [
        "# meta_lab1 = pd.read_csv(\"cluster_data/meta_lab1_5k.tsv\", sep='\\t')\n",
        "# meta_lab2 = pd.read_csv(\"cluster_data/meta_lab2_5k.tsv\", sep='\\t')\n",
        "meta_lab1 = pd.read_parquet(\"cluster_data/meta_lab1.parquet\")\n",
        "meta_lab2 = pd.read_parquet(\"cluster_data/meta_lab2.parquet\")\n",
        "print(f\"Shape of meta_lab1: {meta_lab1.shape}\")\n",
        "print(f\"Shape of meta_lab2: {meta_lab2.shape}\")"
      ],
<<<<<<< Updated upstream
      "execution_count": 5,
=======
<<<<<<< HEAD
      "execution_count": 6,
=======
      "execution_count": 5,
>>>>>>> 1a43c35980a32fc6a0d4a871d34569baf8a58066
>>>>>>> Stashed changes
      "outputs": [
        {
          "output_type": "stream",
          "text": [
            "Shape of meta_lab1: (50889, 2)\n",
            "Shape of meta_lab2: (47164, 2)\n"
          ],
          "name": "stdout"
        }
      ]
    },
    {
      "cell_type": "code",
      "metadata": {
        "colab": {
          "base_uri": "https://localhost:8080/",
          "height": 224
        },
        "id": "G4IpF8xV8oAE",
        "outputId": "728ef46d-f580-4ac1-ce6f-fab8dc496659"
      },
      "source": [
        "vecs1.head()"
      ],
      "execution_count": 29,
      "outputs": [
        {
          "output_type": "execute_result",
          "data": {
            "text/html": [
              "<div>\n",
              "<style scoped>\n",
              "    .dataframe tbody tr th:only-of-type {\n",
              "        vertical-align: middle;\n",
              "    }\n",
              "\n",
              "    .dataframe tbody tr th {\n",
              "        vertical-align: top;\n",
              "    }\n",
              "\n",
              "    .dataframe thead th {\n",
              "        text-align: right;\n",
              "    }\n",
              "</style>\n",
              "<table border=\"1\" class=\"dataframe\">\n",
              "  <thead>\n",
              "    <tr style=\"text-align: right;\">\n",
              "      <th></th>\n",
              "      <th>0</th>\n",
              "      <th>1</th>\n",
              "      <th>2</th>\n",
              "      <th>3</th>\n",
              "      <th>4</th>\n",
              "      <th>5</th>\n",
              "      <th>6</th>\n",
              "      <th>7</th>\n",
              "      <th>8</th>\n",
              "      <th>9</th>\n",
              "      <th>10</th>\n",
              "      <th>11</th>\n",
              "      <th>12</th>\n",
              "      <th>13</th>\n",
              "      <th>14</th>\n",
              "      <th>15</th>\n",
              "      <th>16</th>\n",
              "      <th>17</th>\n",
              "      <th>18</th>\n",
              "      <th>19</th>\n",
              "      <th>20</th>\n",
              "      <th>21</th>\n",
              "      <th>22</th>\n",
              "      <th>23</th>\n",
              "      <th>24</th>\n",
              "      <th>25</th>\n",
              "      <th>26</th>\n",
              "      <th>27</th>\n",
              "      <th>28</th>\n",
              "      <th>29</th>\n",
              "      <th>30</th>\n",
              "      <th>31</th>\n",
              "      <th>32</th>\n",
              "      <th>33</th>\n",
              "      <th>34</th>\n",
              "      <th>35</th>\n",
              "      <th>36</th>\n",
              "      <th>37</th>\n",
              "      <th>38</th>\n",
              "      <th>39</th>\n",
              "      <th>40</th>\n",
              "      <th>41</th>\n",
              "      <th>42</th>\n",
              "      <th>43</th>\n",
              "      <th>44</th>\n",
              "      <th>45</th>\n",
              "      <th>46</th>\n",
              "      <th>47</th>\n",
              "      <th>48</th>\n",
              "      <th>49</th>\n",
              "    </tr>\n",
              "  </thead>\n",
              "  <tbody>\n",
              "    <tr>\n",
              "      <th>0</th>\n",
              "      <td>1.313688</td>\n",
              "      <td>-0.512513</td>\n",
              "      <td>-0.207732</td>\n",
              "      <td>0.043059</td>\n",
              "      <td>0.157144</td>\n",
              "      <td>-0.375306</td>\n",
              "      <td>0.419370</td>\n",
              "      <td>-0.285234</td>\n",
              "      <td>-0.085951</td>\n",
              "      <td>0.136850</td>\n",
              "      <td>-0.098335</td>\n",
              "      <td>-0.000991</td>\n",
              "      <td>0.127950</td>\n",
              "      <td>0.134702</td>\n",
              "      <td>0.338932</td>\n",
              "      <td>-0.341461</td>\n",
              "      <td>-0.299435</td>\n",
              "      <td>0.208215</td>\n",
              "      <td>-0.113206</td>\n",
              "      <td>0.168908</td>\n",
              "      <td>0.131415</td>\n",
              "      <td>0.028014</td>\n",
              "      <td>-0.112246</td>\n",
              "      <td>0.222907</td>\n",
              "      <td>0.161734</td>\n",
              "      <td>0.098160</td>\n",
              "      <td>-0.013518</td>\n",
              "      <td>0.296534</td>\n",
              "      <td>-0.215466</td>\n",
              "      <td>0.007966</td>\n",
              "      <td>0.202129</td>\n",
              "      <td>-0.203425</td>\n",
              "      <td>-0.305630</td>\n",
              "      <td>-0.519923</td>\n",
              "      <td>0.261199</td>\n",
              "      <td>-0.266853</td>\n",
              "      <td>-0.042500</td>\n",
              "      <td>0.421814</td>\n",
              "      <td>0.390997</td>\n",
              "      <td>-0.083525</td>\n",
              "      <td>0.413859</td>\n",
              "      <td>-0.119872</td>\n",
              "      <td>-0.035986</td>\n",
              "      <td>-0.187366</td>\n",
              "      <td>0.111067</td>\n",
              "      <td>-0.029850</td>\n",
              "      <td>-0.149186</td>\n",
              "      <td>0.168646</td>\n",
              "      <td>-0.049566</td>\n",
              "      <td>-0.063726</td>\n",
              "    </tr>\n",
              "    <tr>\n",
              "      <th>1</th>\n",
              "      <td>0.689358</td>\n",
              "      <td>0.226475</td>\n",
              "      <td>-0.964849</td>\n",
              "      <td>1.136580</td>\n",
              "      <td>-0.311536</td>\n",
              "      <td>0.662296</td>\n",
              "      <td>-0.419280</td>\n",
              "      <td>-0.014195</td>\n",
              "      <td>0.002419</td>\n",
              "      <td>-0.393420</td>\n",
              "      <td>-0.043127</td>\n",
              "      <td>-0.401190</td>\n",
              "      <td>0.207515</td>\n",
              "      <td>0.862480</td>\n",
              "      <td>-0.201009</td>\n",
              "      <td>-0.058001</td>\n",
              "      <td>0.366041</td>\n",
              "      <td>-0.309371</td>\n",
              "      <td>0.686922</td>\n",
              "      <td>-0.155445</td>\n",
              "      <td>-0.020472</td>\n",
              "      <td>0.299558</td>\n",
              "      <td>-0.137516</td>\n",
              "      <td>-0.127560</td>\n",
              "      <td>0.046674</td>\n",
              "      <td>0.014269</td>\n",
              "      <td>-0.247427</td>\n",
              "      <td>0.170317</td>\n",
              "      <td>0.175874</td>\n",
              "      <td>-0.070140</td>\n",
              "      <td>-0.068942</td>\n",
              "      <td>-0.150361</td>\n",
              "      <td>0.020233</td>\n",
              "      <td>-0.132149</td>\n",
              "      <td>-0.036769</td>\n",
              "      <td>0.105407</td>\n",
              "      <td>0.049117</td>\n",
              "      <td>-0.093280</td>\n",
              "      <td>0.028974</td>\n",
              "      <td>-0.167305</td>\n",
              "      <td>-0.107784</td>\n",
              "      <td>0.039604</td>\n",
              "      <td>0.024750</td>\n",
              "      <td>-0.047668</td>\n",
              "      <td>0.109440</td>\n",
              "      <td>-0.310336</td>\n",
              "      <td>0.077474</td>\n",
              "      <td>-0.154084</td>\n",
              "      <td>0.096569</td>\n",
              "      <td>0.065059</td>\n",
              "    </tr>\n",
              "    <tr>\n",
              "      <th>2</th>\n",
              "      <td>1.597490</td>\n",
              "      <td>0.089166</td>\n",
              "      <td>0.158143</td>\n",
              "      <td>0.071241</td>\n",
              "      <td>0.318027</td>\n",
              "      <td>0.404058</td>\n",
              "      <td>0.023588</td>\n",
              "      <td>0.147652</td>\n",
              "      <td>-0.017239</td>\n",
              "      <td>0.486367</td>\n",
              "      <td>-0.010543</td>\n",
              "      <td>0.068922</td>\n",
              "      <td>-0.099604</td>\n",
              "      <td>-0.215154</td>\n",
              "      <td>-0.211547</td>\n",
              "      <td>0.058958</td>\n",
              "      <td>-0.085510</td>\n",
              "      <td>-0.258873</td>\n",
              "      <td>-0.049515</td>\n",
              "      <td>-0.082999</td>\n",
              "      <td>-0.192637</td>\n",
              "      <td>-0.172104</td>\n",
              "      <td>0.075122</td>\n",
              "      <td>0.322938</td>\n",
              "      <td>0.098297</td>\n",
              "      <td>0.305362</td>\n",
              "      <td>0.219523</td>\n",
              "      <td>-0.238528</td>\n",
              "      <td>0.136858</td>\n",
              "      <td>0.150440</td>\n",
              "      <td>-0.213113</td>\n",
              "      <td>0.009891</td>\n",
              "      <td>-0.119561</td>\n",
              "      <td>-0.220116</td>\n",
              "      <td>-0.052719</td>\n",
              "      <td>-0.336930</td>\n",
              "      <td>-0.442419</td>\n",
              "      <td>0.208521</td>\n",
              "      <td>0.002196</td>\n",
              "      <td>-0.313699</td>\n",
              "      <td>-0.221949</td>\n",
              "      <td>-0.087546</td>\n",
              "      <td>-0.286674</td>\n",
              "      <td>-0.107892</td>\n",
              "      <td>0.043592</td>\n",
              "      <td>0.044139</td>\n",
              "      <td>-0.129486</td>\n",
              "      <td>0.015257</td>\n",
              "      <td>-0.280108</td>\n",
              "      <td>-0.182496</td>\n",
              "    </tr>\n",
              "    <tr>\n",
              "      <th>3</th>\n",
              "      <td>1.439098</td>\n",
              "      <td>-0.305368</td>\n",
              "      <td>-0.253538</td>\n",
              "      <td>0.036085</td>\n",
              "      <td>0.105374</td>\n",
              "      <td>-0.035406</td>\n",
              "      <td>-0.008216</td>\n",
              "      <td>-0.078290</td>\n",
              "      <td>-0.088265</td>\n",
              "      <td>0.113093</td>\n",
              "      <td>-0.170980</td>\n",
              "      <td>0.115174</td>\n",
              "      <td>-0.075911</td>\n",
              "      <td>0.202013</td>\n",
              "      <td>0.404639</td>\n",
              "      <td>-0.312287</td>\n",
              "      <td>-0.052738</td>\n",
              "      <td>0.321047</td>\n",
              "      <td>-0.274521</td>\n",
              "      <td>-0.058644</td>\n",
              "      <td>0.018355</td>\n",
              "      <td>-0.604123</td>\n",
              "      <td>-0.087026</td>\n",
              "      <td>0.211519</td>\n",
              "      <td>0.039096</td>\n",
              "      <td>0.106786</td>\n",
              "      <td>-0.000992</td>\n",
              "      <td>-0.087410</td>\n",
              "      <td>-0.169438</td>\n",
              "      <td>-0.075487</td>\n",
              "      <td>0.251129</td>\n",
              "      <td>0.126799</td>\n",
              "      <td>-0.300119</td>\n",
              "      <td>0.138469</td>\n",
              "      <td>-0.047558</td>\n",
              "      <td>-0.187252</td>\n",
              "      <td>-0.206379</td>\n",
              "      <td>0.280177</td>\n",
              "      <td>-0.077791</td>\n",
              "      <td>-0.068197</td>\n",
              "      <td>0.276622</td>\n",
              "      <td>-0.034653</td>\n",
              "      <td>0.004380</td>\n",
              "      <td>-0.044147</td>\n",
              "      <td>0.164642</td>\n",
              "      <td>0.044199</td>\n",
              "      <td>-0.222844</td>\n",
              "      <td>-0.301126</td>\n",
              "      <td>0.037728</td>\n",
              "      <td>-0.096336</td>\n",
              "    </tr>\n",
              "    <tr>\n",
              "      <th>4</th>\n",
              "      <td>-0.361371</td>\n",
              "      <td>-0.696536</td>\n",
              "      <td>0.096873</td>\n",
              "      <td>0.283011</td>\n",
              "      <td>0.067292</td>\n",
              "      <td>0.156770</td>\n",
              "      <td>-0.311127</td>\n",
              "      <td>-0.004818</td>\n",
              "      <td>-0.544130</td>\n",
              "      <td>-0.422213</td>\n",
              "      <td>0.055704</td>\n",
              "      <td>0.391052</td>\n",
              "      <td>-0.077278</td>\n",
              "      <td>-0.162208</td>\n",
              "      <td>-0.111688</td>\n",
              "      <td>-0.201578</td>\n",
              "      <td>-0.177140</td>\n",
              "      <td>0.084618</td>\n",
              "      <td>0.055756</td>\n",
              "      <td>-0.118217</td>\n",
              "      <td>0.029305</td>\n",
              "      <td>0.062861</td>\n",
              "      <td>-0.309313</td>\n",
              "      <td>0.032878</td>\n",
              "      <td>-0.207900</td>\n",
              "      <td>0.193961</td>\n",
              "      <td>0.020496</td>\n",
              "      <td>-0.123940</td>\n",
              "      <td>-0.068509</td>\n",
              "      <td>-0.143110</td>\n",
              "      <td>-0.017810</td>\n",
              "      <td>0.433144</td>\n",
              "      <td>-0.037051</td>\n",
              "      <td>0.567275</td>\n",
              "      <td>-0.065362</td>\n",
              "      <td>-0.263600</td>\n",
              "      <td>0.101670</td>\n",
              "      <td>-0.244255</td>\n",
              "      <td>0.064045</td>\n",
              "      <td>-0.024622</td>\n",
              "      <td>-0.098489</td>\n",
              "      <td>0.263168</td>\n",
              "      <td>0.214644</td>\n",
              "      <td>-0.361542</td>\n",
              "      <td>-0.197097</td>\n",
              "      <td>0.084475</td>\n",
              "      <td>0.126738</td>\n",
              "      <td>-0.197691</td>\n",
              "      <td>0.254852</td>\n",
              "      <td>0.342572</td>\n",
              "    </tr>\n",
              "  </tbody>\n",
              "</table>\n",
              "</div>"
            ],
            "text/plain": [
              "          0         1         2  ...        47        48        49\n",
              "0  1.313688 -0.512513 -0.207732  ...  0.168646 -0.049566 -0.063726\n",
              "1  0.689358  0.226475 -0.964849  ... -0.154084  0.096569  0.065059\n",
              "2  1.597490  0.089166  0.158143  ...  0.015257 -0.280108 -0.182496\n",
              "3  1.439098 -0.305368 -0.253538  ... -0.301126  0.037728 -0.096336\n",
              "4 -0.361371 -0.696536  0.096873  ... -0.197691  0.254852  0.342572\n",
              "\n",
              "[5 rows x 50 columns]"
            ]
          },
          "metadata": {
            "tags": []
          },
          "execution_count": 29
        }
      ]
    },
    {
      "cell_type": "code",
      "metadata": {
        "colab": {
          "base_uri": "https://localhost:8080/",
          "height": 204
        },
        "id": "l0xr6LMN8jdl",
        "outputId": "0bd8fa60-5f1a-44cd-d9b8-17c7f7b84e9c"
      },
      "source": [
        "meta_lab1.head()"
      ],
      "execution_count": 28,
      "outputs": [
        {
          "output_type": "execute_result",
          "data": {
            "text/html": [
              "<div>\n",
              "<style scoped>\n",
              "    .dataframe tbody tr th:only-of-type {\n",
              "        vertical-align: middle;\n",
              "    }\n",
              "\n",
              "    .dataframe tbody tr th {\n",
              "        vertical-align: top;\n",
              "    }\n",
              "\n",
              "    .dataframe thead th {\n",
              "        text-align: right;\n",
              "    }\n",
              "</style>\n",
              "<table border=\"1\" class=\"dataframe\">\n",
              "  <thead>\n",
              "    <tr style=\"text-align: right;\">\n",
              "      <th></th>\n",
              "      <th>comment_text</th>\n",
              "      <th>hdb_labels</th>\n",
              "    </tr>\n",
              "  </thead>\n",
              "  <tbody>\n",
              "    <tr>\n",
              "      <th>0</th>\n",
              "      <td>Trump's America: *7M cases* Biden: 200K people...</td>\n",
              "      <td>-1</td>\n",
              "    </tr>\n",
              "    <tr>\n",
              "      <th>1</th>\n",
              "      <td>Wow Joes laugh makes me cringe 😬</td>\n",
              "      <td>104</td>\n",
              "    </tr>\n",
              "    <tr>\n",
              "      <th>2</th>\n",
              "      <td>Dang hate to say it,  Trump seems sharp compar...</td>\n",
              "      <td>-1</td>\n",
              "    </tr>\n",
              "    <tr>\n",
              "      <th>3</th>\n",
              "      <td>HEY BIDEN, I HAVE A FEELING YOU WERE IN ON THE...</td>\n",
              "      <td>-1</td>\n",
              "    </tr>\n",
              "    <tr>\n",
              "      <th>4</th>\n",
              "      <td>FAKE BRIDEN!!!!!!!!!!!!!!!!!!!!!!!!!!!!!!!!!!!...</td>\n",
              "      <td>-1</td>\n",
              "    </tr>\n",
              "  </tbody>\n",
              "</table>\n",
              "</div>"
            ],
            "text/plain": [
              "                                        comment_text  hdb_labels\n",
              "0  Trump's America: *7M cases* Biden: 200K people...          -1\n",
              "1                   Wow Joes laugh makes me cringe 😬         104\n",
              "2  Dang hate to say it,  Trump seems sharp compar...          -1\n",
              "3  HEY BIDEN, I HAVE A FEELING YOU WERE IN ON THE...          -1\n",
              "4  FAKE BRIDEN!!!!!!!!!!!!!!!!!!!!!!!!!!!!!!!!!!!...          -1"
            ]
          },
          "metadata": {
            "tags": []
          },
          "execution_count": 28
        }
      ]
    },
    {
      "cell_type": "markdown",
      "metadata": {
        "id": "TDY2SzmOp8ST"
      },
      "source": [
        "## 2. Create Clusters"
      ]
    },
    {
      "cell_type": "code",
      "metadata": {
        "id": "HlJlmEofp8ST"
      },
      "source": [
        "clusterer = hdbscan.HDBSCAN()  # (min_cluster_size=5, gen_min_span_tree=True)"
      ],
<<<<<<< Updated upstream
      "execution_count": 6,
=======
<<<<<<< HEAD
      "execution_count": 7,
=======
      "execution_count": 6,
>>>>>>> 1a43c35980a32fc6a0d4a871d34569baf8a58066
>>>>>>> Stashed changes
      "outputs": []
    },
    {
      "cell_type": "markdown",
      "metadata": {
        "id": "GJHCpUuop8SU"
      },
      "source": [
        "The following takes about 1.5 minutes"
      ]
    },
    {
      "cell_type": "code",
      "metadata": {
        "id": "sjq5tSJyp8SU",
        "colab": {
          "base_uri": "https://localhost:8080/"
        },
<<<<<<< Updated upstream
        "outputId": "f2a37b48-3b25-4c9c-804d-cafe48224268"
=======
<<<<<<< HEAD
        "outputId": "321c1d11-5842-4362-afa3-84277ded197a"
=======
        "outputId": "f2a37b48-3b25-4c9c-804d-cafe48224268"
>>>>>>> 1a43c35980a32fc6a0d4a871d34569baf8a58066
>>>>>>> Stashed changes
      },
      "source": [
        "%time clusterer.fit(vecs1)"
      ],
<<<<<<< Updated upstream
      "execution_count": 7,
=======
<<<<<<< HEAD
      "execution_count": 8,
=======
      "execution_count": 7,
>>>>>>> 1a43c35980a32fc6a0d4a871d34569baf8a58066
>>>>>>> Stashed changes
      "outputs": [
        {
          "output_type": "stream",
          "text": [
<<<<<<< Updated upstream
            "CPU times: user 45.5 s, sys: 306 ms, total: 45.8 s\n",
            "Wall time: 2min 53s\n"
=======
<<<<<<< HEAD
            "CPU times: user 46.4 s, sys: 392 ms, total: 46.8 s\n",
            "Wall time: 2min 57s\n"
=======
            "CPU times: user 45.5 s, sys: 306 ms, total: 45.8 s\n",
            "Wall time: 2min 53s\n"
>>>>>>> 1a43c35980a32fc6a0d4a871d34569baf8a58066
>>>>>>> Stashed changes
          ],
          "name": "stdout"
        },
        {
          "output_type": "execute_result",
          "data": {
            "text/plain": [
              "HDBSCAN(algorithm='best', allow_single_cluster=False, alpha=1.0,\n",
              "        approx_min_span_tree=True, cluster_selection_epsilon=0.0,\n",
              "        cluster_selection_method='eom', core_dist_n_jobs=4,\n",
              "        gen_min_span_tree=False, leaf_size=40,\n",
              "        match_reference_implementation=False, memory=Memory(location=None),\n",
              "        metric='euclidean', min_cluster_size=5, min_samples=None, p=None,\n",
              "        prediction_data=False)"
            ]
          },
          "metadata": {
            "tags": []
          },
<<<<<<< Updated upstream
          "execution_count": 7
=======
<<<<<<< HEAD
          "execution_count": 8
=======
          "execution_count": 7
>>>>>>> 1a43c35980a32fc6a0d4a871d34569baf8a58066
>>>>>>> Stashed changes
        }
      ]
    },
    {
      "cell_type": "code",
      "metadata": {
        "id": "DOaJgmNNp8SU"
      },
      "source": [
        "df0 = pd.concat((\n",
        "    pd.DataFrame({\n",
        "        'labels': clusterer.labels_,\n",
        "        'probs': clusterer.probabilities_,\n",
        "        'text': meta_lab1['comment_text']\n",
        "    }),\n",
        "    pd.DataFrame(vecs1)\n",
        "), axis=1)"
      ],
<<<<<<< Updated upstream
      "execution_count": 8,
=======
<<<<<<< HEAD
      "execution_count": 31,
=======
      "execution_count": 8,
>>>>>>> 1a43c35980a32fc6a0d4a871d34569baf8a58066
>>>>>>> Stashed changes
      "outputs": []
    },
    {
      "cell_type": "markdown",
      "metadata": {
        "id": "AhDMT6Fup8SV"
      },
      "source": [
        "## 3. Trim Points to n-Color Palette"
      ]
    },
    {
      "cell_type": "code",
      "metadata": {
        "id": "_aVy8vt6p8SV"
      },
      "source": [
        "palette = sns.color_palette()\n",
        "n = len(palette)  # There are only about 10 colors in the palette"
      ],
<<<<<<< Updated upstream
      "execution_count": 9,
=======
<<<<<<< HEAD
      "execution_count": 32,
=======
      "execution_count": 9,
>>>>>>> 1a43c35980a32fc6a0d4a871d34569baf8a58066
>>>>>>> Stashed changes
      "outputs": []
    },
    {
      "cell_type": "code",
      "metadata": {
        "id": "tjp1BA0-p8SV"
      },
      "source": [
        "df = df0.loc[(df0.labels > 0) & (df0.labels < n), :].copy()\n",
        "df_vecs = df.iloc[:, 3:].T.values"
      ],
<<<<<<< Updated upstream
      "execution_count": 10,
=======
<<<<<<< HEAD
      "execution_count": 43,
=======
      "execution_count": 10,
>>>>>>> 1a43c35980a32fc6a0d4a871d34569baf8a58066
>>>>>>> Stashed changes
      "outputs": []
    },
    {
      "cell_type": "code",
      "metadata": {
        "id": "hS8pVrvPp8SW"
      },
      "source": [
        "cluster_colors = [sns.desaturate(palette[col], sat)\n",
        "                  if col >= 0 else (0.5, 0.5, 0.5) for col, sat in\n",
        "                  zip(df.labels.values, df.probs.values)]"
      ],
<<<<<<< Updated upstream
      "execution_count": 11,
=======
<<<<<<< HEAD
      "execution_count": 44,
=======
      "execution_count": 11,
>>>>>>> 1a43c35980a32fc6a0d4a871d34569baf8a58066
>>>>>>> Stashed changes
      "outputs": []
    },
    {
      "cell_type": "markdown",
      "metadata": {
        "id": "dsMeanXop8SW"
      },
      "source": [
        "## 4. Visualize Cluster\n",
        "\n",
        "### 4.1 Principal Component Analysis"
      ]
    },
    {
      "cell_type": "code",
      "metadata": {
        "id": "wjKJ7CaYp8SW",
        "colab": {
          "base_uri": "https://localhost:8080/"
        },
<<<<<<< Updated upstream
        "outputId": "04caad17-a972-40f3-a97e-64a64bc8d66a"
=======
<<<<<<< HEAD
        "outputId": "a49be280-6eae-446b-a8c0-3fc12b0d4ac5"
=======
        "outputId": "04caad17-a972-40f3-a97e-64a64bc8d66a"
>>>>>>> 1a43c35980a32fc6a0d4a871d34569baf8a58066
>>>>>>> Stashed changes
      },
      "source": [
        "from sklearn.decomposition import PCA\n",
        "pca = PCA(n_components=2)\n",
        "pca.fit(df_vecs)"
      ],
<<<<<<< Updated upstream
      "execution_count": 12,
=======
<<<<<<< HEAD
      "execution_count": 45,
=======
      "execution_count": 12,
>>>>>>> 1a43c35980a32fc6a0d4a871d34569baf8a58066
>>>>>>> Stashed changes
      "outputs": [
        {
          "output_type": "execute_result",
          "data": {
            "text/plain": [
              "PCA(copy=True, iterated_power='auto', n_components=2, random_state=None,\n",
              "    svd_solver='auto', tol=0.0, whiten=False)"
            ]
          },
          "metadata": {
            "tags": []
          },
<<<<<<< Updated upstream
          "execution_count": 12
=======
<<<<<<< HEAD
          "execution_count": 45
=======
          "execution_count": 12
>>>>>>> 1a43c35980a32fc6a0d4a871d34569baf8a58066
>>>>>>> Stashed changes
        }
      ]
    },
    {
      "cell_type": "code",
      "metadata": {
<<<<<<< HEAD
=======
        "id": "0AWUleMIp8SW",
<<<<<<< Updated upstream
=======
>>>>>>> 1a43c35980a32fc6a0d4a871d34569baf8a58066
>>>>>>> Stashed changes
        "colab": {
          "base_uri": "https://localhost:8080/",
          "height": 720
        },
<<<<<<< Updated upstream
        "outputId": "3a282990-647e-4fe4-ecb3-8bdaa94d176d"
=======
<<<<<<< HEAD
        "id": "v032g9oL7COK",
        "outputId": "ef8eb3f7-2311-4f77-e0dd-88ac910fc704"
=======
        "outputId": "3a282990-647e-4fe4-ecb3-8bdaa94d176d"
>>>>>>> 1a43c35980a32fc6a0d4a871d34569baf8a58066
>>>>>>> Stashed changes
      },
      "source": [
        "fig, ax = plt.subplots(1, 1, figsize=(12, 12))\n",
        "ax.scatter(pca.components_[0], pca.components_[1], c=cluster_colors, s=200, alpha=0.9)\n",
        "ax.grid(True)\n",
        "ax.set_title(\"PCA\", fontsize=18);"
      ],
<<<<<<< Updated upstream
      "execution_count": 13,
=======
<<<<<<< HEAD
      "execution_count": 46,
=======
      "execution_count": 13,
>>>>>>> 1a43c35980a32fc6a0d4a871d34569baf8a58066
>>>>>>> Stashed changes
      "outputs": [
        {
          "output_type": "display_data",
          "data": {
            "image/png": "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\n",
            "text/plain": [
              "<Figure size 864x864 with 1 Axes>"
            ]
          },
          "metadata": {
            "tags": [],
            "needs_background": "light"
          }
        }
      ]
    },
    {
      "cell_type": "markdown",
      "metadata": {
        "id": "MbhrncLJaG0-"
<<<<<<< Updated upstream
      },
      "source": [
        "### 4.2 TSNE"
      ]
    },
    {
      "cell_type": "code",
      "metadata": {
        "id": "lfuTdIjyaJvE"
      },
      "source": [
        "from sklearn.manifold import TSNE\n",
        "\n",
        "tsne = TSNE(n_components=2)\n",
        "clustertsne = tsne.fit_transform(df_vecs.T)\n",
        "assert clustertsne.shape[0]==len(cluster_colors)"
      ],
      "execution_count": 18,
      "outputs": []
    },
    {
      "cell_type": "code",
      "metadata": {
        "colab": {
          "base_uri": "https://localhost:8080/",
          "height": 720
        },
        "id": "kn5M8bpZa_AE",
        "outputId": "d814947a-a719-4041-a42a-216074c068da"
      },
      "source": [
        "fig, ax = plt.subplots(1, 1, figsize=(12, 12))\n",
        "ax.scatter(clustertsne[:, 0], clustertsne[:, 1], c=cluster_colors, s=200, alpha=0.9)\n",
        "ax.grid(True)\n",
        "ax.set_title(\"TSNE\", fontsize=18);"
      ],
      "execution_count": 19,
      "outputs": [
        {
          "output_type": "display_data",
          "data": {
            "image/png": "iVBORw0KGgoAAAANSUhEUgAAAsgAAAK/CAYAAAB0jDsPAAAABHNCSVQICAgIfAhkiAAAAAlwSFlzAAALEgAACxIB0t1+/AAAADh0RVh0U29mdHdhcmUAbWF0cGxvdGxpYiB2ZXJzaW9uMy4yLjIsIGh0dHA6Ly9tYXRwbG90bGliLm9yZy+WH4yJAAAgAElEQVR4nOzdd5xdVb3///fap0wvmWQyMymkkYSEQCihCpJIkYvS4Sp6+fGlyLVwv14VuXjVq1cRC379Wr8qFwHL1VwRkSogJaBSA4QQCCEV0jMtk0w5c8pevz/OmWQlTDtt5szM6/l4nEfmlL33J5mdmfdZ57PXMtZaAQAAAEjyhrsAAAAAoJAQkAEAAAAHARkAAABwEJABAAAABwEZAAAAcBCQAQAAAAcBGQAAAHAQkAEgz4wxNo3b9NQ29caY7xpjVhlj9hpj9hhj1hpjlhpjLjpo/8tS224wxoR7Of5XU88vch5bPEAd8Xz/uwBAoQoOdwEAMAZcftD9UyVdK+lWSX896LlGY8w0SS9IqpT035J+mnruUElLJF0p6Y+9HGeGpE9I+kEatf1O0kO9PO6nsQ8AGFUIyACQZ9ba37j3jTFBJQPyswc/l3r+W5ImSrrAWntvL8/X93KYLkkbJX3JGHO7tXbvIMt7ubcaAGAso8UCAArP7NSfj/f2pLV2Ry8P+5K+IGmCpBvyVBcAjAkEZAAoPOtTf37MGGMGu5G19j5Jf5P0mT5GmXtTaoyZ0MutMt2iAWC0ICADQOH5P5L2SPqepLeNMf9tjPlXY8yxg9j23ySVSfrqII/1n5Iae7n9Nt2iAWC0oAcZAAqMtXaDMWahpOslnSfpI6mbjDGvSbrSWvtSH9s+Y4z5k6SrjTHfs9a+NcDhbpV0Vy+PN2b8FwCAEY6ADAAFyFq7SdJ1kq4zxjRIOkXJ2TDOlfSAMeZwa21LH5t/IfW6b0q6eIBDrbXWPpabqgFgdKDFAgAKnLV2u7X2LmvteUq2PtRLOqef178p6Q5JFxljThiiMgFg1CAgA8DI8lzqz8kDvO4rkjolfTu/5QDA6ENABoACk1rlrqSXxz0lWyck6Y3+9mGt3abkgiGnqZ/RZgDAu9GDDACF53pJ7zHG3C/pZUltSrZVXCzpWElPSnpwEPv5tpILkhzXz2uOMcb8Ux/P/cla2z7oqgFglCAgA0DhuUnSpZLeK+n9kmokdUhaLelzkn5irR1wKWhrbZsx5htKThfXl8tSt97MlrQujboBYFQw1trhrgEAAAAoGPQgAwAAAA4CMgAAAOAgIAMAAAAOAjIAAADgKKhZLCZMmGCnT58+3GUgSx0dHSorKxvuMjDCcN4gU5w7yATnDV566aUma21tb88VVECePn26li9fPtxlIEvLli3T4sWLh7sMjDCcN8gU5w4ywXkDY8zbfT1HiwUAAADgICADAAAADgIyAAAA4CAgAwAAAA4CMgAAAOAgIAMAAACOnARkY8ztxphdxphVzmM1xpi/GGPWpv4cl4tjAQAAAPmUqxHkOyWdfdBjN0p63Fo7W9LjqfsAAABAQctJQLbWPi2p5aCHz5f0y9TXv5R0QS6OBQAAAOSTsdbmZkfGTJf0gLV2Qer+bmttdeprI6m15/5B210r6VpJqqurO3bp0qU5qQfDp729XeXl5cNdBkYYzhtkinMHmeC8wZIlS16y1i7q7bkhWWraWmuNMb0mcWvtrZJulaRFixZZln0c+Vi+E5ngvEGmOHeQCc4b9Cefs1jsNMY0SFLqz115PBYAAACQE/kMyPdJuiL19RWS7s3jsQAAAICcyNU0b7+T9KykucaYLcaYqyV9S9KZxpi1ks5I3QcAAAAKWk56kK21l/Xx1Om52D8AAAAwVFhJDwAAAHAQkAEAAAAHARkAAABwEJABAAAABwEZAAAAcAzJSnoAAACQ9rQ0acVjj6qzrVWBUFh1M2ZqwalL5HmMWRYSAjIAAECebVy5Qk/85nY1bdmcfMBaSUYy0qO/+JnmnXyKzrjiYyoqKe1zH7Fot7r27pEklZRXKlRUlHYduxt3aeOrL6tzzx4Fw2GNq2/QzIXHKBgKZfLXGrUIyAAAAHn03H1/1NNLfy1rrSTJGCMZI0my1ioRi2nVU09q3Usv6qpvfV8V4ydIkhLxuLr27tHODeu0+tm/atPKV/Zta31fM446VkefdY4aZs1JPt6PrW+9qWf+9AdtW/+WrG/l+wkZGQVCIQWCQR25+Awdf855KirtO6CPJQRkAACAPFm57HE9tfTXkrW9hljjBOVIe7tuv/Ez+scv/IfeWPaY3nj6CcUi3bLWT742EFCopFQmGJKf8PXm35/W6r89pXBJiSbNPkxHvu8szTpmkQLBA0eDV/11mZ747zvkxxMKhEIyASNp/2sSsZheeuRBrX9luS694Usqq6rO3z/ICEFABgAAyAPfT+gvd9zaZzh2GWOSIXnvHv3m3z8rkxptdtlEQpH2vakN9vcsd3d06O2VK7Rzwzo9HgjosJPfqynzDle4pESRjk49/ps7ZCQFw+Fej+0FAjKep927duoP371ZH/nS1zNq3xhNCMgAAAB58PrfnlI8Fh0wHCdbL6yUysS+lQJ9vNbs28ZPPeBJxsi3viId7fITCS1/6F6tePwRhYqL1dHeLi8QUFFJSb81GGMUCAa1e9dOrX7u7zrytPcN+u85GnHJJAAAQB48d+/dqYvx+nZwOJa1Cqj/baRkUDaSZH3J95O9zIlEsrfZWsW7I4pGuqRUj3PX3r2Kx6L97zO17fKHH9jXLz1WMYIMAACQBx27W/t93lqbDND7h4UVkJ/WMYxS2drafeG4Z1+xaExW+/ucuzs7pVKjYCikRCKuWHe3/EQiuR9jFAyHFQiG1N7aosbNb2viIdPTqmU0ISADAADkgfUHGoU98Pn+GzH6349RsofZpsKwUSqAH9Te0d3ZoajnyaZGnfddJCgp2tUlqUvBoiLtaW4a0wGZFgsAAIA8CPfT95scPdYBqdikOXp8sP1R94ADHdAuYa1/wKhxb2Ld3XrxwXvl+4ms6hnJCMgAAAB5sODUJe8awe2VVXKmiwyP425nbM8OD/zTWpu8sG+AQe2eto+dG9fr+XvvzrCikY+ADAAAkAcnnn/RvunbhlKyL9nKc497wIi1TT2UCs6+v++mVEDu7urU8/f/UXuaGoe09kJBQB6FNnVG9LFVG3XuS2/pwpfX6sY1m9WVGLsfkwAAMByKSss0/z2nSlL/ITnz5uPBsQd9bXVAGO5tA2Otol1duv2G/61NK1fkucDCQ0AeRR7Y1aoFf3tNJz7/pu5vbNOLezr1bFuH7tzWrBlPv6bTnl+t9R1dw10mAABjxgc+8a+aPHdecnnog8NoHoNxcho4KzOIKePeta0TnOPRbj3wk++NuZBMQB4lvrl+m655/W01xfoeKV7T2a1TXlijv7fuHcLKAAAYu4wx+uhXbtbCJWfKCwRS7cZu60PqdV42c1j0/bjpc5S4d8b6+3O7tfITCfm+rwd/+v3kNHFjBAF5FLhjS6N+8M6uQb3WSrpkxXpGkgEAGCLGGJ39sU/qs3cs1WmXXa6aSVNUVl2tYCgsz/NUWlamiqqqvB3fk5WxA82QYQ8Mx/setop3d8v6Ca15/u95qrDwMA/yKPAf67am9Xor6epVm7TshHn5KQgAALxLIBTSiedepBPPvUiS1LmnTUv/8wvqbGuVlVRcUanI3j1p7TM5Njzw6LNRcnQ42YJs9q0w0jM1XH97iMei8kJBvfTn+3XE4jMGXDp7NGAEeYT7044WxTK4OPbNzm4u3AMAYBiVVlbpQ1/+hsbVT0rNV+wrXFY+6O17DccDZFej5IiyZ21yZHmAcJw8UHK56j0tzYpH+1+uerQgII9wN23YnvG2/7luWw4rAQAA6SqrHqePfO0WffBfrtfUeUfIGKmovCKNPVjnNtDrMpeIxWSMUay7O6v9jBS0WIxwzbF4xtuu6YjksBIAAJAJ43k6ZMFCHbJgoRLxuKKRLr385/v0wn1/VCLadyA9eOTXykrWHPiE3T+ThTW9bTV4fjze7+qAowkjyCNcNnOPx4d44nIAwNCyCatYW0Sxpg75UdrqRoJAMKiS8grNOf5khUuKVTquRsHiksGtyCepZw5jY902ip4e5MGMNPdtXH2DgqFQxtuPJIwgj3BlQU+RfqZ260990dg4yQFgrOlc26qW/14tRd79+6H0+DpVn3eovCBjZIWsdtoMjaufpOZtW5OjttZXPBY7cGTM+dqmrrrrL0ab1DZWVjLpf/+PWHxG2tuMVPzvGOH+qWF8xtt+adakHFYCABhu1lpt+c+/q+UXq3oNx5LU+cJObfvS39W5rnWIq0O6Tr74MnmpBUbCpWUKFRUdOJJszP6bBtc80TOanC4vENCRS87MYMuRiYA8wt0wvS6jE31CKKBpJUU5rwcAMDystdr6pb9JXQPNd5vUctsqRTa15bkqZGP6wmN00sWXSb4vP5FQuKRUpZVVvbZbpNM40TPl2+A3MDrx3IsVDIfTOMrIRkAe4QKBgC6qTX9y8W/NmZKHagAAw2X7LS9IaXbcNf1spazP9SiF7JizP6gzr/mkikpLZX0/OYtEL9cQeWn2FqcTkssqKrXog+entf+Rjh7kUeAnC2Zo/YtrtKJ9cKvj/eu0ifrgxHF5rip9zdG47t7Zov/Z0aLmaFyeMZpcFNYVk8frnNpqlQZ4PwcAvYm3ReS3ZDY/bccrO1V+bH2OK0IuzTnhPTr0uBP1zmuv6vE7f67dO7tljCfP82QTCSX8RM+6H2lJ9iQnQ7I1BzdfJC/0Ky6v0KX//jUVpzE/82hA4hglHj5uri6ureq33SJkpG/OnqwbZxZW73HCWn1rw3a994XV+v6mndoeiSlhraK+r3WdXfrqum066bk3dPeOluEuFQAKUvP/rMl4290PbMhhJcgXzwto3KQpyRF/35dNxJWIReUn4qnZKTLTE4s9a+VZ37lZVdXW6aNfv0UTp8/I2d9jpGAEeRT5yYIZ+mEioVve3qlfb2tWR9yXMdL4UFBfntmg8+trhrvEd/Gt1fVrNuuRpjYFJHnegRE/kOqzilurL6/bqt3xhK6eUjsMlQJA4YptTG954gN0Mf1boUvEY3rsjlu15vlnFOtol7W21wvzMhlF7o3xPJ100Yd18qUfycHeRiYC8igTCAR048xJBTdK3Jc7tzbpkaY2BaV+13YPGqOEtfreph1aUF6iE6rH1kc9ANCvLFORtbbfn8EYPtFIRL/72r+r8e2Nsr6f6j922yEOXHD6wEf7d/B33AsGNa5hkpZcca2mHXFUtqWPaATkPkQSvn78zi7ds7NFe+O+Qp7R4eUl+sLMBs0rHxuryORb3Lf62eZGGSsZb+AfzAFjFEn4+unmRgIyAOQQ4bgwdXd26pc3flptu3buf9CkxolTo8jWmORdZw7knvh8cEg2xux73BgjYzyVjRun8nE1qptxqI44/f2aOH3mEPzNCh8B+SC+7+sTq9/WA7va5OvAk2tbd0x/ad6jKcVh/eqIGQTlLD3duledCV/BQYTjHkWe0Qtt7doSiWpK8diZbgbAyGSt1erVq/XII4+ore3AKdVqa2v1oQ99SBMmTMj+QAEjJTIcRg4TjgtRPBrV3d/52r5w3PMmZv948bvi776Q3NuZsH+RkKRQcYnmnXKaTr/6k7xB6gUB2eH7vpa8uEZvdXbLKnkF47vXOZc2R6I6a/ka3bVwlk4cVzH0hY4SjzfvUdT3VZLG7BTGGBlr9dzudl1SgD3VACAlg/Err7yi+++/P9kv2ovGxkb9+Mc/VklJia677jqVlZVlfLziw2sUWdmc0bZV5zBiWIhe+cuftWtj8gJKY0wy2KbOJZt8MPVKI8kfcNaFnrOwZ6vi8gqddMlHCMd9YBYLx0dXbtBbnd2S+v6HMannYlb60Ksb1BiNDVV5o05LLD74peUdcSvtTaQxwTkADCHf93X33Xfrvvvu6zMcu7q6unTLLbdo9+7dGR+z6uzMQ275cQ0Zb4v88P2EXnn0QSUS8WQbhZJvuqxS7RHui+3A4fiAl0sKhEKKdnXqrq9/UZ17WCymNwTklB2RqJa1tksa3BKMnqSotfrm+m15rWs0Kwt4vc11PqCAkYrTaMsAgKH06KOPatWqVWlv96Mf/UjxeDyjY4ZqilU0N/357cddMU8mwM/TQvPOqpWKRSL72yLs/saKbMJxj3gsJmutOna36pGffj/rekcjAnLKzRu2S0pvfXIr6Y+7dsv3C280c2skqp+/s0vf2rBNN6x+R+957nUd+bdVWvi313Txy2u1M9I93CXqmMoyhbz0TkFrrYyM5tP/DaAANTc3a/ny5Rltm0gk9OKLL2Z87PFXzFdw8uDbNCovPlRl83LQ/4yca9m2VYlYTMm+4qQDl/B492Pp6u7skBcIavvaNWrZtjWLPY1O9CCn/Lmp7d0fWwzASOr2rZ5qbdeS8ZV5qiw9Dze26ZsbtmlNZ98BeGdbhxY+u1plAaPb5k/XgooSfXPjDr3TFZUx0pzSYn1hRoPKQ4G81nruxGrdvGG7Etbum+94IDErTS0O6UgCMoACtHz58oxHgSXpySef1EknnZTRtp7nqe66o9V6/zp1PrdT6mMJaVMaVO2/HKXwOH6OFqp4LCpr/X2hpNffkNbPKiBba+Un4pK1Wvn4w1p8+dVZ7G30ISCnRDIYBe45MTdHMlveMxOb2iM6/9V12hk98AdwfTio+aVFemJ3x6D31ZGwuuy1je96/K+t7frF1ibNLgnrtgUzNDdPYbQiGNAFddX6w45WeRp4Ds7kPJ3StVNruagAQMHxfV8rVqzIah/RaFRNTU0Zz2xhjFHNebNV/cFZ6nxplzpe3il/b1QmYBSeUaXqs2fIK+ZXf6ErLiuXFwgq1p3fT3vj0W6Fiov19qsvSwTkA/C/JMX0OTHKwEJD0A/bGfd15N9Xqr2PHL8jGteOaOajFr1Z2xXVaS8mly/1JF05eby+MWdqTo/xbzMa9GJbh97uiircT0i21ipmpcU1FbqwLv0+OwDIt2g0mtXocY+9e/dmPfWb53kqP65e5cfVZ10Pht60BQslSdb3989bfNBrcpE8rO9LxlO0O5KDvY0u9CCnVGfQTtBzNekRefy4Px6P66Z1WzXzr32H46HgS/rF1mbVP7lCn1399qCuzB6MimBAvz1ylg4rK5Yvo4jvH7Bv31pFfKuEjM6aUKkfzDtk0O0YADCUcvVzMVf7wchVNbFOE6fNkHTg4h65ZyRrFQoX5WXvIxkBOeXqKRPSfjdmJU0IBbSgojTn9bzZ3qWTn31dU/66Sj/e3Jjz/WfjtztadcKzb6g9nsjJ/saHg/rDUYfqB/MO0dEVZYrZ/W8+EpLOHF+pXx8xQ98/7BCF07yoDwCGSlFRUU7av8rLWSkU0vHnXSQp9YYpFZKl/UE5F4HZCwTkJxKaNHdeDvY2utBikfKJqRN1y8YditvBvWvo+bjjn6dOzHktv97apM+/tSXn+82ld7pjuuDltXrg2DkqTmOhj74EPaPTx1fq9PGVao7G1RyLK2iMasNBVQTze7EgAOSC53maO3euXnvttYz3UVRUpNra2hxWhZFqxsJjVFXfoLYdOyRr9y0WYpzV8LJhJAXCIRnj6aizPpCDPY4uDMelhD1PN85oSK1H07+eE3NSUUgfn5rbH2SPNrYVfDju8XpHRN/btCPn+x0fDmpOWbFmlhYRjgGMKCeffLK8LD7pWrJkCRchY5/TLrtCodISGc87YCU9I8kYL6ug7AUCstaqZtIUTZzOaooHIyA7rptWp49Pqd0Xkg8+8az2h+e6cFCPHzdXwRx/5H/VqnfPKlGorKSl21vUyap2ACBJamho0PTp0zPaNhgM6phjjsltQRjRDj32OJVX1yhUWqqi0jJ5oZBMICDjefKCwYwDspEUDBepqKRM51z3uVyWPGoQkA/yldmT9YvDp2tmSVjS/l7YnpOwxDO6cvIEPXfifFWHctuh8nTLHuV2Hor82xWL69rXNgx3GQBQMC677LK02ySMMfrUpz6lcDicp6owEgWCIV14/b8rXFwiGaOisnKVVFappKpaxRWVKqqoHPBT796EiopVMX6CLv3yN1RZm/tW0dGAHuRenDOxWudMrNaGzoh+t71ZjdG4ygIBLaoq1fm11Vl9fNaXDe2duuzVkRk0H2ttV/2TK3TNpPG6aW5up4EDgJEmFArp4x//uO65555BLTldVlamj3/846qoqBiC6jDSjJ80RR/+8k26/4ff1Z6mRsXjMXleQMYYeV5AweISxSNd716Gug+lldU669rrNOPoRQoEiYF94V+mHzNLi/XFWZPzeoy4b3XMM69pV2zktynctq1ZW6NRXTHchQDAMAsEArrkkkt03nnn6Yknnuh1hb1Jkybp3HPPVUNDwzBViZFiXF2DLr/pu9q+/i29/MhD2rZ2jeKxqMJFxZp74ntUN226nrj95/LjMUm9z3BhAkEdcfrZOuPKj8nzuL5nIATkYeRbq1lPv6ruUTTl5Z+b9uq8HEyUn46ORELP7u5QayyukDE6pDisoytLudAFwLALh8M6++yzdfbZZ0tKTtllrc3LJ5EY3YwxmnToXE06dG6vzx/+3tP16l8e0gv33a3O3a2SjIxnFAiFNefEU7ToA+er9pDpQ1rzSEZAHkbveW71qArHPTZHYkN0nKhu39Kou3e2SrbnAkorI6Px4aCumTJBl9TV5GQaOgDIBWMMb96RF8FQSMeec76OPed8de3do669exUIBlVaVa1QEQuBpIuAPEx8a7UxEh3uMvJmQ3uHZpaX5W3/L7Z16NpVm9Tl+woaKWCMkh8YGVlrtas7pps3bNfdO1t154IZqsrxBZUAABSqkopKlVRUDncZIxpDa8Pko6+uG+4S8urUF9fqs2++o+Zo7tstVrd36epVGxXxfRV55l1LTxtjFPKMgpLebI/oylWb1O2P/B5vAAAwNAjIw+TJ1o7hLuEA1cHcngq+pIca23TBK2u1Lccj5V9au0XdCV9hr/+PKY0xCpnkst337GjNaQ0AAGD0GtMBuTka1592tuqXW5v0u+3Nen53u3yb/6ZgP8ejmUWSJoYCqgtn3kbwzxOrtGPJUfrc1NpBTRMzECOpyDNqjMZ1+WsbcraYyFsdEb3ZEVHRAOF4Xx2ppTn/a2tjcj17AACAAYzJxsw3O7r0/97Zpceb98iTUdxaGSMFZFQdCujqKbW6rKFGRXm6yvhnmxtzsp+QpBonFLdk0c7w7W2t+vScQ/T5Qyfr84dO1nMte3XBq+sz3l/PBDJFntGO7rgeatytS+prMt5fj6XbmxW3UnCQAVmSQkba1R3XyvYuLawozboGAAAwuo25gPxoY5s+t2azotYqbCTPSOFUD6u1Vs3RuL6zcbse2LVbdxwxQxXB3M8V+JN3dmW9jwkBo0DgwNqynTuiLZ7QuNTFbCfWVKghHNT2DEN3iTNzhG+t/mtLoy6uG5f11dtrO7uVHBMe/H6MMbJW2hKJEpCBPNvRsUO/eO0X2tG+Q3VldbpkxiUKJUKyvlV1ebVqqmqY4gxAwRtTAfm53e367JrNsrIq7mUEsqdn1Vqr19u7dM2qjfrNkbMUSmO0cjD2ZNluUCTl5RdM5KDWj4mhQMYBOe60M4SMtCUS06auqGaUZjfVTMzajFtAYj4tFkC+/GrVr/S9l76nhE2ouKtYVXuqtC62Ts/YZyRJxhoF/aAqg5X6wAkf0AdO/oAqylg5DkBhGjMB2VqrG9/aooT1FR4gXBpjFJLVqvYuPdzUpnMnVue2ll7XuBm8bkl7YwlVZtFz3JsKZ0Q67lu92tGd8b7cgGxMckaJplhcM5RdQK4LB5XI4J/PGGk8U70BeXHm78/Ujq4dCsaCqm+sVzARlLEHvpW1xioWiKnZNut3f/udHnjmAX3+ss9r4ZyFw1R1Yejetk1bvvIVdW3ZKgUCKj3iCE3+7GdUVFs73KUBY9qY+ZzrhbYONUWTK60NhjFGCWt16+bs2yEOVpKD0d8uSfEcX+xX7rST/HDT9qz2FeslxAZyMBB/UV36veEJaxUwRsdX529eZmCsev9d798Xjmt31fYajg8WC8a019+rb/32W1q1btUQVVpYWu+9T68cu0gvXXiRtr/+hna3tWl3S4u2PfWUXjzvfC0/bbHaXn55uMsExqwxE5B/s61ZUd+m1QMbNkYbuqJa1xnJaS0X1Y3LyX6a476aonHFUkE5mynBL65Nbt0VT+h9z72h77yd3RsDNx9baxW3VpOKwlntU5JOGVeu8qCXVrtE3Eofrs/fRZfAWPXUO09pW+c2yUoTmiYo4AcGDMc9YsGYuvwufW/p9xTpzu3P2EL3zqc/rTU33aSOoiL5gV6uczFGkVhMr33qOm25/fahLxDA2AnIG7u6FUxzBNMYo6CRtuV46eSvzZqUs30lJLXEfe2MxrO6SO/6mZN17WsbNOOvr+mNrtzOW9xtrY6qKFV9USjrfQWM0een10tGg5qSr9v3VR7wdMXkCVkfG8CBbnj6BklScaRYnu8NOhz3SHgJtcfa9fyq5/NRXkHa9vWbtPWZZxUPDeLnoTHa9F+3aedDD+W/MAAHGDMBOZtmhESO588tCgb0/prcX5zSleF2nqSTnl+t+5r25LIcScnR45DxdM2U3PXTXVRfo3+eWquEkhfe9Ta/sbVWEd+q2AvoF0fMyEk4B7BfLBZTZ6JTklTeXi7jp99D5Xu+ojaqe5++N9flFSQ/GtXOu+5SYjDhuIcxWvv1m+THc78qKYC+jZmAPDEUVCLNi+OstfIljc/xxXCSdOeRMzW3NPuWg1zIxyLMQSX//WJWOqG6TO/N8RuCT0+r1zdmT1FNKCgro66Er26/52YVl3RMZan+cPQspnYD8uC1ltf2fR2OhmUymF/GmuTP5J27dyqeGP0BcMfXb1JXSUn6Gxqjt7773dwXBKBPY+ay/g811OilPZ1pbRO3Uk0woAXlGfxAG4AxRsuOn6eGZa/mfN+FoNgziks6rqpMP5o3TYEs5z/uzYV143T+xGo9s7td9+7arZ3dMYU8ozmlxfPwSFwAACAASURBVPpwQ42mlWQ3YwaAvm3duzX5hVXarRXvYqRoLKpgYHT/Smq5+2751ZnNitR0733SjTfmuCIAfRndP40cp4+vVNgzivi+goMNa0a6asoEeXkId1IyJM8uCWttjnt+C8EhJUW6ZkqtLq2vyfk80i7PGJ0yrkKnjGM+VWAoHVl7ZPILkxwJziokW6k4XJybwgpYLJ3Wil60vv66xh1+eI6qAdCfMdNiEfY8fW56vawGe3GXVU0omJPlkftz3zGz87r/oWYkTSkO6fHj5uojk8bnNRwDGD7Tqqbt+zoajmY0v3tPqJ4zZc6YWF0v26tZtj/8SE7qADCw0f8TyfGRSeN11eQJ/V7c5VuriO+rOhTQb46cqco8LDXtGhcOqXgUZchfHTFDNaFg1ktKAyh8U8unSpLay9tlvfTjn+d7KvKKdN57z8t1aQXJZHnBd6SlOUeVABjImArIknT9jAbdPHuKasNB+amLuyK+r0jCV8xaJSSdOb5K9x49W9OHqId1xcnzh+Q4+farBTN05oSq4S4DwBC58x/ulCRFiiPyPV++Se+S34Af0ISyCTry0CPzUF3hCWdygV4PaxUoGv1tKEChGHMBWZIuqBunJ48/TLctmK7LGmr0vppKnVNbrc9Mq9dTxx+mH8+fprohnBasOhzWi8eP3JBsJJ0zoVJn1RKOgbFkYulEXX7Y5ZKRmiY0yQ/4+2amGEgoHlJlqFJfvurLCvS2WMYoNO1nP1UwltmM9ZGSElXPn5fjigD0ZcxcpHcwzxidWF2uE6vLh7sUSdLUsrC2L16oC19eq+fSnG1juJ1aXa7bDp8+3GUAGAY3nHCDigJFuu3129RY26gJTRMUjPe/3HQoHlJDWYO+ds3XNLFm4hBWO7zKjz5aJZGI9qZ5sZ7xfZnSUjWceWaeKisQT9wsrX9C8mNS9SHSuT+SSjOb9QPI1pgNyIXIGKM/HTtHr+7t1I827dQTzW3qzO0aJTl3/fQ6XT+jYbjLADCMPr3o0/rkwk/qE098Qs8Hn1dxpFiVbZUKx8L7grKxRiE/pFm1s3T5mZdr4eyFY/JahcMefVQr/+Ef1F06uPnZjbWKFBdp/HGLFK4ahZ/S7Vwt/fIDUudB/dXbV0ir75NCZdKFP5fmnzs89WHMIiAXoIUVpbrtiBlqjMZ0zvI12txdeBPoe5IeP26O5pXnbhEOa61WtXfpz41t2hmNKZya0/j8unGqCXGqAoUsFArptvffdsBjCT+h7li3goGgQoHQmAzEBytqqNehv7hNa6/5mKID9CQb31d3OKzghFoddt11Q1ThEGlvlP74MWnDk/2/LtYh/f6fpGOukM774dDUBoiAXNBqwyE9d8I8nfLCGm2MFM5cyadWl+nWw6drXDh3fdrLWvbo2xt2aHMkqqi//0KfoGf03U07dMb4Kn1hZgNLRgMjSMALqLSIlSwPNu7YYzXvD3dp5RX/S8GuLsXDYVnnzYMXj8t6nrpKSxWqrdWi796i4gkThrHiHGvbKt35Qal1w+C3efmXUnm99L5/z19dgGNMXqSXa3Hf17ZIVK3RuHw/tws3BwIBPXvSfF01eYJCwzz4ckp1mba+9wjddfTsnIbjO7Y06pNvvK2NXRF5sioJePtuIWPkSXq4abfOf3mt1ndGcnZcABguFbNm6YRHH1HNJz+hRGWlfM+Tb4zigYA6qqsVmzxJM668UifdeqvKpk4d7nJzJx6VfvdhqXVj+ts+/e3c1wP0gRHkDPm+r9/v3K3/u2mH3kmN7lpJAUmn1VToy7MmaV4Ol6i+ec4U3Txniu7e1qwb3tqijizn0xwsI2lBebFunjNVx1WV5Xz/f27crVs27ZAnKdTHQgGeMSo2Rm3xhC5fuVEPHjtb42i5ADDCBUtLNfvqq3XoVVdpz5q31LVrpySpaFyNquYdJi84Cn/OrX1E2rtdGS+b8tR3pNNuyGlJQG/y/r/PGLNJ0l5JCUlxa+2ifB8z37ZFojpz+Rq1xBKySobInltC0pMte/Vkyxp9oLZKt86fltMVoi6eNF4XTxqv9lhCX1i7RU81t6kp7itX49bFRrp8Uo2qQyHVhkM6b2K1qvMURn1rddP67ZKVAoNYca/IM2qNxbV0e4s+ccjYufIdwOhmjFHVYXNVddjc4S4l/577qdTVlvn2BGQMkaF6e7rEWts0RMfKq13dUZ3y/Jvq9H0ZvbtHpee+lfRgY5v+aeVG/faoWTmvozwU0I/m71/qtSOe0M0btuvJ5jbtTfgq8jxNLw5rS1e33o7G971X9ySdVFWqSUVhPda8R12+r4DxNK0krFsPn65Dy4ZuIvpndrdrTzyhYBqtI56kO7c26WNTahVkGWsAGDk6mqRdqyU/iwvP/czmkQbSNQo/v8mvS1as3xeO+4tnRsmQ/GTrXv1qa5P+v8n5vcCiLBjQN+ZMkTQlr8fJpbt2tKjb91USGPwIe9Az6vJ9vbSnQycUyBzWAIBB6GqVAqH9vyCBAmZsnntZjTEbJbUq+d/h59baWw96/lpJ10pSXV3dsUuXLs1rPdmIWqs329O/SCzkGc0bwpHZ4dbe3q7y8oHD64aubnUl/IymfppcFFJVcGysvjVWDPa8AQ7GuTNCJKJS01uSn1BWCbnhqJyUw3mDJUuWvNRX6+9QBOTJ1tqtxpiJkv4i6V+stU/39tpFixbZ5cuX57WebHxs1UY90NjW78jxwXr+df+yaI4WVIyN6Y6WLVumxYsXD/i6D61Yr5V7OxROs0fbSvrOnKk6m6WtR5XBnjfAwTh3Rohop/SDI6VETIrszmwfE+ZK172Qk3I4b2CM6TMg532aN2vt1tSfuyTdI+n4fB8zX55v60j7PW9PmH6wMYuLEkap6SXhtC8utNbKWjEfMgCMNOFSaf4F2e3j8ntzUwswgLwGZGNMmTGmoudrSWdJWpXPY+ZTt5/5aPveeCKHlYwOlzWMV9B4SudTjJiVxoeDWliRuyn0AABDZNFVkheUQhl8olpUJVU15L4moBf5HkGuk/Q3Y8yrkl6Q9KC19uE8HzNvirKYNYF+2XdbWFGiyUUhRQcZkK21MpKumTKBJWsBYCSqmy8dfbkUKpFMOvMEeNL16/NWFnCwvM5iYa3dIGlhPo8xlE6sKtP9abZK9ES/D06szn1BWVjd3qVNXd0KGKPDy0s0uTg85DUYY3TT7Mm6ctUmxX3b77Rt1lpFrTSztEgX1dUMYZUAgJw6/T+S07W9ulTq2i3ZAaZ9C5dL12+UQrTWYegwzVsavjhrku5vbNu3OMhgWCVnXMjlqnqZ6oz7+tE7O3XH1ka1xf19fwcraUpxWP/7kIn6aENNThc2Gcjx1eX6/mFT9Zk3NyviW4VNcuU8V9xa+VaaVhLWL4+YodI0poUDABQYz5POukmafab0/M+kd16QonuTs1y4yuqlK+6VJh42PHViTCMgp2FaSZHmlhZrTWdkUCG55zWfnV6X/+IG8FZHROe89JY6En6vtW+ORHXDW1v0k3d26bHj5qh8CJc4PXNCle46Kqwfv7NLT7bskW+tYr6VZ4zCnlFpwNPlkyboqskTVE6rCgCMfMZIMxcnb7s3S41vSrFOqahCmnysVMwsRRheBOQ03XX0LJ343Gp1JJLzL/QVkntaK86sqdRHJ+V3kZCBbItEddbyNfsuMjx4/LVn0RMr6e1IVKe9sEbPnjgv7enXsjGvvEQ/mT9NjdGYlrXs1e5YQkHPaFpxWKeOq1CIVfMAYHSqnpq8AQWEgJym2nBIfz3+ML1/+VtqisXl68CA6Y7OXjCxWj89fPowVbrfR1ZuUMS3g179b1t3TF9+a4u+fdghQ1OgozYc0qX19BgDAIDhQzNnBiYVh/XqyfP143mHaFZJ8uI2X8lwGTTSmeMr9eRxcwsiHG+LRLWmIzJgOO7RE5J/v7NVvp/uLMUAAAAjHyPIGfI8TxfX1+ji+hr5vq/WuK8Sz1NpsLDec3xzwzZJg7+osOe1Ed/qj7t26xJGcwEAwBhDQM4Bz/M0PlxYwbjHy3u60pp1Q9o/ivz31nYCMgCMULsb9+qp+15V8/Y9SiR8hYtDmrfoEC1aMndIZysCRiIC8igXyaJNoosWCwAYcRq37tZ9tz+jrvbI/get1N0R0wuPvKkXHn5T0+ZP1AevOFmGC6CBXvEWcpSryGJatHEh3j8BwEjy9pod+p8fPrE/HPdcPe7eMdLbq3fpJzf8SZ17uoanUKDAEZBHuXNrq9Nqr5D2/yz9x7pxuS4HAJAnbc3tuv/2Z/Y/sC8Ym4NuqSc96favPaz1K3YMZZnAiEBAHuU+dchEeUrOsjFYVtLEcFBHV5XlqSoAQK49cfcr++9YSf3OX5S62sST/nzHC9q2riXv9QEjCQF5lCsOeDqntmrfhXcD6bmg7/rp9fktDACQM9HumLaub0ze2ReOB5L6zVCU0B//z/L8FQeMQATkMeDn86dpZmq+5v5Ccs8o84UTq3X55OFd/Q8AMHhrXtmc3Q5CMW1e05SbYoBRgIA8Bniep6eOP0zHVZVKSobknoVN3K89SVdOHq//VwALnAAABm/3rvbkF4MePe6RGkUOx/TQz1bmvjBghGKagjEi6Hm675g52tAZ0U3rt+uJlj2KppafLg14+lB9jT43vV7jwpwSADDS+D2fDw62n+5gxioeYWpPoAdpaIyZWVqs24+YMdxlAAByqLa+KvlFJuG4RzbbAqMMLRYAAIxwhx17SHY7sCa9zgxglCMgAwAwwnkBTyWVRal76QwFp+Yu6i5S6bhwHioDRiYCMgAAo8AlnzjNuZdmv0QspIs+syin9QAjGQEZAIBRoKqmXIctmqr9C4QMFJJTo8ddRfKCUlVtad5rBEYKAjIAAKPEGf94nCZMrkzd6wnJBwflnseM1B2S4iFd9a1Th7JMoOARkAEAGEU+/OnTteDEGVJC6n25aSNZT+oqlokW6Yqb36Pi8qJ37wgYw5jmDQCAUWbxRUfpvRccqaW3PK2W7XskLzVi7BspGpKRpyOXTNaplx4+3KUCBYmADADAKOR5nj7yb4slSbFoXO2tXQqEAyqvKpbn8QEy0B8CMgAAo1woHNS4uorhLgMYMXgLCQAAADgIyAAAAICDgAwAAAA4CMgAAACAg4AMAAAAOAjIAAAAgIOADAAAADgIyAAAAICDgAwAAAA4CMgAAACAg4AMAAAAOAjIAAAAgIOADAAAADgIyAAAAICDgAwAAAA4CMgAAACAg4AMAAAAOAjIAAAAgIOADAAAADgIyAAAAICDgAwAAAA4CMgAAACAg4AMAAAAOAjIAAAAgIOADAAAADgIyAAAAICDgAwAAAA4CMgAAACAg4AMAAAAOAjIAAAAgIOADAAAADgIyAAAAICDgAwAAAA4CMgAAACAg4AMAAAAOAjIAAAAgIOADAAAADgIyAAAAICDgAwAAAA4CMgAAACAg4AMAAAAOAjIAAAAgIOADAAAADgIyAAAAICDgAwAAAA4CMgAAACAg4AMAAAAOAjIAAAAgIOADAAAADgIyAAAAICDgAwAAAA4CMgAAACAg4AMAAAAOPIekI0xZxtj1hhj1hljbsz38QAAAIBs5DUgG2MCkn4i6R8kzZd0mTFmfj6PCQAAAGQj3yPIx0taZ63dYK2NSloq6fw8HxMAAADIWDDP+58sabNzf4ukE9wXGGOulXStJNXV1WnZsmV5Lgn51t7ezvcRaeO8QaY4d5AJzhv0J98BeUDW2lsl3SpJixYtsosXLx7egpC1ZcuWie8j0sV5g0xx7iATnDfoT75bLLZKmurcn5J6DAAAAChI+Q7IL0qabYyZYYwJS/qwpPvyfEwAAAAgY3ltsbDWxo0x10l6RFJA0u3W2tfzeUwAAAAgG3nvQbbWPiTpoXwfBwAAAMgFVtIDAAAAHARkAAAAwEFABgAAABwEZAAAAMBBQAYAAAAcBGQAAADAQUAGAAAAHARkAAAAwEFABgAAABwEZAAAAMBBQAYAAAAcBGQAAADAQUAGAAAAHARkAAAAwEFABgAAABwEZAAAAMBBQAYAAAAcBGQAAADAQUAGAAAAHARkAAAAwEFABgAAABwEZAAAAMBBQAYAAAAcBGQAAADAQUAGAAAAHARkAAAAwEFABgAAABwEZAAAAMBBQAYAAAAcBGQAAADAQUAGAAAAHARkAAAAwEFABgAAABwEZAAAAMBBQAYAAAAcBGQAAADAQUAGAAAAHARkAAAAwEFABgAAABwEZAAAAMBBQAYAAAAcBGQAAADAQUAGAAAAHARkAAAAwEFABgAAABwEZAAAAMBBQAYAAAAcBGQAAADAQUAGAAAAHARkAAAAwEFABgAAABwEZAAAAMBBQAYAAAAcBGQAAADAQUAGAAAAHARkAAAAwEFABgAAABwEZAAAAMBBQAYAAAAcBGQAAADAQUAGAAAAHARkAAAAwEFABgAAABwEZAAAAMBBQAYAAAAcBGQAAADAQUAGAAAAHARkAAAAwEFABgAAABwEZAAAAMBBQAYAAAAcBGQAAADAQUAGAAAAHARkAAAAwEFABgAAABwEZAAAAMBBQAYAAAAcBGQAAADAkbeAbIz5qjFmqzFmRep2Tr6OBQAAAORKMM/7/7/W2u/m+RgAAABAztBiAQAAADiMtTY/Ozbmq5L+l6Q9kpZL+py1trWX110r6VpJqqurO3bp0qV5qQdDp729XeXl5cNdBkYYzhtkinMHmeC8wZIlS16y1i7q7bmsArIx5jFJ9b089UVJz0lqkmQlfV1Sg7X2qv72t2jRIrt8+fKM60FhWLZsmRYvXjzcZWCE4bxBpjh3kAnOGxhj+gzIWfUgW2vPGGQB/yXpgWyOBQAAAAyFfM5i0eDcvVDSqnwdCwAAAMiVfM5i8R1jzFFKtlhskvTPeTwWAAAAkBN5C8jW2svztW8AAAAgX5jmDQAAAHAQkAEAAAAHARkAAABwEJABAAAABwEZAAAAcBCQAQAAAAcBGQAAAHAQkAEAAAAHARkAAABwEJABAAAABwEZAAAAcBCQAQAAAAcBGQAAAHAQkAEAAAAHARkAAABwEJABAAAABwEZAAAAcBCQAQAAAAcBGQAAAHAQkAEAAAAHARkAAABwEJABAAAABwEZAAAAcBCQAQAAAAcBGQAAAHAQkAEAAAAHARkAAABwEJABAAAABwEZAAAAcBCQAQAAAAcBGQAAAHAQkAEAAAAHARkAAABwEJABAAAABwEZAAAAcBCQAQAAAAcBGQAAAHAQkAEAAAAHARkAAABwEJABAAAABwEZAAAAcBCQAQAAAAcBGQAAAHAQkAEAAAAHARkAAABwEJABAAAABwEZAAAAcBCQAQAAAAcBGQAAAHAQkAEAAAAHARkAAABwEJABAAAABwEZAAAAcBCQAQAAAAcBGQAAAHAQkAEAAAAHARkAAABwEJABAAAABwEZAAAAcBCQAQAAAAcBGQAAAHAQkAEAAAAHARkAAABwEJABAAAABwEZAAAAcBCQAQAAAAcBGQAAAHAQkAEAAAAHARkAAABwEJABAAAABwEZAAAAcBCQAQAAAAcBGQAAAHAQkAEAAAAHARkAAABwEJABAAAABwEZAAAAcBCQAQAAAEdWAdkYc6kx5nVjjG+MWXTQc18wxqwzxqwxxrw/uzIBAACAoRHMcvtVki6S9HP3QWPMfEkflnS4pEmSHjPGzLHWJrI8HgAAAJBXWY0gW2tXW2vX9PLU+ZKWWmu7rbUbJa2TdHw2xwIAAACGQrYjyH2ZLOk55/6W1GPvYoy5VtK1klRXV6dly5blqSQMlfb2dr6PSBvnDTLFuYNMcN6gPwMGZGPMY5Lqe3nqi9bae7MtwFp7q6RbJWnRokV28eLF2e4Sw2zZsmXi+4h0cd4gU5w7yATnDfozYEC21p6RwX63Sprq3J+SegwAAAAoaPma5u0+SR82xhQZY2ZImi3phTwdCwAAAMiZbKd5u9AYs0XSSZIeNMY8IknW2tcl/V7SG5IelvQpZrAAAADASJDVRXrW2nsk3dPHc9+Q9I1s9g8AAAAMNVbSAwAAABwEZAAAAMBBQAYAAAAcBGQAAADAQUAGAAAAHARkAAAAwEFABgAAABwEZAAAAMBBQAYAAAAcBGQAAADAQUAGAAAAHARkAAAAwEFABgAAABwEZAAAAMBBQAYAAAAcBGQAAADAQUAGAAAAHARkAAAAwEFABgAAABwEZAAAAMBBQAYAAAAcBGQAAADAQUAGAAAAHARkAAAAwEFABgAAABwEZAAAAMBBQAYAAAAcBGQAAADAQUAGAAAAHARkAAAAwEFABgAAABwEZAAAAMBBQAYAAAAcBGQAAADAQUAGAAAAHARkAAAAwEFABgAAABwEZAAAAMBBQAYAAAAcBGQAAADAQUAGAAAAHARkAAAAwEFABgAAABwEZAAAAMBBQAYAAAAcBGQAAADAQUAGAAAAHARkAAAAwEFABgAAABwEZAAAAMBBQAYAAAAcBGQAAADAQUAGAAAAHARkAAAAwEFABgAAABwEZAAAAMBBQAYAAAAcBGQAAADAQUAGAAAAHARkAAAAwEFABgAAABwEZAAAAMBBQAYAAAAcBGQAAADAQUAGAAAAHARkAAAAwEFABgAAABwEZAAAAMBBQAYAAAAcBGQAAADAQUAGAAAAHARkAAAAwEFABgAAABwEZAAAAMBBQAYAAAAcBGQAAADAQUAGAAAAHARkAAAAwJFVQDbGXGqMed0Y4xtjFjmPTzfGdBljVqRuP8u+VAAAACD/glluv0rSRZJ+3stz6621R2W5fwAAAGBIZRWQrbWrJckYk5tqAAAAgGGW7Qhyf2YYY16RtEfSl6y1f+3tRcaYayVdK0l1dXVatmxZHkvCUGhvb+f7iLRx3iBTnDvIBOcN+jNgQDbGPCapvpenvmitvbePzbZLOsRa22yMOVbSn4wxh1tr9xz8QmvtrZJulaRFixbZxYsXD7p4FKZly5aJ7yPSxXmDTHHuIBOcN+jPgAHZWntGuju11nZL6k59/ZIxZr2kOZKWp10hAAAAMITyMs2bMabWGBNIfT1T0mxJG/JxLAAAACCXsp3m7UJjzBZJJ0l60BjzSOqp90paaYxZIekPkj5urW3JrlQAAAAg/7KdxeIeSff08vjdku7OZt8AAADAcGAlPQAAAMBBQAYAAAAcBGQAAADAQUAGAAAAHARkAAAAwEFABgAAABwEZAAAAMBBQAYAAAAcBGQAAADAQUAGAAAAHARkAAAAwEFABgAAABwEZAAAAMBBQAbw/7d37zF6lYeZwJ93ZuyxjW+ABxtwuJuEm7nYkAu0MaEbkqZNNm0qIVVVquyWojbNXlpFG6HNRqnSlmarbrtpsptms1t1u8tGSlPopknDZc0tJQSIY2IwxhAirsbmaoM913f/sCEHY49n5vu++WbM7yeNmDnnvOc8lo/Gjw7v9x4AoEFBBgCABgUZAAAaFGQAAGhQkAEAoEFBBgCABgUZAAAaFGQAAGhQkAEAoEFBBgCABgUZAAAaFGQAAGhQkAEAoEFBBgCABgUZAAAaFGQAAGhQkAEAoEFBBgCABgUZAAAaFGQAAGhQkAEAoEFBBgCABgUZAAAaFGQAAGhQkAEAoEFBBgCABgUZAAAaFGQAAGhQkAEAoEFBBgCABgUZAAAaFGQAAGhQkAEAoEFBBgCABgUZAAAaFGQAAGhQkAEAoEFBBgCABgUZAAAaFGQAAGhQkAEAoEFBBgCABgUZAAAaFGQAAGhQkAEAoEFBBgCABgUZAAAaFGQAAGhQkAEAoEFBBgCABgUZAAAaFGQAAGhQkAEAoEFBBgCABgUZAAAaFGQAAGhQkAEAoEFBBgCABgUZAAAaFGQAAGhQkAEAoEFBBgCABgUZAAAaFGQAAGhQkAEAoKGlglxK+XwpZXMpZWMp5RullKWNfZ8qpWwtpTxYSrm89agAANB5rT5BviHJ2bXW1Um2JPlUkpRSzkxyRZKzkrwvyRdLKb0tXgsAADqupYJca/1OrXVk3493Jlm57/sPJbm21jpYa/1xkq1JLmrlWgAAMB3aOQf5Y0m+te/745M81tj3+L5tAAAwo/Ud6oBSyo1JVhxg19W11uv2HXN1kpEkfzPZAKWUK5NcmSTLly/P+vXrJ3sKZphdu3b5e2TS3DdMlXuHqXDfMJ5DFuRa68+Nt7+U8utJfiHJZbXWum/zE0ne0jhs5b5tBzr/l5N8OUnWrl1b161bd8jQzGzr16+Pv0cmy33DVLl3mAr3DeNpdRWL9yX5ZJIP1lpfaey6PskVpZT+UsrJSVYluauVawEAwHQ45BPkQ/hCkv4kN5RSkuTOWutVtdZNpZSvJbk/e6de/HatdbTFawEAQMe1VJBrraeNs+9zST7XyvkBAGC6eZMeAAA0KMgAANCgIAMAQIOCDAAADQoyAAA0KMgAANCgIAMAQIOCDAAADQoyAAA0KMgAANCgIAMAtMng4GAGBwe7HYMW9XU7AADAbLZlyx/lsce/kqTut6fkpJM+kVNP+UQ3YtECT5ABAKZgcHB7brr51Dz2+F/mjeU4SWoeffTPctPNp2Zw8KXpjkcLFGQAgEkaHBzM7Xe8Y8LH337H+aZezCIKMgDAJN1+x3lTGLOmA0noBAUZAGAS9k6XGJrCyN2eIs8SCjIAwCTcfc8/n/LYH2z4SBuT0CkKMgDAJOzZ85Mpj3355QfbmIROUZABAKbNaLcDMAEKMgDAtOntdgAmQEEGAJiEOXOWTXnsvHnHtTEJnaIgAwBMwoVrvz7lsWvXXN/GJHSKggwAMAnz56/M1CpUX/r7F7c7Dh2gIAMATNKFa2+Y9JhLLr69A0noBAUZAGCSFi8+KWvW/O2Ej79w7bfT3z/QwUS0k4IMADAFS5ecm0suvj8LF5570GMWL74ol73n4SxevGoak9Gqvm4HAACYrfr7+/P2i/Y+SX7ppYeyw6YAqQAADsZJREFUfce3kiQDyz6YxYtP6mIyWqEgAwC0weLFqzwpPkyYYgEAAA2eIAMAzCC11uzceV927nogY6O709u7MEceeVHmzTs+Y2ND6emZl1JKt2Me1hRkAIAZYHj4xWx56A+zbdvfp9bBJHWco3uyaNHZGVh2eXr7+tPbsyBLllyQhQtN8WgHBRkAoItqrfnJT76cR378n1Lr0ARHjWXnzo3ZuXPjftt7smjR6px15jU54ojT2h31TUNBBgCYJrWO5fkXvpfnnrsjw8PPp7d3YV5+eWuef/67kyjH4xnLzp0bcuf3Lk9f37JccP5fZdGit7XhvG8uCjIAQAe9+OL9ue++qzI49GSa0yZKmZ9SasbG9nTkuiMjO3LX9z+Qnp6FOXf1X+Sooy7pyHUORwoyAEAHPL3tm9m06d8kGT3g/lp3p443zbhNxsZ25QcbPpp5807KRRd+I3PmLO78RWc5y7wBALTZ5gc/l02bPpGDleNu2LPn0dzx3Z/N0NBz3Y4y43mCDADQgsGhl/LDDR/Nzl0/SjLW7TjjGh3dmbvu+mAuvvg2S8WNQ0EGAJiCkZGR3PHdizMysqPbUSZlcOip3HrbJXnXO7+ZOXOWdjvOjGSKBQDAJA0P784tt54x68rxq0ZGns6tt63J7t1PdzvKjKQgAwBM0m23r81Mn04xEd/9p4szOjrS7RgzjoIMADAJTz11fWrtzNJs3XDXXT/f7QgzjjnIAACT8MDmf9/tCG31yu6Hp/V6j/7ky3n00S9mdHTna9v6+hbn5JM+nhNO+BfTmuVgPEEGAJig7dtvT627uh2j7R7aek3Hr7F9+0256eZVefjha15XjpNkZOSlPLT1D3LTzafn2Wdv73iWQ1GQAQAm4IUXNmTjfR/tdoyOePrp6zp7/m3fzsb7rsyh522PZsMPP5rtO9Z3NM+hKMgAABNwz72/0u0IHTM6uruj59606eOTGrNx47/M6OhQhxIdmoIMAHAI2565KTNn1Yp5ecfbb8yKFR9Ju6pcb+/8tpznQDY/+Jkkk32nds1DD32uA2kmRkEGADiE++//3W5HaNiTh7b+Sc4685pcuu5HOf74jyZp7a14Q0MvtifaAWzbNrXpG08+9bU2J5k4BRkA4BDGxnYe+qApmVoVe/bZb+0d3dOft73107l03eYceeSlLeTYk7Gx9j8hHx7elVqHpzS21qGMjo62OdHEKMgAANOiJOlJKfNy9NHvzbp3b04r0zaef+EHr33f09OXC87/Skvp7rvvt1oafyB79jze0vihoW1tSjI51kEGABjHyEjrT4/XXPB3Wbr0nDak+amNG6/Ku3/2e207345nb2nbuV7V3z/Q0vi5c49sU5LJ8QQZAOAgBgefyT33XtHyeebOXdKGNK+3/1rCrWv/K6fnzj26hdGlox8eHI+CDABwACMjL+eHG38je/Y8lVJa+5/ud37v/XnppQfalGyvnp65bT1fp2rhokXnTmnckiUXtjnJxCnIAAAH8PS267JnzxMpZW56exe0dK5a9+T7d/9Cbrr59DzyyBdS62SXPXujgYH373eN1s45b97KlsYfzJln/PEUx/1Rm5NMnIIMALCfWsfy+GN/lVqTUkp6evrbdObR/PjRP836W87JCy9sSF/f1KcgnHXmHyZJBoeez13f/0hu/n+ntZRs9Tlfamn8wSxceFoGBj4wqTErVnwkCxac2JE8E+FDegAA+9m5c1OGR15oTK3YW5LHxgbbcv6xsd25595fTm/vMVMaXzI/Tz759Tz51N/mxRfvbEumTsyTftXqc/48P9w4kh07/vGQxw4MfCBnnXlNx7JMhIIMALCfwcFtSUpK+ekLOHp7F7atIL9qdPSZKY2r2Z0HNn+yrVnGxjq75vC5q7+Y7TvWZ8uWz2TPnsfesH/evBPztrd+NkcffUlHc0yEggwAMAGl9HY7Qke1uiTbRAwsW5eBZeszNPRinnnmWxka2p7+eSsysOy9HX2CPVkKMgDAfub2DySpr81BflUpvam1O29366Te3kXp6ZkzbdebO3dJVq5sffm8TvEhPQCA/SxedE76+han1tevDdzXt7RLiTrrlFN+t9sRZhQFGQBgP6X0ZOXxv5byhu29OfzqU8kJb/m1boeYUQ63v2EAgLY49tgPZ27/MW/4YN6cOd15/XGnrF7937sdYcZRkAEADqCvb1HOO/cr6Z87kLGxwdfmHpfSmzlzjupyuvZYvOiCDCz7mW7HmHEUZACAg5g377isWXNtjj32l1NKSa2jGR19JWNjw+nrXZRS5iZvmIgxW5ScffafdTvEjGQVCwCAccyZc2ROX3V1Tjn5X2fHjhvz8iuPZGx0T+bOHciyZe/JEUeckh9u/J3s2PEP3Y46CSUnnfQ7mT//uG4HmZEUZACACejrOyIrVnzogPtWn/Pnuffe5/PCi/80zamm5oQTrsqpp/yrbseYsUyxAABoUSklF1zw1znu2F/tdpRxLVmyNheuvS6rTvu9bkeZ0RRkAIA2KKXkjDM+m3XvfjDz56/qdpzXmTfv5Fz8ru9m7Zr/k8WLz+52nBnPFAsAgDbq7e3Lu9757Wzb9s1sfvDTGR19Zd8KGNP/Br4FC96ac1d/KQsWnDjt157NFGQAgA5YvvwDWbbssmzfcUMef/yvs2fPkxkc3JFk+BAjezO5Mt2bpKaUvvT3D2TJkouy8vhfzZIl573uNdlMnIIMANAhvb3zsmL5L2bF8l98bdvo6EgefuTz2bbt7zM6+nJK6csRC07NGWf8Qfr6FuflVx7O8NBLeeGF72VwaFtefOEHGRp+NslPX3tdypzMnTuQefOOy9Kla3P8cVdk/vy3dOFPeHhSkAEAplFvb19OX/WpnL7qUwfc399/TJJk+fLLX7e91prR0VfS0zM3PT1zOp7zzUxBBgCYBUop6es7otsx3hSsYgEAAA0KMgAANCjIAADQoCADAECDD+kBAHTJQ1uvyTPP/EPGRvekp3dhTjjhN/KWlVd0O9abnoIMADCNhoeHc8+9H8rLLz+4344d2bLl6mzZcnWOOmpdzj/vv3UnIK1NsSilfL6UsrmUsrGU8o1SytJ9208qpewupWzY9/Vf2hMXAGD2Gh5+JbfeduYby/F+nntufdbfct40pWJ/rc5BviHJ2bXW1Um2JGmueP1wrfW8fV9XtXgdAIBZ79bbzk8yNqFjR0d35tbb3tHZQBxQSwW51vqdWuur7z28M8nK1iMBABx+Htj8H9J8XfREDA9vz3PP39WZQBxUO1ex+FiSbzV+PrmU8oNSyi2llJ9p43UAAGadJ5/831Mad999v9XmJBxKqbWOf0ApNyZZcYBdV9dar9t3zNVJ1ib5pVprLaX0J1lYa322lLImyd8lOavW+tIBzn9lkiuTZPny5Wuuvfbalv5AdN+uXbuycOHCbsdglnHfMFXuHaZiuu+bsbHhQ847Hs+iRWe3MQ1Jcumll95Ta117oH2HLMiHUkr59SS/meSyWusrBzlmfZLfq7XePd651q5dW+++e9xDmAXWr1+fdevWdTsGs4z7hqly7zAV033fPPbY32TLQ5+e8vjL3vNwG9OQJKWUgxbkVlexeF+STyb5YLMcl1IGSim9+74/JcmqJI+0ci0AgNlqZHRntyMwCa2ug/yFJP1JbiilJMmd+1as+Nkkny2lDGfvRzWvqrU+1+K1AABmpSOXvr3bEZiElgpyrfW0g2z/epKvt3JuAIDDxdKl5095bMmcNiZhItq5igUAAAexaNHqKY078USrWEw3BRkAYBqcf97/mMKoklNP/US7o3AICjIAwDSYM2dJzj7rC5Ma88533NKhNIxHQQYAmCbLl78/5533P5OUcY8rZU7e+Y47smDB8dMTjNdpdRULAAAm4eij3pnL3rM1zzxzczbd/28zNvbTJeD6+4/N6nO+msWLT+9iQhRkAIAuOOaY9+SYYzZ0OwYHYIoFAAA0KMgAANCgIAMAQIOCDAAADQoyAAA0KMgAANCgIAMAQIOCDAAADQoyAAA0KMgAANCgIAMAQIOCDAAADQoyAAA0KMgAANCgIAMAQIOCDAAADQoyAAA0KMgAANCgIAMAQIOCDAAADQoyAAA0lFprtzO8ppSyPclPup2Dli1LsqPbIZh13DdMlXuHqXDfcGKtdeBAO2ZUQebwUEq5u9a6tts5mF3cN0yVe4epcN8wHlMsAACgQUEGAIAGBZlO+HK3AzAruW+YKvcOU+G+4aDMQQYAgAZPkAEAoEFBBgCABgWZtiil/EopZVMpZayUsna/fZ8qpWwtpTxYSrm8WxmZ+UopnymlPFFK2bDv6+e7nYmZq5Tyvn2/V7aWUv5dt/Mwe5RSHi2l3Lfv98zd3c7DzNPX7QAcNn6U5JeS/NfmxlLKmUmuSHJWkuOS3FhKOb3WOjr9EZkl/rTW+h+7HYKZrZTSm+QvkvyzJI8n+X4p5fpa6/3dTcYscmmt1YtCOCBPkGmLWusDtdYHD7DrQ0murbUO1lp/nGRrkoumNx1wGLooydZa6yO11qEk12bv7xuAlinIdNrxSR5r/Pz4vm1wMB8vpWwspXy1lHJkt8MwY/ndQitqku+UUu4ppVzZ7TDMPKZYMGGllBuTrDjArqtrrddNdx5mp/HuoyRfSvL72fuP1+8n+ZMkH5u+dMCbxCW11idKKcckuaGUsrnWemu3QzFzKMhMWK3156Yw7Ikkb2n8vHLfNt6kJnoflVL+Msn/7XAcZi+/W5iyWusT+/77TCnlG9k7ZUdB5jWmWNBp1ye5opTSX0o5OcmqJHd1ORMzVCnl2MaPH87eD3/CgXw/yapSysmllLnZ+2Hg67uciVmglHJEKWXRq98neW/8rmE/niDTFqWUDyf5z0kGknyzlLKh1np5rXVTKeVrSe5PMpLkt61gwTj+uJRyXvZOsXg0yW92Nw4zVa11pJTy8ST/mKQ3yVdrrZu6HIvZYXmSb5RSkr096H/VWr/d3UjMNF41DQAADaZYAABAg4IMAAANCjIAADQoyAAA0KAgAwBAg4IMAAANCjIAADT8fzuitUbc9cBBAAAAAElFTkSuQmCC\n",
            "text/plain": [
              "<Figure size 864x864 with 1 Axes>"
            ]
          },
          "metadata": {
            "tags": [],
            "needs_background": "light"
          }
        }
      ]
    },
    {
      "cell_type": "markdown",
      "metadata": {
        "id": "qe2WQifouIdh"
      },
      "source": [
        "### 4.3 UMAP"
=======
      },
      "source": [
        "### 4.2 TSNE"
>>>>>>> Stashed changes
      ]
    },
    {
      "cell_type": "code",
      "metadata": {
<<<<<<< Updated upstream
        "id": "bB3KmB45tk-2",
        "colab": {
          "base_uri": "https://localhost:8080/"
        },
        "outputId": "ecf03771-5bfc-4d6a-892f-c98477f02d82"
=======
        "id": "lfuTdIjyaJvE"
>>>>>>> Stashed changes
      },
      "source": [
        "from sklearn.manifold import TSNE\n",
        "\n",
        "tsne = TSNE(n_components=2)\n",
        "clustertsne = tsne.fit_transform(df_vecs.T)\n",
        "assert clustertsne.shape[0]==len(cluster_colors)"
      ],
<<<<<<< Updated upstream
      "execution_count": 14,
      "outputs": [
        {
          "output_type": "stream",
          "text": [
            "/usr/local/lib/python3.7/dist-packages/numba/np/ufunc/parallel.py:363: NumbaWarning: The TBB threading layer requires TBB version 2019.5 or later i.e., TBB_INTERFACE_VERSION >= 11005. Found TBB_INTERFACE_VERSION = 9107. The TBB threading layer is disabled.\n",
            "  warnings.warn(problem)\n"
          ],
          "name": "stderr"
        }
      ]
=======
<<<<<<< HEAD
      "execution_count": 47,
=======
      "execution_count": 18,
>>>>>>> 1a43c35980a32fc6a0d4a871d34569baf8a58066
      "outputs": []
>>>>>>> Stashed changes
    },
    {
      "cell_type": "code",
      "metadata": {
<<<<<<< Updated upstream
        "id": "hk3BP6D-ub1Q",
=======
>>>>>>> Stashed changes
        "colab": {
          "base_uri": "https://localhost:8080/",
          "height": 720
        },
<<<<<<< Updated upstream
        "outputId": "1f7110dd-3454-40a1-acef-379cf174db1b"
=======
<<<<<<< HEAD
        "id": "jioQIALw7GqD",
        "outputId": "1d402de8-64d0-40ea-c1ba-ae97c40e05c5"
=======
        "id": "kn5M8bpZa_AE",
        "outputId": "d814947a-a719-4041-a42a-216074c068da"
>>>>>>> 1a43c35980a32fc6a0d4a871d34569baf8a58066
>>>>>>> Stashed changes
      },
      "source": [
        "fig, ax = plt.subplots(1, 1, figsize=(12, 12))\n",
        "ax.scatter(clustertsne[:, 0], clustertsne[:, 1], c=cluster_colors, s=200, alpha=0.9)\n",
        "ax.grid(True)\n",
        "ax.set_title(\"TSNE\", fontsize=18);"
      ],
<<<<<<< Updated upstream
      "execution_count": 15,
=======
<<<<<<< HEAD
      "execution_count": 48,
=======
      "execution_count": 19,
>>>>>>> 1a43c35980a32fc6a0d4a871d34569baf8a58066
>>>>>>> Stashed changes
      "outputs": [
        {
          "output_type": "display_data",
          "data": {
<<<<<<< Updated upstream
            "image/png": "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\n",
=======
<<<<<<< HEAD
            "image/png": "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\n",
=======
            "image/png": "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\n",
>>>>>>> 1a43c35980a32fc6a0d4a871d34569baf8a58066
>>>>>>> Stashed changes
            "text/plain": [
              "<Figure size 864x864 with 1 Axes>"
            ]
          },
          "metadata": {
            "tags": [],
            "needs_background": "light"
          }
        }
      ]
    },
    {
<<<<<<< Updated upstream
      "cell_type": "markdown",
      "metadata": {
        "id": "dCNnw205bMGk"
      },
      "source": [
        "### 4.4 K-Means"
      ]
    },
    {
      "cell_type": "code",
      "metadata": {
        "colab": {
          "base_uri": "https://localhost:8080/",
          "height": 734
        },
        "id": "rkGJ-2iabOlL",
        "outputId": "57ae3251-f7f9-45bf-f09b-d03daa1b6621"
      },
      "source": [
        "from sklearn.cluster import KMeans\n",
        "\n",
        "fig, ax = plt.subplots(1, 1, figsize=(12, 12))\n",
        "Sum_of_squared_distances = []\n",
        "K = range(1,30)\n",
        "for k in K:\n",
        "    km = KMeans(n_clusters=k)\n",
        "    km = km.fit(df_vecs.T)\n",
        "    Sum_of_squared_distances.append(km.inertia_)\n",
        "ax.plot(K, Sum_of_squared_distances, 'bx-')\n",
        "ax.set_title('Elbow Method For Optimal k')\n"
      ],
      "execution_count": 22,
=======
<<<<<<< HEAD
      "cell_type": "code",
      "metadata": {
        "id": "6FJPDSu37hY6"
      },
      "source": [
        "df_tsne = pd.DataFrame({\n",
        "    'x': clustertsne[:, 0],\n",
        "    'y': clustertsne[:, 1],\n",
        "    'label': df.labels,\n",
        "    'text': df.text\n",
        "})"
      ],
      "execution_count": 51,
      "outputs": []
    },
    {
      "cell_type": "markdown",
      "metadata": {
        "id": "RgjQcDyu-Xuu"
      },
      "source": [
        "Let's look at the labels with the highest counts."
      ]
    },
    {
      "cell_type": "code",
      "metadata": {
        "colab": {
          "base_uri": "https://localhost:8080/"
        },
        "id": "oRTtHW6P9ren",
        "outputId": "edf1c299-eab7-4b04-9829-f4a3981c538e"
      },
      "source": [
        "df_tsne.label.value_counts()"
      ],
      "execution_count": 54,
      "outputs": [
        {
          "output_type": "execute_result",
          "data": {
            "text/plain": [
              "8    107\n",
              "9    105\n",
              "5     50\n",
              "4     20\n",
              "3     10\n",
              "7      9\n",
              "2      9\n",
              "6      6\n",
              "1      6\n",
              "Name: label, dtype: int64"
            ]
          },
          "metadata": {
            "tags": []
          },
          "execution_count": 54
        }
      ]
    },
    {
      "cell_type": "code",
      "metadata": {
        "colab": {
          "base_uri": "https://localhost:8080/",
          "height": 204
        },
        "id": "hl4Mn00J7rya",
        "outputId": "69b4db44-5230-49e3-9feb-4fea89090c12"
      },
      "source": [
        "df_tsne.head()"
      ],
      "execution_count": 52,
      "outputs": [
        {
          "output_type": "execute_result",
          "data": {
            "text/html": [
              "<div>\n",
              "<style scoped>\n",
              "    .dataframe tbody tr th:only-of-type {\n",
              "        vertical-align: middle;\n",
              "    }\n",
              "\n",
              "    .dataframe tbody tr th {\n",
              "        vertical-align: top;\n",
              "    }\n",
              "\n",
              "    .dataframe thead th {\n",
              "        text-align: right;\n",
              "    }\n",
              "</style>\n",
              "<table border=\"1\" class=\"dataframe\">\n",
              "  <thead>\n",
              "    <tr style=\"text-align: right;\">\n",
              "      <th></th>\n",
              "      <th>x</th>\n",
              "      <th>y</th>\n",
              "      <th>label</th>\n",
              "      <th>text</th>\n",
              "    </tr>\n",
              "  </thead>\n",
              "  <tbody>\n",
              "    <tr>\n",
              "      <th>121</th>\n",
              "      <td>-18.890297</td>\n",
              "      <td>-4.623565</td>\n",
              "      <td>8</td>\n",
              "      <td>တစ်ချို့လူ သိတယ် တာမဟုတ်ဘူးတစ်ခုခုမှားနေပြီးဆိ...</td>\n",
              "    </tr>\n",
              "    <tr>\n",
              "      <th>122</th>\n",
              "      <td>-19.200142</td>\n",
              "      <td>-3.932232</td>\n",
              "      <td>8</td>\n",
              "      <td>ငါတူလေ နှစ်ယောက်ရှိသေးတယ်ထိုင်းနိုင်ငံ မှာအလုပ...</td>\n",
              "    </tr>\n",
              "    <tr>\n",
              "      <th>123</th>\n",
              "      <td>-19.876276</td>\n",
              "      <td>-4.198974</td>\n",
              "      <td>8</td>\n",
              "      <td>‌သူ့ဟာသူကွဲနေတယ် ငါ့ပစပ် သွားပေါ့တစ်ချက် ထီ့ဖါ...</td>\n",
              "    </tr>\n",
              "    <tr>\n",
              "      <th>124</th>\n",
              "      <td>-19.196995</td>\n",
              "      <td>-3.175932</td>\n",
              "      <td>8</td>\n",
              "      <td>ယ်ုမဲ့ထီးဖါ ယ်ုဟှယ်ထိုင်လိုင်လေ့ဘောင်ကောကါဟော့...</td>\n",
              "    </tr>\n",
              "    <tr>\n",
              "      <th>125</th>\n",
              "      <td>-18.618662</td>\n",
              "      <td>-4.340390</td>\n",
              "      <td>8</td>\n",
              "      <td>အရင်ကတည်းက ငါအိမ်ထဲ့သိမ့်မနေဘူးလေ ငါဘန်ကောက်တက...</td>\n",
              "    </tr>\n",
              "  </tbody>\n",
              "</table>\n",
              "</div>"
            ],
            "text/plain": [
              "             x  ...                                               text\n",
              "121 -18.890297  ...  တစ်ချို့လူ သိတယ် တာမဟုတ်ဘူးတစ်ခုခုမှားနေပြီးဆိ...\n",
              "122 -19.200142  ...  ငါတူလေ နှစ်ယောက်ရှိသေးတယ်ထိုင်းနိုင်ငံ မှာအလုပ...\n",
              "123 -19.876276  ...  ‌သူ့ဟာသူကွဲနေတယ် ငါ့ပစပ် သွားပေါ့တစ်ချက် ထီ့ဖါ...\n",
              "124 -19.196995  ...  ယ်ုမဲ့ထီးဖါ ယ်ုဟှယ်ထိုင်လိုင်လေ့ဘောင်ကောကါဟော့...\n",
              "125 -18.618662  ...  အရင်ကတည်းက ငါအိမ်ထဲ့သိမ့်မနေဘူးလေ ငါဘန်ကောက်တက...\n",
              "\n",
              "[5 rows x 4 columns]"
            ]
          },
          "metadata": {
            "tags": []
          },
          "execution_count": 52
        }
      ]
    },
    {
      "cell_type": "code",
      "metadata": {
        "colab": {
          "base_uri": "https://localhost:8080/",
          "height": 204
        },
        "id": "1JE0LmJP-MlI",
        "outputId": "1cd85a4b-429e-4fdf-a5e9-c6952804f944"
      },
      "source": [
        "df_tsne[df_tsne.label==9].head()"
      ],
      "execution_count": 55,
      "outputs": [
        {
          "output_type": "execute_result",
          "data": {
            "text/html": [
              "<div>\n",
              "<style scoped>\n",
              "    .dataframe tbody tr th:only-of-type {\n",
              "        vertical-align: middle;\n",
              "    }\n",
              "\n",
              "    .dataframe tbody tr th {\n",
              "        vertical-align: top;\n",
              "    }\n",
              "\n",
              "    .dataframe thead th {\n",
              "        text-align: right;\n",
              "    }\n",
              "</style>\n",
              "<table border=\"1\" class=\"dataframe\">\n",
              "  <thead>\n",
              "    <tr style=\"text-align: right;\">\n",
              "      <th></th>\n",
              "      <th>x</th>\n",
              "      <th>y</th>\n",
              "      <th>label</th>\n",
              "      <th>text</th>\n",
              "    </tr>\n",
              "  </thead>\n",
              "  <tbody>\n",
              "    <tr>\n",
              "      <th>126</th>\n",
              "      <td>11.062231</td>\n",
              "      <td>-5.824520</td>\n",
              "      <td>9</td>\n",
              "      <td>ဖုန်းတိုင်းဘယ်ရှိတော့တယ်အင်ဂလစ့်လာကြည့်မလာငါ့အ...</td>\n",
              "    </tr>\n",
              "    <tr>\n",
              "      <th>127</th>\n",
              "      <td>10.521702</td>\n",
              "      <td>-5.438987</td>\n",
              "      <td>9</td>\n",
              "      <td>မိုက်ကော် ခက်လောက်ဟိုက်ဖျံ  ခေါင်ကျင်ငိုက် ခေါ...</td>\n",
              "    </tr>\n",
              "    <tr>\n",
              "      <th>128</th>\n",
              "      <td>10.853544</td>\n",
              "      <td>-4.744586</td>\n",
              "      <td>9</td>\n",
              "      <td>အိုခေ နာမ်အင်ဂလစ်ဂျီပီအက် နက်နော်စီ ချိက်မိုင်...</td>\n",
              "    </tr>\n",
              "    <tr>\n",
              "      <th>860</th>\n",
              "      <td>8.642233</td>\n",
              "      <td>-4.942638</td>\n",
              "      <td>9</td>\n",
              "      <td>:)</td>\n",
              "    </tr>\n",
              "    <tr>\n",
              "      <th>2217</th>\n",
              "      <td>11.169455</td>\n",
              "      <td>-4.929089</td>\n",
              "      <td>9</td>\n",
              "      <td>︱︱︱︱︱︱︱     ︱︱︱︱︱︱︱︱︱︱     ︱︱︱︱︱︱︱︱︱︱     ┏━┓︱...</td>\n",
              "    </tr>\n",
              "  </tbody>\n",
              "</table>\n",
              "</div>"
            ],
            "text/plain": [
              "              x  ...                                               text\n",
              "126   11.062231  ...  ဖုန်းတိုင်းဘယ်ရှိတော့တယ်အင်ဂလစ့်လာကြည့်မလာငါ့အ...\n",
              "127   10.521702  ...  မိုက်ကော် ခက်လောက်ဟိုက်ဖျံ  ခေါင်ကျင်ငိုက် ခေါ...\n",
              "128   10.853544  ...  အိုခေ နာမ်အင်ဂလစ်ဂျီပီအက် နက်နော်စီ ချိက်မိုင်...\n",
              "860    8.642233  ...                                                 :)\n",
              "2217  11.169455  ...  ︱︱︱︱︱︱︱     ︱︱︱︱︱︱︱︱︱︱     ︱︱︱︱︱︱︱︱︱︱     ┏━┓︱...\n",
              "\n",
              "[5 rows x 4 columns]"
            ]
          },
          "metadata": {
            "tags": []
          },
          "execution_count": 55
        }
      ]
    },
    {
      "cell_type": "code",
      "metadata": {
        "colab": {
          "base_uri": "https://localhost:8080/",
          "height": 204
        },
        "id": "HuKmi9xK-Rwn",
        "outputId": "006b8e25-f998-48d1-bc03-9fb3a3c18c2d"
      },
      "source": [
        "df_tsne[df_tsne.label==5].head()"
      ],
      "execution_count": 56,
      "outputs": [
        {
          "output_type": "execute_result",
          "data": {
            "text/html": [
              "<div>\n",
              "<style scoped>\n",
              "    .dataframe tbody tr th:only-of-type {\n",
              "        vertical-align: middle;\n",
              "    }\n",
              "\n",
              "    .dataframe tbody tr th {\n",
              "        vertical-align: top;\n",
              "    }\n",
              "\n",
              "    .dataframe thead th {\n",
              "        text-align: right;\n",
              "    }\n",
              "</style>\n",
              "<table border=\"1\" class=\"dataframe\">\n",
              "  <thead>\n",
              "    <tr style=\"text-align: right;\">\n",
              "      <th></th>\n",
              "      <th>x</th>\n",
              "      <th>y</th>\n",
              "      <th>label</th>\n",
              "      <th>text</th>\n",
              "    </tr>\n",
              "  </thead>\n",
              "  <tbody>\n",
              "    <tr>\n",
              "      <th>256</th>\n",
              "      <td>2.168861</td>\n",
              "      <td>12.012322</td>\n",
              "      <td>5</td>\n",
              "      <td>Chris is such an a**</td>\n",
              "    </tr>\n",
              "    <tr>\n",
              "      <th>652</th>\n",
              "      <td>2.086670</td>\n",
              "      <td>11.814995</td>\n",
              "      <td>5</td>\n",
              "      <td>Chris is absolutely the worst. Total ass</td>\n",
              "    </tr>\n",
              "    <tr>\n",
              "      <th>4838</th>\n",
              "      <td>2.215998</td>\n",
              "      <td>11.881203</td>\n",
              "      <td>5</td>\n",
              "      <td>Chris was annoying</td>\n",
              "    </tr>\n",
              "    <tr>\n",
              "      <th>4940</th>\n",
              "      <td>1.689983</td>\n",
              "      <td>12.640177</td>\n",
              "      <td>5</td>\n",
              "      <td>Poor Chris, I hope he got the day off afterwards.</td>\n",
              "    </tr>\n",
              "    <tr>\n",
              "      <th>7366</th>\n",
              "      <td>2.290971</td>\n",
              "      <td>11.910000</td>\n",
              "      <td>5</td>\n",
              "      <td>This Chris dude sucks.</td>\n",
              "    </tr>\n",
              "  </tbody>\n",
              "</table>\n",
              "</div>"
            ],
            "text/plain": [
              "             x  ...                                               text\n",
              "256   2.168861  ...                               Chris is such an a**\n",
              "652   2.086670  ...           Chris is absolutely the worst. Total ass\n",
              "4838  2.215998  ...                                 Chris was annoying\n",
              "4940  1.689983  ...  Poor Chris, I hope he got the day off afterwards.\n",
              "7366  2.290971  ...                             This Chris dude sucks.\n",
              "\n",
              "[5 rows x 4 columns]"
            ]
          },
          "metadata": {
            "tags": []
          },
          "execution_count": 56
        }
      ]
    },
    {
      "cell_type": "code",
      "metadata": {
        "colab": {
          "base_uri": "https://localhost:8080/",
          "height": 204
        },
        "id": "05a5Xb8U-eEY",
        "outputId": "5cc8e6a7-0433-4676-d222-1d3a360ce908"
      },
      "source": [
        "df_tsne[df_tsne.label==4].head()"
      ],
      "execution_count": 57,
      "outputs": [
        {
          "output_type": "execute_result",
          "data": {
            "text/html": [
              "<div>\n",
              "<style scoped>\n",
              "    .dataframe tbody tr th:only-of-type {\n",
              "        vertical-align: middle;\n",
              "    }\n",
              "\n",
              "    .dataframe tbody tr th {\n",
              "        vertical-align: top;\n",
              "    }\n",
              "\n",
              "    .dataframe thead th {\n",
              "        text-align: right;\n",
              "    }\n",
              "</style>\n",
              "<table border=\"1\" class=\"dataframe\">\n",
              "  <thead>\n",
              "    <tr style=\"text-align: right;\">\n",
              "      <th></th>\n",
              "      <th>x</th>\n",
              "      <th>y</th>\n",
              "      <th>label</th>\n",
              "      <th>text</th>\n",
              "    </tr>\n",
              "  </thead>\n",
              "  <tbody>\n",
              "    <tr>\n",
              "      <th>2277</th>\n",
              "      <td>2.284766</td>\n",
              "      <td>6.683925</td>\n",
              "      <td>4</td>\n",
              "      <td>Who is the impostor?</td>\n",
              "    </tr>\n",
              "    <tr>\n",
              "      <th>13038</th>\n",
              "      <td>2.381403</td>\n",
              "      <td>6.711999</td>\n",
              "      <td>4</td>\n",
              "      <td>ok guys i saw the imposter vent and kill, all ...</td>\n",
              "    </tr>\n",
              "    <tr>\n",
              "      <th>14529</th>\n",
              "      <td>2.374432</td>\n",
              "      <td>6.696549</td>\n",
              "      <td>4</td>\n",
              "      <td>When there are three people left in a game of ...</td>\n",
              "    </tr>\n",
              "    <tr>\n",
              "      <th>16471</th>\n",
              "      <td>2.275899</td>\n",
              "      <td>6.689150</td>\n",
              "      <td>4</td>\n",
              "      <td>Who's the imposter guys?  Everyone in emergency:</td>\n",
              "    </tr>\n",
              "    <tr>\n",
              "      <th>16666</th>\n",
              "      <td>2.299074</td>\n",
              "      <td>6.696448</td>\n",
              "      <td>4</td>\n",
              "      <td>Can you guys just hurry up and tell us who's t...</td>\n",
              "    </tr>\n",
              "  </tbody>\n",
              "</table>\n",
              "</div>"
            ],
            "text/plain": [
              "              x  ...                                               text\n",
              "2277   2.284766  ...                               Who is the impostor?\n",
              "13038  2.381403  ...  ok guys i saw the imposter vent and kill, all ...\n",
              "14529  2.374432  ...  When there are three people left in a game of ...\n",
              "16471  2.275899  ...   Who's the imposter guys?  Everyone in emergency:\n",
              "16666  2.299074  ...  Can you guys just hurry up and tell us who's t...\n",
              "\n",
              "[5 rows x 4 columns]"
            ]
          },
          "metadata": {
            "tags": []
          },
          "execution_count": 57
        }
      ]
    },
    {
      "cell_type": "code",
      "metadata": {
        "colab": {
          "base_uri": "https://localhost:8080/",
          "height": 204
        },
        "id": "sA65gX7F-hPb",
        "outputId": "63c9a7c5-bee1-4506-b954-8608045f9907"
      },
      "source": [
        "df_tsne[df_tsne.label==3].head()"
      ],
      "execution_count": 58,
      "outputs": [
        {
          "output_type": "execute_result",
          "data": {
            "text/html": [
              "<div>\n",
              "<style scoped>\n",
              "    .dataframe tbody tr th:only-of-type {\n",
              "        vertical-align: middle;\n",
              "    }\n",
              "\n",
              "    .dataframe tbody tr th {\n",
              "        vertical-align: top;\n",
              "    }\n",
              "\n",
              "    .dataframe thead th {\n",
              "        text-align: right;\n",
              "    }\n",
              "</style>\n",
              "<table border=\"1\" class=\"dataframe\">\n",
              "  <thead>\n",
              "    <tr style=\"text-align: right;\">\n",
              "      <th></th>\n",
              "      <th>x</th>\n",
              "      <th>y</th>\n",
              "      <th>label</th>\n",
              "      <th>text</th>\n",
              "    </tr>\n",
              "  </thead>\n",
              "  <tbody>\n",
              "    <tr>\n",
              "      <th>11426</th>\n",
              "      <td>4.494731</td>\n",
              "      <td>6.765309</td>\n",
              "      <td>3</td>\n",
              "      <td>Never argue with stupid people, they will drag...</td>\n",
              "    </tr>\n",
              "    <tr>\n",
              "      <th>13114</th>\n",
              "      <td>4.489532</td>\n",
              "      <td>6.761755</td>\n",
              "      <td>3</td>\n",
              "      <td>Never argue with idiots, he will bring you dow...</td>\n",
              "    </tr>\n",
              "    <tr>\n",
              "      <th>13704</th>\n",
              "      <td>4.423163</td>\n",
              "      <td>6.748129</td>\n",
              "      <td>3</td>\n",
              "      <td>Don't be arrogant if you argue with an arrogan...</td>\n",
              "    </tr>\n",
              "    <tr>\n",
              "      <th>20024</th>\n",
              "      <td>4.503130</td>\n",
              "      <td>6.771569</td>\n",
              "      <td>3</td>\n",
              "      <td>\" don't argue with stupid people, they will be...</td>\n",
              "    </tr>\n",
              "    <tr>\n",
              "      <th>27918</th>\n",
              "      <td>4.493417</td>\n",
              "      <td>6.766959</td>\n",
              "      <td>3</td>\n",
              "      <td>Never argue with an idiot, They will bring you...</td>\n",
              "    </tr>\n",
              "  </tbody>\n",
              "</table>\n",
              "</div>"
            ],
            "text/plain": [
              "              x  ...                                               text\n",
              "11426  4.494731  ...  Never argue with stupid people, they will drag...\n",
              "13114  4.489532  ...  Never argue with idiots, he will bring you dow...\n",
              "13704  4.423163  ...  Don't be arrogant if you argue with an arrogan...\n",
              "20024  4.503130  ...  \" don't argue with stupid people, they will be...\n",
              "27918  4.493417  ...  Never argue with an idiot, They will bring you...\n",
              "\n",
              "[5 rows x 4 columns]"
            ]
          },
          "metadata": {
            "tags": []
          },
          "execution_count": 58
        }
      ]
    },
    {
      "cell_type": "code",
      "metadata": {
        "id": "n5de9ilK-AeW"
      },
      "source": [
        "for lbl in [5, 4, 3]:\n",
        "    df_tsne[df_tsne.label==lbl].to_excel(f'tsne{lbl}.xlsx')"
      ],
      "execution_count": 59,
      "outputs": []
    },
    {
      "cell_type": "code",
      "metadata": {
        "colab": {
          "base_uri": "https://localhost:8080/"
        },
        "id": "sOowqT4Q-68m",
        "outputId": "8d63bb30-52f2-4f0e-c54e-0ff474a8b3fe"
      },
      "source": [
        "!ls -l *.xlsx"
      ],
      "execution_count": 61,
      "outputs": [
        {
          "output_type": "stream",
          "text": [
            "-rw-r--r-- 1 root root 5826 Aug  9 12:55 tsne3.xlsx\n",
            "-rw-r--r-- 1 root root 6341 Aug  9 12:55 tsne4.xlsx\n",
            "-rw-r--r-- 1 root root 8232 Aug  9 12:55 tsne5.xlsx\n"
          ],
          "name": "stdout"
        }
      ]
    },
    {
      "cell_type": "code",
      "metadata": {
        "colab": {
          "base_uri": "https://localhost:8080/",
          "height": 17
        },
        "id": "miBkekKQ_Hq6",
        "outputId": "72d96cb4-5831-438a-c8ab-1675d10430e3"
      },
      "source": [
        "from google.colab import files\n",
        "\n",
        "for lbl in [5, 4, 3]:\n",
        "    files.download(f'tsne{lbl}.xlsx')"
      ],
      "execution_count": 63,
      "outputs": [
        {
          "output_type": "display_data",
          "data": {
            "application/javascript": [
              "\n",
              "    async function download(id, filename, size) {\n",
              "      if (!google.colab.kernel.accessAllowed) {\n",
              "        return;\n",
              "      }\n",
              "      const div = document.createElement('div');\n",
              "      const label = document.createElement('label');\n",
              "      label.textContent = `Downloading \"${filename}\": `;\n",
              "      div.appendChild(label);\n",
              "      const progress = document.createElement('progress');\n",
              "      progress.max = size;\n",
              "      div.appendChild(progress);\n",
              "      document.body.appendChild(div);\n",
              "\n",
              "      const buffers = [];\n",
              "      let downloaded = 0;\n",
              "\n",
              "      const channel = await google.colab.kernel.comms.open(id);\n",
              "      // Send a message to notify the kernel that we're ready.\n",
              "      channel.send({})\n",
              "\n",
              "      for await (const message of channel.messages) {\n",
              "        // Send a message to notify the kernel that we're ready.\n",
              "        channel.send({})\n",
              "        if (message.buffers) {\n",
              "          for (const buffer of message.buffers) {\n",
              "            buffers.push(buffer);\n",
              "            downloaded += buffer.byteLength;\n",
              "            progress.value = downloaded;\n",
              "          }\n",
              "        }\n",
              "      }\n",
              "      const blob = new Blob(buffers, {type: 'application/binary'});\n",
              "      const a = document.createElement('a');\n",
              "      a.href = window.URL.createObjectURL(blob);\n",
              "      a.download = filename;\n",
              "      div.appendChild(a);\n",
              "      a.click();\n",
              "      div.remove();\n",
              "    }\n",
              "  "
            ],
            "text/plain": [
              "<IPython.core.display.Javascript object>"
            ]
          },
          "metadata": {
            "tags": []
          }
        },
        {
          "output_type": "display_data",
          "data": {
            "application/javascript": [
              "download(\"download_5181f3c6-1c0e-49e7-a816-66281f9447ed\", \"tsne5.xlsx\", 8232)"
            ],
            "text/plain": [
              "<IPython.core.display.Javascript object>"
            ]
          },
          "metadata": {
            "tags": []
          }
        },
        {
          "output_type": "display_data",
          "data": {
            "application/javascript": [
              "\n",
              "    async function download(id, filename, size) {\n",
              "      if (!google.colab.kernel.accessAllowed) {\n",
              "        return;\n",
              "      }\n",
              "      const div = document.createElement('div');\n",
              "      const label = document.createElement('label');\n",
              "      label.textContent = `Downloading \"${filename}\": `;\n",
              "      div.appendChild(label);\n",
              "      const progress = document.createElement('progress');\n",
              "      progress.max = size;\n",
              "      div.appendChild(progress);\n",
              "      document.body.appendChild(div);\n",
              "\n",
              "      const buffers = [];\n",
              "      let downloaded = 0;\n",
              "\n",
              "      const channel = await google.colab.kernel.comms.open(id);\n",
              "      // Send a message to notify the kernel that we're ready.\n",
              "      channel.send({})\n",
              "\n",
              "      for await (const message of channel.messages) {\n",
              "        // Send a message to notify the kernel that we're ready.\n",
              "        channel.send({})\n",
              "        if (message.buffers) {\n",
              "          for (const buffer of message.buffers) {\n",
              "            buffers.push(buffer);\n",
              "            downloaded += buffer.byteLength;\n",
              "            progress.value = downloaded;\n",
              "          }\n",
              "        }\n",
              "      }\n",
              "      const blob = new Blob(buffers, {type: 'application/binary'});\n",
              "      const a = document.createElement('a');\n",
              "      a.href = window.URL.createObjectURL(blob);\n",
              "      a.download = filename;\n",
              "      div.appendChild(a);\n",
              "      a.click();\n",
              "      div.remove();\n",
              "    }\n",
              "  "
            ],
            "text/plain": [
              "<IPython.core.display.Javascript object>"
            ]
          },
          "metadata": {
            "tags": []
          }
        },
        {
          "output_type": "display_data",
          "data": {
            "application/javascript": [
              "download(\"download_d7649ca0-bfb4-4961-9c4f-47c5054c77f6\", \"tsne4.xlsx\", 6341)"
            ],
            "text/plain": [
              "<IPython.core.display.Javascript object>"
            ]
          },
          "metadata": {
            "tags": []
          }
        },
        {
          "output_type": "display_data",
          "data": {
            "application/javascript": [
              "\n",
              "    async function download(id, filename, size) {\n",
              "      if (!google.colab.kernel.accessAllowed) {\n",
              "        return;\n",
              "      }\n",
              "      const div = document.createElement('div');\n",
              "      const label = document.createElement('label');\n",
              "      label.textContent = `Downloading \"${filename}\": `;\n",
              "      div.appendChild(label);\n",
              "      const progress = document.createElement('progress');\n",
              "      progress.max = size;\n",
              "      div.appendChild(progress);\n",
              "      document.body.appendChild(div);\n",
              "\n",
              "      const buffers = [];\n",
              "      let downloaded = 0;\n",
              "\n",
              "      const channel = await google.colab.kernel.comms.open(id);\n",
              "      // Send a message to notify the kernel that we're ready.\n",
              "      channel.send({})\n",
              "\n",
              "      for await (const message of channel.messages) {\n",
              "        // Send a message to notify the kernel that we're ready.\n",
              "        channel.send({})\n",
              "        if (message.buffers) {\n",
              "          for (const buffer of message.buffers) {\n",
              "            buffers.push(buffer);\n",
              "            downloaded += buffer.byteLength;\n",
              "            progress.value = downloaded;\n",
              "          }\n",
              "        }\n",
              "      }\n",
              "      const blob = new Blob(buffers, {type: 'application/binary'});\n",
              "      const a = document.createElement('a');\n",
              "      a.href = window.URL.createObjectURL(blob);\n",
              "      a.download = filename;\n",
              "      div.appendChild(a);\n",
              "      a.click();\n",
              "      div.remove();\n",
              "    }\n",
              "  "
            ],
            "text/plain": [
              "<IPython.core.display.Javascript object>"
            ]
          },
          "metadata": {
            "tags": []
          }
        },
        {
          "output_type": "display_data",
          "data": {
            "application/javascript": [
              "download(\"download_32d37bde-7150-42c4-8b25-7d472511c046\", \"tsne3.xlsx\", 5826)"
            ],
            "text/plain": [
              "<IPython.core.display.Javascript object>"
            ]
          },
          "metadata": {
            "tags": []
          }
        }
      ]
    },
    {
=======
>>>>>>> 1a43c35980a32fc6a0d4a871d34569baf8a58066
      "cell_type": "markdown",
      "metadata": {
        "id": "qe2WQifouIdh"
      },
      "source": [
        "### 4.3 UMAP"
      ]
    },
    {
      "cell_type": "code",
      "metadata": {
        "id": "bB3KmB45tk-2",
        "colab": {
          "base_uri": "https://localhost:8080/"
        },
        "outputId": "ecf03771-5bfc-4d6a-892f-c98477f02d82"
      },
      "source": [
        "import umap\n",
        "\n",
        "obj = umap.UMAP()\n",
        "embedding = obj.fit_transform(df_vecs.T)\n",
        "assert embedding.shape[0] == len(cluster_colors)"
      ],
<<<<<<< HEAD
      "execution_count": 64,
      "outputs": []
=======
      "execution_count": 14,
      "outputs": [
        {
          "output_type": "stream",
          "text": [
            "/usr/local/lib/python3.7/dist-packages/numba/np/ufunc/parallel.py:363: NumbaWarning: The TBB threading layer requires TBB version 2019.5 or later i.e., TBB_INTERFACE_VERSION >= 11005. Found TBB_INTERFACE_VERSION = 9107. The TBB threading layer is disabled.\n",
            "  warnings.warn(problem)\n"
          ],
          "name": "stderr"
        }
      ]
>>>>>>> 1a43c35980a32fc6a0d4a871d34569baf8a58066
    },
    {
      "cell_type": "code",
      "metadata": {
<<<<<<< HEAD
=======
        "id": "hk3BP6D-ub1Q",
>>>>>>> 1a43c35980a32fc6a0d4a871d34569baf8a58066
        "colab": {
          "base_uri": "https://localhost:8080/",
          "height": 720
        },
<<<<<<< HEAD
        "id": "_e8bO5Pb7MtK",
        "outputId": "c9fa649a-57f5-4c5b-acee-88cb4e027639"
=======
        "outputId": "1f7110dd-3454-40a1-acef-379cf174db1b"
>>>>>>> 1a43c35980a32fc6a0d4a871d34569baf8a58066
      },
      "source": [
        "fig, ax = plt.subplots(1, 1, figsize=(12, 12))\n",
        "ax.scatter(embedding[:, 0], embedding[:, 1], c=cluster_colors, s=200, alpha=0.9)\n",
        "ax.grid(True)\n",
        "ax.set_title(\"UMAP\", fontsize=18);"
      ],
<<<<<<< HEAD
      "execution_count": 65,
=======
      "execution_count": 15,
>>>>>>> 1a43c35980a32fc6a0d4a871d34569baf8a58066
      "outputs": [
        {
          "output_type": "display_data",
          "data": {
<<<<<<< HEAD
            "image/png": "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\n",
=======
            "image/png": "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\n",
>>>>>>> 1a43c35980a32fc6a0d4a871d34569baf8a58066
            "text/plain": [
              "<Figure size 864x864 with 1 Axes>"
            ]
          },
          "metadata": {
            "tags": [],
            "needs_background": "light"
          }
        }
      ]
    },
    {
      "cell_type": "markdown",
      "metadata": {
        "id": "dCNnw205bMGk"
      },
      "source": [
        "### 4.4 K-Means"
      ]
    },
    {
      "cell_type": "code",
      "metadata": {
<<<<<<< HEAD
        "id": "05_R1TkoAGD_"
      },
      "source": [
        "df_umap = pd.DataFrame({\n",
        "    'x': embedding[:, 0],\n",
        "    'y': embedding[:, 1],\n",
        "    'label': df.labels,\n",
        "    'text': df.text\n",
        "})"
      ],
      "execution_count": 66,
      "outputs": []
    },
    {
      "cell_type": "markdown",
      "metadata": {
        "id": "CrJWUK_dAigZ"
      },
      "source": [
        "Note that only the 1st and 2nd columns of the UMAP dataframe will be different from the TSNE dataframe, since we are taking the label data and text data from the HDB Scan algorithm that was done earlier."
      ]
    },
    {
      "cell_type": "markdown",
      "metadata": {
        "id": "dCNnw205bMGk"
      },
      "source": [
        "### 4.4 K-Means"
      ]
    },
    {
      "cell_type": "code",
      "metadata": {
        "colab": {
          "base_uri": "https://localhost:8080/",
          "height": 734
        },
        "id": "rkGJ-2iabOlL",
        "outputId": "57ae3251-f7f9-45bf-f09b-d03daa1b6621"
      },
      "source": [
        "from sklearn.cluster import KMeans\n",
        "\n",
        "fig, ax = plt.subplots(1, 1, figsize=(12, 12))\n",
        "Sum_of_squared_distances = []\n",
        "K = range(1,30)\n",
        "for k in K:\n",
        "    km = KMeans(n_clusters=k)\n",
        "    km = km.fit(df_vecs.T)\n",
        "    Sum_of_squared_distances.append(km.inertia_)\n",
        "ax.plot(K, Sum_of_squared_distances, 'bx-')\n",
        "ax.set_title('Elbow Method For Optimal k')\n"
      ],
      "execution_count": null,
=======
        "colab": {
          "base_uri": "https://localhost:8080/",
          "height": 734
        },
        "id": "rkGJ-2iabOlL",
        "outputId": "57ae3251-f7f9-45bf-f09b-d03daa1b6621"
      },
      "source": [
        "from sklearn.cluster import KMeans\n",
        "\n",
        "fig, ax = plt.subplots(1, 1, figsize=(12, 12))\n",
        "Sum_of_squared_distances = []\n",
        "K = range(1,30)\n",
        "for k in K:\n",
        "    km = KMeans(n_clusters=k)\n",
        "    km = km.fit(df_vecs.T)\n",
        "    Sum_of_squared_distances.append(km.inertia_)\n",
        "ax.plot(K, Sum_of_squared_distances, 'bx-')\n",
        "ax.set_title('Elbow Method For Optimal k')\n"
      ],
      "execution_count": 22,
>>>>>>> 1a43c35980a32fc6a0d4a871d34569baf8a58066
>>>>>>> Stashed changes
      "outputs": [
        {
          "output_type": "execute_result",
          "data": {
            "text/plain": [
              "Text(0.5, 1.0, 'Elbow Method For Optimal k')"
            ]
          },
          "metadata": {
            "tags": []
          },
          "execution_count": 22
        },
        {
          "output_type": "display_data",
          "data": {
            "image/png": "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\n",
            "text/plain": [
              "<Figure size 864x864 with 1 Axes>"
            ]
          },
          "metadata": {
            "tags": [],
            "needs_background": "light"
          }
        }
      ]
    },
    {
      "cell_type": "code",
      "metadata": {
        "colab": {
          "base_uri": "https://localhost:8080/",
          "height": 734
        },
        "id": "7LBB0s2tb-Ek",
        "outputId": "9f49656c-f9ad-4057-b096-2953b2999b0e"
      },
      "source": [
        "kmeans = KMeans(n_clusters=15)\n",
        "label = kmeans.fit_predict(df_vecs.T)\n",
        "u_labels = np.unique(label)\n",
        "\n",
        "fig, ax = plt.subplots(1, 1, figsize=(12, 12))\n",
        "for i in u_labels:\n",
        "    ax.scatter(df_vecs.T[label == i , 0] , df_vecs.T[label == i , 1] , label = i)\n",
        "ax.legend()\n",
        "ax.grid(True)\n",
        "ax.set_title('K-Means')"
      ],
<<<<<<< Updated upstream
      "execution_count": 39,
=======
<<<<<<< HEAD
      "execution_count": null,
=======
      "execution_count": 39,
>>>>>>> 1a43c35980a32fc6a0d4a871d34569baf8a58066
>>>>>>> Stashed changes
      "outputs": [
        {
          "output_type": "execute_result",
          "data": {
            "text/plain": [
              "Text(0.5, 1.0, 'K-Means')"
            ]
          },
          "metadata": {
            "tags": []
          },
          "execution_count": 39
        },
        {
          "output_type": "display_data",
          "data": {
            "image/png": "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\n",
            "text/plain": [
              "<Figure size 864x864 with 1 Axes>"
            ]
          },
          "metadata": {
            "tags": [],
            "needs_background": "light"
          }
        }
      ]
    },
    {
      "cell_type": "markdown",
      "metadata": {
        "id": "AbrblptdglSN"
      },
      "source": [
        "### 4.5 HDBScan"
      ]
    },
    {
      "cell_type": "code",
      "metadata": {
        "colab": {
          "base_uri": "https://localhost:8080/",
          "height": 734
        },
        "id": "CDqaTEAteh6U",
        "outputId": "a1e47cab-0a28-4ab3-effb-bc58af8396e8"
      },
      "source": [
        "clusterhdb = hdbscan.HDBSCAN(min_cluster_size=15)\n",
        "label = clusterhdb.fit_predict(df_vecs.T)\n",
        "\n",
        "u_labels = np.unique(label)\n",
        "fig, ax = plt.subplots(1, 1, figsize=(12, 12))\n",
        "for i in u_labels:\n",
        "    ax.scatter(df_vecs.T[label == i , 0] , df_vecs.T[label == i , 1] , label = i)\n",
        "ax.legend()\n",
        "ax.grid(True)\n",
        "ax.set_title('HDBScan')"
      ],
<<<<<<< Updated upstream
      "execution_count": 40,
=======
<<<<<<< HEAD
      "execution_count": null,
=======
      "execution_count": 40,
>>>>>>> 1a43c35980a32fc6a0d4a871d34569baf8a58066
>>>>>>> Stashed changes
      "outputs": [
        {
          "output_type": "execute_result",
          "data": {
            "text/plain": [
              "Text(0.5, 1.0, 'HDBScan')"
            ]
          },
          "metadata": {
            "tags": []
          },
          "execution_count": 40
        },
        {
          "output_type": "display_data",
          "data": {
            "image/png": "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\n",
            "text/plain": [
              "<Figure size 864x864 with 1 Axes>"
            ]
          },
          "metadata": {
            "tags": [],
            "needs_background": "light"
          }
        }
      ]
    }
  ]
}