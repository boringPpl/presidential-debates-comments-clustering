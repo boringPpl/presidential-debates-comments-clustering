{
  "nbformat": 4,
  "nbformat_minor": 0,
  "metadata": {
    "kernelspec": {
      "display_name": "Python 3",
      "language": "python",
      "name": "python3"
    },
    "language_info": {
      "codemirror_mode": {
        "name": "ipython",
        "version": 3
      },
      "file_extension": ".py",
      "mimetype": "text/x-python",
      "name": "python",
      "nbconvert_exporter": "python",
      "pygments_lexer": "ipython3",
      "version": "3.8.5"
    },
    "colab": {
      "name": "visualise_clusters.ipynb",
      "provenance": [],
      "collapsed_sections": []
    }
  },
  "cells": [
    {
      "cell_type": "markdown",
      "metadata": {
        "id": "Ftnoh1blp8SO"
      },
      "source": [
        "# Visualise Clusters\n",
        "\n",
        "\n",
        "## 1. Setup\n",
        "\n",
        "```bash\n",
        "conda update -n base -c defaults conda\n",
        "conda install -c conda-forge hdbscan\n",
        "```"
      ]
    },
    {
      "cell_type": "code",
      "metadata": {
        "id": "03jNMGeDsEjz",
        "colab": {
          "base_uri": "https://localhost:8080/"
        },
        "outputId": "b7ae2214-8dea-435e-a9d7-3f0f5732be08"
      },
      "source": [
        "!lscpu"
      ],
      "execution_count": 1,
      "outputs": [
        {
          "output_type": "stream",
          "text": [
            "Architecture:        x86_64\n",
            "CPU op-mode(s):      32-bit, 64-bit\n",
            "Byte Order:          Little Endian\n",
            "CPU(s):              2\n",
            "On-line CPU(s) list: 0,1\n",
            "Thread(s) per core:  2\n",
            "Core(s) per socket:  1\n",
            "Socket(s):           1\n",
            "NUMA node(s):        1\n",
            "Vendor ID:           GenuineIntel\n",
            "CPU family:          6\n",
            "Model:               79\n",
            "Model name:          Intel(R) Xeon(R) CPU @ 2.20GHz\n",
            "Stepping:            0\n",
            "CPU MHz:             2200.150\n",
            "BogoMIPS:            4400.30\n",
            "Hypervisor vendor:   KVM\n",
            "Virtualization type: full\n",
            "L1d cache:           32K\n",
            "L1i cache:           32K\n",
            "L2 cache:            256K\n",
            "L3 cache:            56320K\n",
            "NUMA node0 CPU(s):   0,1\n",
            "Flags:               fpu vme de pse tsc msr pae mce cx8 apic sep mtrr pge mca cmov pat pse36 clflush mmx fxsr sse sse2 ss ht syscall nx pdpe1gb rdtscp lm constant_tsc rep_good nopl xtopology nonstop_tsc cpuid tsc_known_freq pni pclmulqdq ssse3 fma cx16 pcid sse4_1 sse4_2 x2apic movbe popcnt aes xsave avx f16c rdrand hypervisor lahf_lm abm 3dnowprefetch invpcid_single ssbd ibrs ibpb stibp fsgsbase tsc_adjust bmi1 hle avx2 smep bmi2 erms invpcid rtm rdseed adx smap xsaveopt arat md_clear arch_capabilities\n"
          ],
          "name": "stdout"
        }
      ]
    },
    {
      "cell_type": "code",
      "metadata": {
        "id": "Jswi-JpCrQwV",
        "colab": {
          "base_uri": "https://localhost:8080/"
        },
        "outputId": "ad11f134-a2e6-4fb5-f254-c45162ada3f4"
      },
      "source": [
        "!git clone https://github.com/boringPpl/presidential_debates_comments_clustering.git\n",
        "%cd presidential_debates_comments_clustering\n",
        "!pip install -q hdbscan umap-learn langdetect"
      ],
      "execution_count": 2,
      "outputs": [
        {
          "output_type": "stream",
          "text": [
            "Cloning into 'presidential_debates_comments_clustering'...\n",
            "remote: Enumerating objects: 246, done.\u001b[K\n",
            "remote: Counting objects: 100% (3/3), done.\u001b[K\n",
            "remote: Compressing objects: 100% (3/3), done.\u001b[K\n",
            "remote: Total 246 (delta 0), reused 1 (delta 0), pack-reused 243\u001b[K\n",
            "Receiving objects: 100% (246/246), 138.62 MiB | 27.68 MiB/s, done.\n",
            "Resolving deltas: 100% (115/115), done.\n",
            "Checking out files: 100% (39/39), done.\n",
            "/content/presidential_debates_comments_clustering\n",
            "\u001b[K     |████████████████████████████████| 6.4 MB 36.3 MB/s \n",
            "\u001b[?25h  Installing build dependencies ... \u001b[?25l\u001b[?25hdone\n",
            "  Getting requirements to build wheel ... \u001b[?25l\u001b[?25hdone\n",
            "    Preparing wheel metadata ... \u001b[?25l\u001b[?25hdone\n",
            "\u001b[K     |████████████████████████████████| 80 kB 8.7 MB/s \n",
            "\u001b[K     |████████████████████████████████| 1.1 MB 38.9 MB/s \n",
            "\u001b[?25h  Building wheel for hdbscan (PEP 517) ... \u001b[?25l\u001b[?25hdone\n",
            "  Building wheel for umap-learn (setup.py) ... \u001b[?25l\u001b[?25hdone\n",
            "  Building wheel for pynndescent (setup.py) ... \u001b[?25l\u001b[?25hdone\n"
          ],
          "name": "stdout"
        }
      ]
    },
    {
      "cell_type": "code",
      "metadata": {
        "id": "MfjP4nigp8SR"
      },
      "source": [
        "import hdbscan\n",
        "import matplotlib.pyplot as plt\n",
        "import numpy as np\n",
        "import pandas as pd\n",
        "import seaborn as sns"
      ],
      "execution_count": 3,
      "outputs": []
    },
    {
      "cell_type": "code",
      "metadata": {
        "id": "VxlbtsAZp8SS",
        "colab": {
          "base_uri": "https://localhost:8080/"
        },
        "outputId": "8315547b-19ec-41ad-c338-b64b87b1c369"
      },
      "source": [
        "# !head -1 cluster_data/vecs1_5k.tsv\n",
        "# vecs1 = pd.read_csv(\"cluster_data/vecs1_5k.tsv\", sep='\\t', header=None)\n",
        "# vecs2 = pd.read_csv(\"cluster_data/vecs2_5k.tsv\", sep='\\t', header=None)\n",
        "vecs1 = pd.read_parquet(\"cluster_data/vecs1.parquet\")\n",
        "vecs2 = pd.read_parquet(\"cluster_data/vecs2.parquet\")\n",
        "print(f\"Shape of vecs1: {vecs1.shape}\")\n",
        "print(f\"Shape of vecs2: {vecs2.shape}\")"
      ],
      "execution_count": 4,
      "outputs": [
        {
          "output_type": "stream",
          "text": [
            "Shape of vecs1: (50889, 50)\n",
            "Shape of vecs2: (47164, 50)\n"
          ],
          "name": "stdout"
        }
      ]
    },
    {
      "cell_type": "code",
      "metadata": {
        "id": "ag3mXgjSp8ST",
        "colab": {
          "base_uri": "https://localhost:8080/"
        },
        "outputId": "e910a488-343b-40cc-e22b-6828cf542a76"
      },
      "source": [
        "# meta_lab1 = pd.read_csv(\"cluster_data/meta_lab1_5k.tsv\", sep='\\t')\n",
        "# meta_lab2 = pd.read_csv(\"cluster_data/meta_lab2_5k.tsv\", sep='\\t')\n",
        "meta_lab1 = pd.read_parquet(\"cluster_data/meta_lab1.parquet\")\n",
        "meta_lab2 = pd.read_parquet(\"cluster_data/meta_lab2.parquet\")\n",
        "print(f\"Shape of meta_lab1: {meta_lab1.shape}\")\n",
        "print(f\"Shape of meta_lab2: {meta_lab2.shape}\")"
      ],
      "execution_count": 5,
      "outputs": [
        {
          "output_type": "stream",
          "text": [
            "Shape of meta_lab1: (50889, 2)\n",
            "Shape of meta_lab2: (47164, 2)\n"
          ],
          "name": "stdout"
        }
      ]
    },
    {
      "cell_type": "code",
      "metadata": {
        "colab": {
          "base_uri": "https://localhost:8080/",
          "height": 224
        },
        "id": "G4IpF8xV8oAE",
        "outputId": "0ebc0819-2515-4134-8509-e528587f7da8"
      },
      "source": [
        "vecs1.head()"
      ],
      "execution_count": 6,
      "outputs": [
        {
          "output_type": "execute_result",
          "data": {
            "text/html": [
              "<div>\n",
              "<style scoped>\n",
              "    .dataframe tbody tr th:only-of-type {\n",
              "        vertical-align: middle;\n",
              "    }\n",
              "\n",
              "    .dataframe tbody tr th {\n",
              "        vertical-align: top;\n",
              "    }\n",
              "\n",
              "    .dataframe thead th {\n",
              "        text-align: right;\n",
              "    }\n",
              "</style>\n",
              "<table border=\"1\" class=\"dataframe\">\n",
              "  <thead>\n",
              "    <tr style=\"text-align: right;\">\n",
              "      <th></th>\n",
              "      <th>0</th>\n",
              "      <th>1</th>\n",
              "      <th>2</th>\n",
              "      <th>3</th>\n",
              "      <th>4</th>\n",
              "      <th>5</th>\n",
              "      <th>6</th>\n",
              "      <th>7</th>\n",
              "      <th>8</th>\n",
              "      <th>9</th>\n",
              "      <th>10</th>\n",
              "      <th>11</th>\n",
              "      <th>12</th>\n",
              "      <th>13</th>\n",
              "      <th>14</th>\n",
              "      <th>15</th>\n",
              "      <th>16</th>\n",
              "      <th>17</th>\n",
              "      <th>18</th>\n",
              "      <th>19</th>\n",
              "      <th>20</th>\n",
              "      <th>21</th>\n",
              "      <th>22</th>\n",
              "      <th>23</th>\n",
              "      <th>24</th>\n",
              "      <th>25</th>\n",
              "      <th>26</th>\n",
              "      <th>27</th>\n",
              "      <th>28</th>\n",
              "      <th>29</th>\n",
              "      <th>30</th>\n",
              "      <th>31</th>\n",
              "      <th>32</th>\n",
              "      <th>33</th>\n",
              "      <th>34</th>\n",
              "      <th>35</th>\n",
              "      <th>36</th>\n",
              "      <th>37</th>\n",
              "      <th>38</th>\n",
              "      <th>39</th>\n",
              "      <th>40</th>\n",
              "      <th>41</th>\n",
              "      <th>42</th>\n",
              "      <th>43</th>\n",
              "      <th>44</th>\n",
              "      <th>45</th>\n",
              "      <th>46</th>\n",
              "      <th>47</th>\n",
              "      <th>48</th>\n",
              "      <th>49</th>\n",
              "    </tr>\n",
              "  </thead>\n",
              "  <tbody>\n",
              "    <tr>\n",
              "      <th>0</th>\n",
              "      <td>1.313688</td>\n",
              "      <td>-0.512513</td>\n",
              "      <td>-0.207732</td>\n",
              "      <td>0.043059</td>\n",
              "      <td>0.157144</td>\n",
              "      <td>-0.375306</td>\n",
              "      <td>0.419370</td>\n",
              "      <td>-0.285234</td>\n",
              "      <td>-0.085951</td>\n",
              "      <td>0.136850</td>\n",
              "      <td>-0.098335</td>\n",
              "      <td>-0.000991</td>\n",
              "      <td>0.127950</td>\n",
              "      <td>0.134702</td>\n",
              "      <td>0.338932</td>\n",
              "      <td>-0.341461</td>\n",
              "      <td>-0.299435</td>\n",
              "      <td>0.208215</td>\n",
              "      <td>-0.113206</td>\n",
              "      <td>0.168908</td>\n",
              "      <td>0.131415</td>\n",
              "      <td>0.028014</td>\n",
              "      <td>-0.112246</td>\n",
              "      <td>0.222907</td>\n",
              "      <td>0.161734</td>\n",
              "      <td>0.098160</td>\n",
              "      <td>-0.013518</td>\n",
              "      <td>0.296534</td>\n",
              "      <td>-0.215466</td>\n",
              "      <td>0.007966</td>\n",
              "      <td>0.202129</td>\n",
              "      <td>-0.203425</td>\n",
              "      <td>-0.305630</td>\n",
              "      <td>-0.519923</td>\n",
              "      <td>0.261199</td>\n",
              "      <td>-0.266853</td>\n",
              "      <td>-0.042500</td>\n",
              "      <td>0.421814</td>\n",
              "      <td>0.390997</td>\n",
              "      <td>-0.083525</td>\n",
              "      <td>0.413859</td>\n",
              "      <td>-0.119872</td>\n",
              "      <td>-0.035986</td>\n",
              "      <td>-0.187366</td>\n",
              "      <td>0.111067</td>\n",
              "      <td>-0.029850</td>\n",
              "      <td>-0.149186</td>\n",
              "      <td>0.168646</td>\n",
              "      <td>-0.049566</td>\n",
              "      <td>-0.063726</td>\n",
              "    </tr>\n",
              "    <tr>\n",
              "      <th>1</th>\n",
              "      <td>0.689358</td>\n",
              "      <td>0.226475</td>\n",
              "      <td>-0.964849</td>\n",
              "      <td>1.136580</td>\n",
              "      <td>-0.311536</td>\n",
              "      <td>0.662296</td>\n",
              "      <td>-0.419280</td>\n",
              "      <td>-0.014195</td>\n",
              "      <td>0.002419</td>\n",
              "      <td>-0.393420</td>\n",
              "      <td>-0.043127</td>\n",
              "      <td>-0.401190</td>\n",
              "      <td>0.207515</td>\n",
              "      <td>0.862480</td>\n",
              "      <td>-0.201009</td>\n",
              "      <td>-0.058001</td>\n",
              "      <td>0.366041</td>\n",
              "      <td>-0.309371</td>\n",
              "      <td>0.686922</td>\n",
              "      <td>-0.155445</td>\n",
              "      <td>-0.020472</td>\n",
              "      <td>0.299558</td>\n",
              "      <td>-0.137516</td>\n",
              "      <td>-0.127560</td>\n",
              "      <td>0.046674</td>\n",
              "      <td>0.014269</td>\n",
              "      <td>-0.247427</td>\n",
              "      <td>0.170317</td>\n",
              "      <td>0.175874</td>\n",
              "      <td>-0.070140</td>\n",
              "      <td>-0.068942</td>\n",
              "      <td>-0.150361</td>\n",
              "      <td>0.020233</td>\n",
              "      <td>-0.132149</td>\n",
              "      <td>-0.036769</td>\n",
              "      <td>0.105407</td>\n",
              "      <td>0.049117</td>\n",
              "      <td>-0.093280</td>\n",
              "      <td>0.028974</td>\n",
              "      <td>-0.167305</td>\n",
              "      <td>-0.107784</td>\n",
              "      <td>0.039604</td>\n",
              "      <td>0.024750</td>\n",
              "      <td>-0.047668</td>\n",
              "      <td>0.109440</td>\n",
              "      <td>-0.310336</td>\n",
              "      <td>0.077474</td>\n",
              "      <td>-0.154084</td>\n",
              "      <td>0.096569</td>\n",
              "      <td>0.065059</td>\n",
              "    </tr>\n",
              "    <tr>\n",
              "      <th>2</th>\n",
              "      <td>1.597490</td>\n",
              "      <td>0.089166</td>\n",
              "      <td>0.158143</td>\n",
              "      <td>0.071241</td>\n",
              "      <td>0.318027</td>\n",
              "      <td>0.404058</td>\n",
              "      <td>0.023588</td>\n",
              "      <td>0.147652</td>\n",
              "      <td>-0.017239</td>\n",
              "      <td>0.486367</td>\n",
              "      <td>-0.010543</td>\n",
              "      <td>0.068922</td>\n",
              "      <td>-0.099604</td>\n",
              "      <td>-0.215154</td>\n",
              "      <td>-0.211547</td>\n",
              "      <td>0.058958</td>\n",
              "      <td>-0.085510</td>\n",
              "      <td>-0.258873</td>\n",
              "      <td>-0.049515</td>\n",
              "      <td>-0.082999</td>\n",
              "      <td>-0.192637</td>\n",
              "      <td>-0.172104</td>\n",
              "      <td>0.075122</td>\n",
              "      <td>0.322938</td>\n",
              "      <td>0.098297</td>\n",
              "      <td>0.305362</td>\n",
              "      <td>0.219523</td>\n",
              "      <td>-0.238528</td>\n",
              "      <td>0.136858</td>\n",
              "      <td>0.150440</td>\n",
              "      <td>-0.213113</td>\n",
              "      <td>0.009891</td>\n",
              "      <td>-0.119561</td>\n",
              "      <td>-0.220116</td>\n",
              "      <td>-0.052719</td>\n",
              "      <td>-0.336930</td>\n",
              "      <td>-0.442419</td>\n",
              "      <td>0.208521</td>\n",
              "      <td>0.002196</td>\n",
              "      <td>-0.313699</td>\n",
              "      <td>-0.221949</td>\n",
              "      <td>-0.087546</td>\n",
              "      <td>-0.286674</td>\n",
              "      <td>-0.107892</td>\n",
              "      <td>0.043592</td>\n",
              "      <td>0.044139</td>\n",
              "      <td>-0.129486</td>\n",
              "      <td>0.015257</td>\n",
              "      <td>-0.280108</td>\n",
              "      <td>-0.182496</td>\n",
              "    </tr>\n",
              "    <tr>\n",
              "      <th>3</th>\n",
              "      <td>1.439098</td>\n",
              "      <td>-0.305368</td>\n",
              "      <td>-0.253538</td>\n",
              "      <td>0.036085</td>\n",
              "      <td>0.105374</td>\n",
              "      <td>-0.035406</td>\n",
              "      <td>-0.008216</td>\n",
              "      <td>-0.078290</td>\n",
              "      <td>-0.088265</td>\n",
              "      <td>0.113093</td>\n",
              "      <td>-0.170980</td>\n",
              "      <td>0.115174</td>\n",
              "      <td>-0.075911</td>\n",
              "      <td>0.202013</td>\n",
              "      <td>0.404639</td>\n",
              "      <td>-0.312287</td>\n",
              "      <td>-0.052738</td>\n",
              "      <td>0.321047</td>\n",
              "      <td>-0.274521</td>\n",
              "      <td>-0.058644</td>\n",
              "      <td>0.018355</td>\n",
              "      <td>-0.604123</td>\n",
              "      <td>-0.087026</td>\n",
              "      <td>0.211519</td>\n",
              "      <td>0.039096</td>\n",
              "      <td>0.106786</td>\n",
              "      <td>-0.000992</td>\n",
              "      <td>-0.087410</td>\n",
              "      <td>-0.169438</td>\n",
              "      <td>-0.075487</td>\n",
              "      <td>0.251129</td>\n",
              "      <td>0.126799</td>\n",
              "      <td>-0.300119</td>\n",
              "      <td>0.138469</td>\n",
              "      <td>-0.047558</td>\n",
              "      <td>-0.187252</td>\n",
              "      <td>-0.206379</td>\n",
              "      <td>0.280177</td>\n",
              "      <td>-0.077791</td>\n",
              "      <td>-0.068197</td>\n",
              "      <td>0.276622</td>\n",
              "      <td>-0.034653</td>\n",
              "      <td>0.004380</td>\n",
              "      <td>-0.044147</td>\n",
              "      <td>0.164642</td>\n",
              "      <td>0.044199</td>\n",
              "      <td>-0.222844</td>\n",
              "      <td>-0.301126</td>\n",
              "      <td>0.037728</td>\n",
              "      <td>-0.096336</td>\n",
              "    </tr>\n",
              "    <tr>\n",
              "      <th>4</th>\n",
              "      <td>-0.361371</td>\n",
              "      <td>-0.696536</td>\n",
              "      <td>0.096873</td>\n",
              "      <td>0.283011</td>\n",
              "      <td>0.067292</td>\n",
              "      <td>0.156770</td>\n",
              "      <td>-0.311127</td>\n",
              "      <td>-0.004818</td>\n",
              "      <td>-0.544130</td>\n",
              "      <td>-0.422213</td>\n",
              "      <td>0.055704</td>\n",
              "      <td>0.391052</td>\n",
              "      <td>-0.077278</td>\n",
              "      <td>-0.162208</td>\n",
              "      <td>-0.111688</td>\n",
              "      <td>-0.201578</td>\n",
              "      <td>-0.177140</td>\n",
              "      <td>0.084618</td>\n",
              "      <td>0.055756</td>\n",
              "      <td>-0.118217</td>\n",
              "      <td>0.029305</td>\n",
              "      <td>0.062861</td>\n",
              "      <td>-0.309313</td>\n",
              "      <td>0.032878</td>\n",
              "      <td>-0.207900</td>\n",
              "      <td>0.193961</td>\n",
              "      <td>0.020496</td>\n",
              "      <td>-0.123940</td>\n",
              "      <td>-0.068509</td>\n",
              "      <td>-0.143110</td>\n",
              "      <td>-0.017810</td>\n",
              "      <td>0.433144</td>\n",
              "      <td>-0.037051</td>\n",
              "      <td>0.567275</td>\n",
              "      <td>-0.065362</td>\n",
              "      <td>-0.263600</td>\n",
              "      <td>0.101670</td>\n",
              "      <td>-0.244255</td>\n",
              "      <td>0.064045</td>\n",
              "      <td>-0.024622</td>\n",
              "      <td>-0.098489</td>\n",
              "      <td>0.263168</td>\n",
              "      <td>0.214644</td>\n",
              "      <td>-0.361542</td>\n",
              "      <td>-0.197097</td>\n",
              "      <td>0.084475</td>\n",
              "      <td>0.126738</td>\n",
              "      <td>-0.197691</td>\n",
              "      <td>0.254852</td>\n",
              "      <td>0.342572</td>\n",
              "    </tr>\n",
              "  </tbody>\n",
              "</table>\n",
              "</div>"
            ],
            "text/plain": [
              "          0         1         2  ...        47        48        49\n",
              "0  1.313688 -0.512513 -0.207732  ...  0.168646 -0.049566 -0.063726\n",
              "1  0.689358  0.226475 -0.964849  ... -0.154084  0.096569  0.065059\n",
              "2  1.597490  0.089166  0.158143  ...  0.015257 -0.280108 -0.182496\n",
              "3  1.439098 -0.305368 -0.253538  ... -0.301126  0.037728 -0.096336\n",
              "4 -0.361371 -0.696536  0.096873  ... -0.197691  0.254852  0.342572\n",
              "\n",
              "[5 rows x 50 columns]"
            ]
          },
          "metadata": {},
          "execution_count": 6
        }
      ]
    },
    {
      "cell_type": "code",
      "metadata": {
        "colab": {
          "base_uri": "https://localhost:8080/",
          "height": 204
        },
        "id": "l0xr6LMN8jdl",
        "outputId": "318dd19a-eb7c-4cc9-f66d-a406d7ad7d36"
      },
      "source": [
        "meta_lab1.head()"
      ],
      "execution_count": 7,
      "outputs": [
        {
          "output_type": "execute_result",
          "data": {
            "text/html": [
              "<div>\n",
              "<style scoped>\n",
              "    .dataframe tbody tr th:only-of-type {\n",
              "        vertical-align: middle;\n",
              "    }\n",
              "\n",
              "    .dataframe tbody tr th {\n",
              "        vertical-align: top;\n",
              "    }\n",
              "\n",
              "    .dataframe thead th {\n",
              "        text-align: right;\n",
              "    }\n",
              "</style>\n",
              "<table border=\"1\" class=\"dataframe\">\n",
              "  <thead>\n",
              "    <tr style=\"text-align: right;\">\n",
              "      <th></th>\n",
              "      <th>comment_text</th>\n",
              "      <th>hdb_labels</th>\n",
              "    </tr>\n",
              "  </thead>\n",
              "  <tbody>\n",
              "    <tr>\n",
              "      <th>0</th>\n",
              "      <td>Trump's America: *7M cases* Biden: 200K people...</td>\n",
              "      <td>-1</td>\n",
              "    </tr>\n",
              "    <tr>\n",
              "      <th>1</th>\n",
              "      <td>Wow Joes laugh makes me cringe 😬</td>\n",
              "      <td>104</td>\n",
              "    </tr>\n",
              "    <tr>\n",
              "      <th>2</th>\n",
              "      <td>Dang hate to say it,  Trump seems sharp compar...</td>\n",
              "      <td>-1</td>\n",
              "    </tr>\n",
              "    <tr>\n",
              "      <th>3</th>\n",
              "      <td>HEY BIDEN, I HAVE A FEELING YOU WERE IN ON THE...</td>\n",
              "      <td>-1</td>\n",
              "    </tr>\n",
              "    <tr>\n",
              "      <th>4</th>\n",
              "      <td>FAKE BRIDEN!!!!!!!!!!!!!!!!!!!!!!!!!!!!!!!!!!!...</td>\n",
              "      <td>-1</td>\n",
              "    </tr>\n",
              "  </tbody>\n",
              "</table>\n",
              "</div>"
            ],
            "text/plain": [
              "                                        comment_text  hdb_labels\n",
              "0  Trump's America: *7M cases* Biden: 200K people...          -1\n",
              "1                   Wow Joes laugh makes me cringe 😬         104\n",
              "2  Dang hate to say it,  Trump seems sharp compar...          -1\n",
              "3  HEY BIDEN, I HAVE A FEELING YOU WERE IN ON THE...          -1\n",
              "4  FAKE BRIDEN!!!!!!!!!!!!!!!!!!!!!!!!!!!!!!!!!!!...          -1"
            ]
          },
          "metadata": {},
          "execution_count": 7
        }
      ]
    },
    {
      "cell_type": "markdown",
      "metadata": {
        "id": "TDY2SzmOp8ST"
      },
      "source": [
        "## 2. Create Clusters"
      ]
    },
    {
      "cell_type": "code",
      "metadata": {
        "id": "HlJlmEofp8ST"
      },
      "source": [
        "clusterer = hdbscan.HDBSCAN()  # (min_cluster_size=5, gen_min_span_tree=True)"
      ],
      "execution_count": 8,
      "outputs": []
    },
    {
      "cell_type": "markdown",
      "metadata": {
        "id": "GJHCpUuop8SU"
      },
      "source": [
        "The following takes about 1.5 minutes"
      ]
    },
    {
      "cell_type": "code",
      "metadata": {
        "id": "sjq5tSJyp8SU",
        "colab": {
          "base_uri": "https://localhost:8080/"
        },
        "outputId": "a4ca8249-62f8-4aac-b563-e3560da102c9"
      },
      "source": [
        "%time clusterer.fit(vecs1)"
      ],
      "execution_count": 9,
      "outputs": [
        {
          "output_type": "stream",
          "text": [
            "CPU times: user 46.6 s, sys: 373 ms, total: 47 s\n",
            "Wall time: 3min 18s\n"
          ],
          "name": "stdout"
        },
        {
          "output_type": "execute_result",
          "data": {
            "text/plain": [
              "HDBSCAN(algorithm='best', allow_single_cluster=False, alpha=1.0,\n",
              "        approx_min_span_tree=True, cluster_selection_epsilon=0.0,\n",
              "        cluster_selection_method='eom', core_dist_n_jobs=4,\n",
              "        gen_min_span_tree=False, leaf_size=40,\n",
              "        match_reference_implementation=False, memory=Memory(location=None),\n",
              "        metric='euclidean', min_cluster_size=5, min_samples=None, p=None,\n",
              "        prediction_data=False)"
            ]
          },
          "metadata": {},
          "execution_count": 9
        }
      ]
    },
    {
      "cell_type": "code",
      "metadata": {
        "id": "DOaJgmNNp8SU"
      },
      "source": [
        "df0 = pd.concat((\n",
        "    pd.DataFrame({\n",
        "        'labels': clusterer.labels_,\n",
        "        'probs': clusterer.probabilities_,\n",
        "        'text': meta_lab1['comment_text']\n",
        "    }),\n",
        "    pd.DataFrame(vecs1)\n",
        "), axis=1)"
      ],
      "execution_count": 10,
      "outputs": []
    },
    {
      "cell_type": "markdown",
      "metadata": {
        "id": "AhDMT6Fup8SV"
      },
      "source": [
        "## 3. Trim Points to n-Color Palette"
      ]
    },
    {
      "cell_type": "code",
      "metadata": {
        "id": "_aVy8vt6p8SV"
      },
      "source": [
        "palette = sns.color_palette()\n",
        "n = len(palette)  # There are only about 10 colors in the palette"
      ],
      "execution_count": 11,
      "outputs": []
    },
    {
      "cell_type": "code",
      "metadata": {
        "id": "tjp1BA0-p8SV"
      },
      "source": [
        "df = df0.loc[(df0.labels > 0) & (df0.labels < n), :].copy()\n",
        "df_vecs = df.iloc[:, 3:].T.values"
      ],
      "execution_count": 12,
      "outputs": []
    },
    {
      "cell_type": "code",
      "metadata": {
        "id": "hS8pVrvPp8SW"
      },
      "source": [
        "cluster_colors = [sns.desaturate(palette[col], sat)\n",
        "                  if col >= 0 else (0.5, 0.5, 0.5) for col, sat in\n",
        "                  zip(df.labels.values, df.probs.values)]"
      ],
      "execution_count": 13,
      "outputs": []
    },
    {
      "cell_type": "markdown",
      "metadata": {
        "id": "dsMeanXop8SW"
      },
      "source": [
        "## 4. Visualize Cluster\n",
        "\n",
        "### 4.1 Principal Component Analysis"
      ]
    },
    {
      "cell_type": "code",
      "metadata": {
        "id": "wjKJ7CaYp8SW",
        "colab": {
          "base_uri": "https://localhost:8080/"
        },
        "outputId": "f969c600-c1ca-4cea-9943-8fcb96cda405"
      },
      "source": [
        "from sklearn.decomposition import PCA\n",
        "pca = PCA(n_components=2)\n",
        "pca.fit(df_vecs)"
      ],
      "execution_count": 14,
      "outputs": [
        {
          "output_type": "execute_result",
          "data": {
            "text/plain": [
              "PCA(copy=True, iterated_power='auto', n_components=2, random_state=None,\n",
              "    svd_solver='auto', tol=0.0, whiten=False)"
            ]
          },
          "metadata": {},
          "execution_count": 14
        }
      ]
    },
    {
      "cell_type": "code",
      "metadata": {
        "colab": {
          "base_uri": "https://localhost:8080/",
          "height": 720
        },
        "id": "v032g9oL7COK",
        "outputId": "d58b57b8-ac78-4780-d5ba-1cf1cb7552e2"
      },
      "source": [
        "fig, ax = plt.subplots(1, 1, figsize=(12, 12))\n",
        "ax.scatter(pca.components_[0], pca.components_[1], c=cluster_colors, s=200, alpha=0.9)\n",
        "ax.grid(True)\n",
        "ax.set_title(\"PCA\", fontsize=18);"
      ],
      "execution_count": 15,
      "outputs": [
        {
          "output_type": "display_data",
          "data": {
            "image/png": "[encoded data removed]",
            "text/plain": [
              "<Figure size 864x864 with 1 Axes>"
            ]
          },
          "metadata": {
            "needs_background": "light"
          }
        }
      ]
    },
    {
      "cell_type": "markdown",
      "metadata": {
        "id": "MbhrncLJaG0-"
      },
      "source": [
        "### 4.2 TSNE"
      ]
    },
    {
      "cell_type": "code",
      "metadata": {
        "id": "lfuTdIjyaJvE"
      },
      "source": [
        "from sklearn.manifold import TSNE\n",
        "\n",
        "tsne = TSNE(n_components=2)\n",
        "clustertsne = tsne.fit_transform(df_vecs.T)\n",
        "assert clustertsne.shape[0]==len(cluster_colors)"
      ],
      "execution_count": 16,
      "outputs": []
    },
    {
      "cell_type": "code",
      "metadata": {
        "colab": {
          "base_uri": "https://localhost:8080/",
          "height": 720
        },
        "id": "jioQIALw7GqD",
        "outputId": "bbd8ead2-64d3-4c04-f1b6-b345228f0bcf"
      },
      "source": [
        "fig, ax = plt.subplots(1, 1, figsize=(12, 12))\n",
        "ax.scatter(clustertsne[:, 0], clustertsne[:, 1], c=cluster_colors, s=200, alpha=0.9)\n",
        "ax.grid(True)\n",
        "ax.set_title(\"TSNE\", fontsize=18);"
      ],
      "execution_count": 17,
      "outputs": [
        {
          "output_type": "display_data",
          "data": {
            "image/png": "[encoded data removed]",
            "text/plain": [
              "<Figure size 864x864 with 1 Axes>"
            ]
          },
          "metadata": {
            "needs_background": "light"
          }
        }
      ]
    },
    {
      "cell_type": "code",
      "metadata": {
        "id": "6FJPDSu37hY6"
      },
      "source": [
        "df_tsne = pd.DataFrame({\n",
        "    'x': clustertsne[:, 0],\n",
        "    'y': clustertsne[:, 1],\n",
        "    'label': df.labels,\n",
        "    'text': df.text\n",
        "})"
      ],
      "execution_count": 18,
      "outputs": []
    },
    {
      "cell_type": "markdown",
      "metadata": {
        "id": "RgjQcDyu-Xuu"
      },
      "source": [
        "Let's look at the labels with the highest counts."
      ]
    },
    {
      "cell_type": "code",
      "metadata": {
        "colab": {
          "base_uri": "https://localhost:8080/"
        },
        "id": "oRTtHW6P9ren",
        "outputId": "dd3fe2b8-5cf3-4b2a-884d-647d8e61d036"
      },
      "source": [
        "df_tsne.label.value_counts()"
      ],
      "execution_count": 19,
      "outputs": [
        {
          "output_type": "execute_result",
          "data": {
            "text/plain": [
              "8    107\n",
              "9    105\n",
              "5     50\n",
              "4     20\n",
              "3     10\n",
              "7      9\n",
              "2      9\n",
              "6      6\n",
              "1      6\n",
              "Name: label, dtype: int64"
            ]
          },
          "metadata": {},
          "execution_count": 19
        }
      ]
    },
    {
      "cell_type": "code",
      "metadata": {
        "colab": {
          "base_uri": "https://localhost:8080/",
          "height": 204
        },
        "id": "hl4Mn00J7rya",
        "outputId": "72f35e60-1d0e-477f-ba22-22c8c9dadade"
      },
      "source": [
        "df_tsne.head()"
      ],
      "execution_count": 20,
      "outputs": [
        {
          "output_type": "execute_result",
          "data": {
            "text/html": [
              "<div>\n",
              "<style scoped>\n",
              "    .dataframe tbody tr th:only-of-type {\n",
              "        vertical-align: middle;\n",
              "    }\n",
              "\n",
              "    .dataframe tbody tr th {\n",
              "        vertical-align: top;\n",
              "    }\n",
              "\n",
              "    .dataframe thead th {\n",
              "        text-align: right;\n",
              "    }\n",
              "</style>\n",
              "<table border=\"1\" class=\"dataframe\">\n",
              "  <thead>\n",
              "    <tr style=\"text-align: right;\">\n",
              "      <th></th>\n",
              "      <th>x</th>\n",
              "      <th>y</th>\n",
              "      <th>label</th>\n",
              "      <th>text</th>\n",
              "    </tr>\n",
              "  </thead>\n",
              "  <tbody>\n",
              "    <tr>\n",
              "      <th>121</th>\n",
              "      <td>-6.264042</td>\n",
              "      <td>-23.334736</td>\n",
              "      <td>8</td>\n",
              "      <td>တစ်ချို့လူ သိတယ် တာမဟုတ်ဘူးတစ်ခုခုမှားနေပြီးဆိ...</td>\n",
              "    </tr>\n",
              "    <tr>\n",
              "      <th>122</th>\n",
              "      <td>-6.569947</td>\n",
              "      <td>-23.959827</td>\n",
              "      <td>8</td>\n",
              "      <td>ငါတူလေ နှစ်ယောက်ရှိသေးတယ်ထိုင်းနိုင်ငံ မှာအလုပ...</td>\n",
              "    </tr>\n",
              "    <tr>\n",
              "      <th>123</th>\n",
              "      <td>-6.837447</td>\n",
              "      <td>-23.261541</td>\n",
              "      <td>8</td>\n",
              "      <td>‌သူ့ဟာသူကွဲနေတယ် ငါ့ပစပ် သွားပေါ့တစ်ချက် ထီ့ဖါ...</td>\n",
              "    </tr>\n",
              "    <tr>\n",
              "      <th>124</th>\n",
              "      <td>-6.392322</td>\n",
              "      <td>-23.337734</td>\n",
              "      <td>8</td>\n",
              "      <td>ယ်ုမဲ့ထီးဖါ ယ်ုဟှယ်ထိုင်လိုင်လေ့ဘောင်ကောကါဟော့...</td>\n",
              "    </tr>\n",
              "    <tr>\n",
              "      <th>125</th>\n",
              "      <td>-6.263980</td>\n",
              "      <td>-23.334740</td>\n",
              "      <td>8</td>\n",
              "      <td>အရင်ကတည်းက ငါအိမ်ထဲ့သိမ့်မနေဘူးလေ ငါဘန်ကောက်တက...</td>\n",
              "    </tr>\n",
              "  </tbody>\n",
              "</table>\n",
              "</div>"
            ],
            "text/plain": [
              "            x  ...                                               text\n",
              "121 -6.264042  ...  တစ်ချို့လူ သိတယ် တာမဟုတ်ဘူးတစ်ခုခုမှားနေပြီးဆိ...\n",
              "122 -6.569947  ...  ငါတူလေ နှစ်ယောက်ရှိသေးတယ်ထိုင်းနိုင်ငံ မှာအလုပ...\n",
              "123 -6.837447  ...  ‌သူ့ဟာသူကွဲနေတယ် ငါ့ပစပ် သွားပေါ့တစ်ချက် ထီ့ဖါ...\n",
              "124 -6.392322  ...  ယ်ုမဲ့ထီးဖါ ယ်ုဟှယ်ထိုင်လိုင်လေ့ဘောင်ကောကါဟော့...\n",
              "125 -6.263980  ...  အရင်ကတည်းက ငါအိမ်ထဲ့သိမ့်မနေဘူးလေ ငါဘန်ကောက်တက...\n",
              "\n",
              "[5 rows x 4 columns]"
            ]
          },
          "metadata": {},
          "execution_count": 20
        }
      ]
    },
    {
      "cell_type": "code",
      "metadata": {
        "colab": {
          "base_uri": "https://localhost:8080/",
          "height": 204
        },
        "id": "1JE0LmJP-MlI",
        "outputId": "0e8b0c9e-afb4-43bc-ac62-3645af2eee21"
      },
      "source": [
        "df_tsne[df_tsne.label==9].head()"
      ],
      "execution_count": 21,
      "outputs": [
        {
          "output_type": "execute_result",
          "data": {
            "text/html": [
              "<div>\n",
              "<style scoped>\n",
              "    .dataframe tbody tr th:only-of-type {\n",
              "        vertical-align: middle;\n",
              "    }\n",
              "\n",
              "    .dataframe tbody tr th {\n",
              "        vertical-align: top;\n",
              "    }\n",
              "\n",
              "    .dataframe thead th {\n",
              "        text-align: right;\n",
              "    }\n",
              "</style>\n",
              "<table border=\"1\" class=\"dataframe\">\n",
              "  <thead>\n",
              "    <tr style=\"text-align: right;\">\n",
              "      <th></th>\n",
              "      <th>x</th>\n",
              "      <th>y</th>\n",
              "      <th>label</th>\n",
              "      <th>text</th>\n",
              "    </tr>\n",
              "  </thead>\n",
              "  <tbody>\n",
              "    <tr>\n",
              "      <th>126</th>\n",
              "      <td>9.531810</td>\n",
              "      <td>11.939287</td>\n",
              "      <td>9</td>\n",
              "      <td>ဖုန်းတိုင်းဘယ်ရှိတော့တယ်အင်ဂလစ့်လာကြည့်မလာငါ့အ...</td>\n",
              "    </tr>\n",
              "    <tr>\n",
              "      <th>127</th>\n",
              "      <td>9.925249</td>\n",
              "      <td>12.112559</td>\n",
              "      <td>9</td>\n",
              "      <td>မိုက်ကော် ခက်လောက်ဟိုက်ဖျံ  ခေါင်ကျင်ငိုက် ခေါ...</td>\n",
              "    </tr>\n",
              "    <tr>\n",
              "      <th>128</th>\n",
              "      <td>9.554129</td>\n",
              "      <td>12.733151</td>\n",
              "      <td>9</td>\n",
              "      <td>အိုခေ နာမ်အင်ဂလစ်ဂျီပီအက် နက်နော်စီ ချိက်မိုင်...</td>\n",
              "    </tr>\n",
              "    <tr>\n",
              "      <th>860</th>\n",
              "      <td>8.792235</td>\n",
              "      <td>14.593354</td>\n",
              "      <td>9</td>\n",
              "      <td>:)</td>\n",
              "    </tr>\n",
              "    <tr>\n",
              "      <th>2217</th>\n",
              "      <td>8.828059</td>\n",
              "      <td>12.857558</td>\n",
              "      <td>9</td>\n",
              "      <td>︱︱︱︱︱︱︱     ︱︱︱︱︱︱︱︱︱︱     ︱︱︱︱︱︱︱︱︱︱     ┏━┓︱...</td>\n",
              "    </tr>\n",
              "  </tbody>\n",
              "</table>\n",
              "</div>"
            ],
            "text/plain": [
              "             x  ...                                               text\n",
              "126   9.531810  ...  ဖုန်းတိုင်းဘယ်ရှိတော့တယ်အင်ဂလစ့်လာကြည့်မလာငါ့အ...\n",
              "127   9.925249  ...  မိုက်ကော် ခက်လောက်ဟိုက်ဖျံ  ခေါင်ကျင်ငိုက် ခေါ...\n",
              "128   9.554129  ...  အိုခေ နာမ်အင်ဂလစ်ဂျီပီအက် နက်နော်စီ ချိက်မိုင်...\n",
              "860   8.792235  ...                                                 :)\n",
              "2217  8.828059  ...  ︱︱︱︱︱︱︱     ︱︱︱︱︱︱︱︱︱︱     ︱︱︱︱︱︱︱︱︱︱     ┏━┓︱...\n",
              "\n",
              "[5 rows x 4 columns]"
            ]
          },
          "metadata": {},
          "execution_count": 21
        }
      ]
    },
    {
      "cell_type": "code",
      "metadata": {
        "colab": {
          "base_uri": "https://localhost:8080/",
          "height": 204
        },
        "id": "HuKmi9xK-Rwn",
        "outputId": "25a34c0f-58ff-4dec-a6c4-a20da9173864"
      },
      "source": [
        "df_tsne[df_tsne.label==5].head()"
      ],
      "execution_count": 22,
      "outputs": [
        {
          "output_type": "execute_result",
          "data": {
            "text/html": [
              "<div>\n",
              "<style scoped>\n",
              "    .dataframe tbody tr th:only-of-type {\n",
              "        vertical-align: middle;\n",
              "    }\n",
              "\n",
              "    .dataframe tbody tr th {\n",
              "        vertical-align: top;\n",
              "    }\n",
              "\n",
              "    .dataframe thead th {\n",
              "        text-align: right;\n",
              "    }\n",
              "</style>\n",
              "<table border=\"1\" class=\"dataframe\">\n",
              "  <thead>\n",
              "    <tr style=\"text-align: right;\">\n",
              "      <th></th>\n",
              "      <th>x</th>\n",
              "      <th>y</th>\n",
              "      <th>label</th>\n",
              "      <th>text</th>\n",
              "    </tr>\n",
              "  </thead>\n",
              "  <tbody>\n",
              "    <tr>\n",
              "      <th>256</th>\n",
              "      <td>-3.340248</td>\n",
              "      <td>0.006870</td>\n",
              "      <td>5</td>\n",
              "      <td>Chris is such an a**</td>\n",
              "    </tr>\n",
              "    <tr>\n",
              "      <th>652</th>\n",
              "      <td>-3.527003</td>\n",
              "      <td>-0.106053</td>\n",
              "      <td>5</td>\n",
              "      <td>Chris is absolutely the worst. Total ass</td>\n",
              "    </tr>\n",
              "    <tr>\n",
              "      <th>4838</th>\n",
              "      <td>-3.409585</td>\n",
              "      <td>-0.178462</td>\n",
              "      <td>5</td>\n",
              "      <td>Chris was annoying</td>\n",
              "    </tr>\n",
              "    <tr>\n",
              "      <th>4940</th>\n",
              "      <td>-3.331342</td>\n",
              "      <td>0.822281</td>\n",
              "      <td>5</td>\n",
              "      <td>Poor Chris, I hope he got the day off afterwards.</td>\n",
              "    </tr>\n",
              "    <tr>\n",
              "      <th>7366</th>\n",
              "      <td>-3.312381</td>\n",
              "      <td>-0.157416</td>\n",
              "      <td>5</td>\n",
              "      <td>This Chris dude sucks.</td>\n",
              "    </tr>\n",
              "  </tbody>\n",
              "</table>\n",
              "</div>"
            ],
            "text/plain": [
              "             x  ...                                               text\n",
              "256  -3.340248  ...                               Chris is such an a**\n",
              "652  -3.527003  ...           Chris is absolutely the worst. Total ass\n",
              "4838 -3.409585  ...                                 Chris was annoying\n",
              "4940 -3.331342  ...  Poor Chris, I hope he got the day off afterwards.\n",
              "7366 -3.312381  ...                             This Chris dude sucks.\n",
              "\n",
              "[5 rows x 4 columns]"
            ]
          },
          "metadata": {},
          "execution_count": 22
        }
      ]
    },
    {
      "cell_type": "code",
      "metadata": {
        "colab": {
          "base_uri": "https://localhost:8080/",
          "height": 204
        },
        "id": "05a5Xb8U-eEY",
        "outputId": "005de16f-4914-40ee-db04-ed74725f4625"
      },
      "source": [
        "df_tsne[df_tsne.label==4].head()"
      ],
      "execution_count": 23,
      "outputs": [
        {
          "output_type": "execute_result",
          "data": {
            "text/html": [
              "<div>\n",
              "<style scoped>\n",
              "    .dataframe tbody tr th:only-of-type {\n",
              "        vertical-align: middle;\n",
              "    }\n",
              "\n",
              "    .dataframe tbody tr th {\n",
              "        vertical-align: top;\n",
              "    }\n",
              "\n",
              "    .dataframe thead th {\n",
              "        text-align: right;\n",
              "    }\n",
              "</style>\n",
              "<table border=\"1\" class=\"dataframe\">\n",
              "  <thead>\n",
              "    <tr style=\"text-align: right;\">\n",
              "      <th></th>\n",
              "      <th>x</th>\n",
              "      <th>y</th>\n",
              "      <th>label</th>\n",
              "      <th>text</th>\n",
              "    </tr>\n",
              "  </thead>\n",
              "  <tbody>\n",
              "    <tr>\n",
              "      <th>2277</th>\n",
              "      <td>-2.203869</td>\n",
              "      <td>6.003811</td>\n",
              "      <td>4</td>\n",
              "      <td>Who is the impostor?</td>\n",
              "    </tr>\n",
              "    <tr>\n",
              "      <th>13038</th>\n",
              "      <td>-2.122696</td>\n",
              "      <td>5.945017</td>\n",
              "      <td>4</td>\n",
              "      <td>ok guys i saw the imposter vent and kill, all ...</td>\n",
              "    </tr>\n",
              "    <tr>\n",
              "      <th>14529</th>\n",
              "      <td>-2.124532</td>\n",
              "      <td>5.960961</td>\n",
              "      <td>4</td>\n",
              "      <td>When there are three people left in a game of ...</td>\n",
              "    </tr>\n",
              "    <tr>\n",
              "      <th>16471</th>\n",
              "      <td>-2.214288</td>\n",
              "      <td>6.001727</td>\n",
              "      <td>4</td>\n",
              "      <td>Who's the imposter guys?  Everyone in emergency:</td>\n",
              "    </tr>\n",
              "    <tr>\n",
              "      <th>16666</th>\n",
              "      <td>-2.195219</td>\n",
              "      <td>5.987104</td>\n",
              "      <td>4</td>\n",
              "      <td>Can you guys just hurry up and tell us who's t...</td>\n",
              "    </tr>\n",
              "  </tbody>\n",
              "</table>\n",
              "</div>"
            ],
            "text/plain": [
              "              x  ...                                               text\n",
              "2277  -2.203869  ...                               Who is the impostor?\n",
              "13038 -2.122696  ...  ok guys i saw the imposter vent and kill, all ...\n",
              "14529 -2.124532  ...  When there are three people left in a game of ...\n",
              "16471 -2.214288  ...   Who's the imposter guys?  Everyone in emergency:\n",
              "16666 -2.195219  ...  Can you guys just hurry up and tell us who's t...\n",
              "\n",
              "[5 rows x 4 columns]"
            ]
          },
          "metadata": {},
          "execution_count": 23
        }
      ]
    },
    {
      "cell_type": "code",
      "metadata": {
        "colab": {
          "base_uri": "https://localhost:8080/",
          "height": 204
        },
        "id": "sA65gX7F-hPb",
        "outputId": "91b8a651-4dbc-4650-8954-d01f03e87650"
      },
      "source": [
        "df_tsne[df_tsne.label==3].head()"
      ],
      "execution_count": 24,
      "outputs": [
        {
          "output_type": "execute_result",
          "data": {
            "text/html": [
              "<div>\n",
              "<style scoped>\n",
              "    .dataframe tbody tr th:only-of-type {\n",
              "        vertical-align: middle;\n",
              "    }\n",
              "\n",
              "    .dataframe tbody tr th {\n",
              "        vertical-align: top;\n",
              "    }\n",
              "\n",
              "    .dataframe thead th {\n",
              "        text-align: right;\n",
              "    }\n",
              "</style>\n",
              "<table border=\"1\" class=\"dataframe\">\n",
              "  <thead>\n",
              "    <tr style=\"text-align: right;\">\n",
              "      <th></th>\n",
              "      <th>x</th>\n",
              "      <th>y</th>\n",
              "      <th>label</th>\n",
              "      <th>text</th>\n",
              "    </tr>\n",
              "  </thead>\n",
              "  <tbody>\n",
              "    <tr>\n",
              "      <th>11426</th>\n",
              "      <td>-0.122207</td>\n",
              "      <td>5.190212</td>\n",
              "      <td>3</td>\n",
              "      <td>Never argue with stupid people, they will drag...</td>\n",
              "    </tr>\n",
              "    <tr>\n",
              "      <th>13114</th>\n",
              "      <td>-0.125639</td>\n",
              "      <td>5.194528</td>\n",
              "      <td>3</td>\n",
              "      <td>Never argue with idiots, he will bring you dow...</td>\n",
              "    </tr>\n",
              "    <tr>\n",
              "      <th>13704</th>\n",
              "      <td>-0.184554</td>\n",
              "      <td>5.230821</td>\n",
              "      <td>3</td>\n",
              "      <td>Don't be arrogant if you argue with an arrogan...</td>\n",
              "    </tr>\n",
              "    <tr>\n",
              "      <th>20024</th>\n",
              "      <td>-0.116502</td>\n",
              "      <td>5.181726</td>\n",
              "      <td>3</td>\n",
              "      <td>\" don't argue with stupid people, they will be...</td>\n",
              "    </tr>\n",
              "    <tr>\n",
              "      <th>27918</th>\n",
              "      <td>-0.123897</td>\n",
              "      <td>5.188694</td>\n",
              "      <td>3</td>\n",
              "      <td>Never argue with an idiot, They will bring you...</td>\n",
              "    </tr>\n",
              "  </tbody>\n",
              "</table>\n",
              "</div>"
            ],
            "text/plain": [
              "              x  ...                                               text\n",
              "11426 -0.122207  ...  Never argue with stupid people, they will drag...\n",
              "13114 -0.125639  ...  Never argue with idiots, he will bring you dow...\n",
              "13704 -0.184554  ...  Don't be arrogant if you argue with an arrogan...\n",
              "20024 -0.116502  ...  \" don't argue with stupid people, they will be...\n",
              "27918 -0.123897  ...  Never argue with an idiot, They will bring you...\n",
              "\n",
              "[5 rows x 4 columns]"
            ]
          },
          "metadata": {},
          "execution_count": 24
        }
      ]
    },
    {
      "cell_type": "code",
      "metadata": {
        "id": "n5de9ilK-AeW"
      },
      "source": [
        "for lbl in [5, 4, 3]:\n",
        "    df_tsne[df_tsne.label==lbl].to_excel(f'tsne{lbl}.xlsx')"
      ],
      "execution_count": 25,
      "outputs": []
    },
    {
      "cell_type": "code",
      "metadata": {
        "colab": {
          "base_uri": "https://localhost:8080/"
        },
        "id": "sOowqT4Q-68m",
        "outputId": "9e4e43d9-cd91-4a86-82d0-1806270fc749"
      },
      "source": [
        "!ls -l *.xlsx"
      ],
      "execution_count": 26,
      "outputs": [
        {
          "output_type": "stream",
          "text": [
            "-rw-r--r-- 1 root root 5842 Aug 30 12:24 tsne3.xlsx\n",
            "-rw-r--r-- 1 root root 6340 Aug 30 12:24 tsne4.xlsx\n",
            "-rw-r--r-- 1 root root 8300 Aug 30 12:24 tsne5.xlsx\n"
          ],
          "name": "stdout"
        }
      ]
    },
    {
      "cell_type": "code",
      "metadata": {
        "colab": {
          "base_uri": "https://localhost:8080/",
          "height": 17
        },
        "id": "miBkekKQ_Hq6",
        "outputId": "c45c58c4-1b70-4aac-fd5f-525e1f3b1a96"
      },
      "source": [
        "from google.colab import files\n",
        "\n",
        "for lbl in [5, 4, 3]:\n",
        "    files.download(f'tsne{lbl}.xlsx')"
      ],
      "execution_count": 27,
      "outputs": [
        {
          "output_type": "display_data",
          "data": {
            "application/javascript": [
              "\n",
              "    async function download(id, filename, size) {\n",
              "      if (!google.colab.kernel.accessAllowed) {\n",
              "        return;\n",
              "      }\n",
              "      const div = document.createElement('div');\n",
              "      const label = document.createElement('label');\n",
              "      label.textContent = `Downloading \"${filename}\": `;\n",
              "      div.appendChild(label);\n",
              "      const progress = document.createElement('progress');\n",
              "      progress.max = size;\n",
              "      div.appendChild(progress);\n",
              "      document.body.appendChild(div);\n",
              "\n",
              "      const buffers = [];\n",
              "      let downloaded = 0;\n",
              "\n",
              "      const channel = await google.colab.kernel.comms.open(id);\n",
              "      // Send a message to notify the kernel that we're ready.\n",
              "      channel.send({})\n",
              "\n",
              "      for await (const message of channel.messages) {\n",
              "        // Send a message to notify the kernel that we're ready.\n",
              "        channel.send({})\n",
              "        if (message.buffers) {\n",
              "          for (const buffer of message.buffers) {\n",
              "            buffers.push(buffer);\n",
              "            downloaded += buffer.byteLength;\n",
              "            progress.value = downloaded;\n",
              "          }\n",
              "        }\n",
              "      }\n",
              "      const blob = new Blob(buffers, {type: 'application/binary'});\n",
              "      const a = document.createElement('a');\n",
              "      a.href = window.URL.createObjectURL(blob);\n",
              "      a.download = filename;\n",
              "      div.appendChild(a);\n",
              "      a.click();\n",
              "      div.remove();\n",
              "    }\n",
              "  "
            ],
            "text/plain": [
              "<IPython.core.display.Javascript object>"
            ]
          },
          "metadata": {}
        },
        {
          "output_type": "display_data",
          "data": {
            "application/javascript": [
              "download(\"download_1d8c2252-6d27-4671-96dd-916d607a7fe0\", \"tsne5.xlsx\", 8300)"
            ],
            "text/plain": [
              "<IPython.core.display.Javascript object>"
            ]
          },
          "metadata": {}
        },
        {
          "output_type": "display_data",
          "data": {
            "application/javascript": [
              "\n",
              "    async function download(id, filename, size) {\n",
              "      if (!google.colab.kernel.accessAllowed) {\n",
              "        return;\n",
              "      }\n",
              "      const div = document.createElement('div');\n",
              "      const label = document.createElement('label');\n",
              "      label.textContent = `Downloading \"${filename}\": `;\n",
              "      div.appendChild(label);\n",
              "      const progress = document.createElement('progress');\n",
              "      progress.max = size;\n",
              "      div.appendChild(progress);\n",
              "      document.body.appendChild(div);\n",
              "\n",
              "      const buffers = [];\n",
              "      let downloaded = 0;\n",
              "\n",
              "      const channel = await google.colab.kernel.comms.open(id);\n",
              "      // Send a message to notify the kernel that we're ready.\n",
              "      channel.send({})\n",
              "\n",
              "      for await (const message of channel.messages) {\n",
              "        // Send a message to notify the kernel that we're ready.\n",
              "        channel.send({})\n",
              "        if (message.buffers) {\n",
              "          for (const buffer of message.buffers) {\n",
              "            buffers.push(buffer);\n",
              "            downloaded += buffer.byteLength;\n",
              "            progress.value = downloaded;\n",
              "          }\n",
              "        }\n",
              "      }\n",
              "      const blob = new Blob(buffers, {type: 'application/binary'});\n",
              "      const a = document.createElement('a');\n",
              "      a.href = window.URL.createObjectURL(blob);\n",
              "      a.download = filename;\n",
              "      div.appendChild(a);\n",
              "      a.click();\n",
              "      div.remove();\n",
              "    }\n",
              "  "
            ],
            "text/plain": [
              "<IPython.core.display.Javascript object>"
            ]
          },
          "metadata": {}
        },
        {
          "output_type": "display_data",
          "data": {
            "application/javascript": [
              "download(\"download_032791d3-8b52-4ef4-93ed-011d8599ff8b\", \"tsne4.xlsx\", 6340)"
            ],
            "text/plain": [
              "<IPython.core.display.Javascript object>"
            ]
          },
          "metadata": {}
        },
        {
          "output_type": "display_data",
          "data": {
            "application/javascript": [
              "\n",
              "    async function download(id, filename, size) {\n",
              "      if (!google.colab.kernel.accessAllowed) {\n",
              "        return;\n",
              "      }\n",
              "      const div = document.createElement('div');\n",
              "      const label = document.createElement('label');\n",
              "      label.textContent = `Downloading \"${filename}\": `;\n",
              "      div.appendChild(label);\n",
              "      const progress = document.createElement('progress');\n",
              "      progress.max = size;\n",
              "      div.appendChild(progress);\n",
              "      document.body.appendChild(div);\n",
              "\n",
              "      const buffers = [];\n",
              "      let downloaded = 0;\n",
              "\n",
              "      const channel = await google.colab.kernel.comms.open(id);\n",
              "      // Send a message to notify the kernel that we're ready.\n",
              "      channel.send({})\n",
              "\n",
              "      for await (const message of channel.messages) {\n",
              "        // Send a message to notify the kernel that we're ready.\n",
              "        channel.send({})\n",
              "        if (message.buffers) {\n",
              "          for (const buffer of message.buffers) {\n",
              "            buffers.push(buffer);\n",
              "            downloaded += buffer.byteLength;\n",
              "            progress.value = downloaded;\n",
              "          }\n",
              "        }\n",
              "      }\n",
              "      const blob = new Blob(buffers, {type: 'application/binary'});\n",
              "      const a = document.createElement('a');\n",
              "      a.href = window.URL.createObjectURL(blob);\n",
              "      a.download = filename;\n",
              "      div.appendChild(a);\n",
              "      a.click();\n",
              "      div.remove();\n",
              "    }\n",
              "  "
            ],
            "text/plain": [
              "<IPython.core.display.Javascript object>"
            ]
          },
          "metadata": {}
        },
        {
          "output_type": "display_data",
          "data": {
            "application/javascript": [
              "download(\"download_788fcf73-c112-471e-9d3a-009a45e7fc3a\", \"tsne3.xlsx\", 5842)"
            ],
            "text/plain": [
              "<IPython.core.display.Javascript object>"
            ]
          },
          "metadata": {}
        }
      ]
    },
    {
      "cell_type": "markdown",
      "metadata": {
        "id": "qe2WQifouIdh"
      },
      "source": [
        "### 4.3 UMAP"
      ]
    },
    {
      "cell_type": "code",
      "metadata": {
        "id": "bB3KmB45tk-2",
        "colab": {
          "base_uri": "https://localhost:8080/"
        },
        "outputId": "1b7d042b-ab50-435a-96f7-32196cebac7a"
      },
      "source": [
        "import umap\n",
        "\n",
        "obj = umap.UMAP()\n",
        "embedding = obj.fit_transform(df_vecs.T)\n",
        "assert embedding.shape[0] == len(cluster_colors)"
      ],
      "execution_count": 28,
      "outputs": [
        {
          "output_type": "stream",
          "text": [
            "/usr/local/lib/python3.7/dist-packages/numba/np/ufunc/parallel.py:363: NumbaWarning: The TBB threading layer requires TBB version 2019.5 or later i.e., TBB_INTERFACE_VERSION >= 11005. Found TBB_INTERFACE_VERSION = 9107. The TBB threading layer is disabled.\n",
            "  warnings.warn(problem)\n"
          ],
          "name": "stderr"
        }
      ]
    },
    {
      "cell_type": "code",
      "metadata": {
        "colab": {
          "base_uri": "https://localhost:8080/",
          "height": 720
        },
        "id": "_e8bO5Pb7MtK",
        "outputId": "5d2c8c86-385a-4ba0-acf4-e3517e40c185"
      },
      "source": [
        "fig, ax = plt.subplots(1, 1, figsize=(12, 12))\n",
        "ax.scatter(embedding[:, 0], embedding[:, 1], c=cluster_colors, s=200, alpha=0.9)\n",
        "ax.grid(True)\n",
        "ax.set_title(\"UMAP\", fontsize=18);"
      ],
      "execution_count": 29,
      "outputs": [
        {
          "output_type": "display_data",
          "data": {
            "image/png": "[encoded data removed]",
            "text/plain": [
              "<Figure size 864x864 with 1 Axes>"
            ]
          },
          "metadata": {
            "needs_background": "light"
          }
        }
      ]
    },
    {
      "cell_type": "code",
      "metadata": {
        "id": "05_R1TkoAGD_"
      },
      "source": [
        "df_umap = pd.DataFrame({\n",
        "    'x': embedding[:, 0],\n",
        "    'y': embedding[:, 1],\n",
        "    'label': df.labels,\n",
        "    'text': df.text\n",
        "})"
      ],
      "execution_count": 30,
      "outputs": []
    },
    {
      "cell_type": "markdown",
      "metadata": {
        "id": "CrJWUK_dAigZ"
      },
      "source": [
        "Note that only the 1st and 2nd columns of the UMAP dataframe will be different from the TSNE dataframe, since we are taking the label data and text data from the HDB Scan algorithm that was done earlier."
      ]
    },
    {
      "cell_type": "markdown",
      "metadata": {
        "id": "dCNnw205bMGk"
      },
      "source": [
        "### 4.4 K-Means"
      ]
    },
    {
      "cell_type": "code",
      "metadata": {
        "colab": {
          "base_uri": "https://localhost:8080/",
          "height": 499
        },
        "id": "rkGJ-2iabOlL",
        "outputId": "8a300bba-b007-4072-a221-2ee773fcfe00"
      },
      "source": [
        "from sklearn.cluster import KMeans\n",
        "\n",
        "fig, ax = plt.subplots(1, 1, figsize=(12, 8))\n",
        "Sum_of_squared_distances = []\n",
        "K = range(1,30)\n",
        "for k in K:\n",
        "    km = KMeans(n_clusters=k)\n",
        "    km = km.fit(df_vecs.T)\n",
        "    Sum_of_squared_distances.append(km.inertia_)\n",
        "ax.plot(K, Sum_of_squared_distances, 'bx-')\n",
        "ax.set_title('Elbow Method For Optimal k')\n",
        "ax.grid(True)"
      ],
      "execution_count": 42,
      "outputs": [
        {
          "output_type": "display_data",
          "data": {
            "image/png": "[encoded data removed]",
            "text/plain": [
              "<Figure size 864x576 with 1 Axes>"
            ]
          },
          "metadata": {
            "needs_background": "light"
          }
        }
      ]
    },
    {
      "cell_type": "code",
      "metadata": {
        "id": "jqDDM4Z4Jo5a"
      },
      "source": [
        "df['kmeans-label'] = label"
      ],
      "execution_count": 61,
      "outputs": []
    },
    {
      "cell_type": "code",
      "metadata": {
        "colab": {
          "base_uri": "https://localhost:8080/"
        },
        "id": "yus-vVQ_Hor6",
        "outputId": "7d4348a5-e137-4611-b5db-a327b0cc3665"
      },
      "source": [
        "df['kmeans-label'].value_counts()"
      ],
      "execution_count": 63,
      "outputs": [
        {
          "output_type": "execute_result",
          "data": {
            "text/plain": [
              "0    212\n",
              "3     35\n",
              "2     20\n",
              "1     15\n",
              "5     10\n",
              "8      9\n",
              "4      9\n",
              "7      6\n",
              "6      6\n",
              "Name: kmeans-label, dtype: int64"
            ]
          },
          "metadata": {},
          "execution_count": 63
        }
      ]
    },
    {
      "cell_type": "code",
      "metadata": {
        "id": "LdWjo1rHKPzF"
      },
      "source": [
        "for i in [0, 3, 2, 1]:\n",
        "    df[df['kmeans-label']==i].to_excel(f'kmeans-label{i}.xlsx')"
      ],
      "execution_count": 68,
      "outputs": []
    },
    {
      "cell_type": "code",
      "metadata": {
        "colab": {
          "base_uri": "https://localhost:8080/",
          "height": 17
        },
        "id": "zM_nsQSzKecJ",
        "outputId": "c91ef15b-6a9a-4749-9d44-c98f597d1fd8"
      },
      "source": [
        "for lbl in [0, 3, 2, 1]:\n",
        "    files.download(f'kmeans-label{lbl}.xlsx')"
      ],
      "execution_count": 70,
      "outputs": [
        {
          "output_type": "display_data",
          "data": {
            "application/javascript": [
              "\n",
              "    async function download(id, filename, size) {\n",
              "      if (!google.colab.kernel.accessAllowed) {\n",
              "        return;\n",
              "      }\n",
              "      const div = document.createElement('div');\n",
              "      const label = document.createElement('label');\n",
              "      label.textContent = `Downloading \"${filename}\": `;\n",
              "      div.appendChild(label);\n",
              "      const progress = document.createElement('progress');\n",
              "      progress.max = size;\n",
              "      div.appendChild(progress);\n",
              "      document.body.appendChild(div);\n",
              "\n",
              "      const buffers = [];\n",
              "      let downloaded = 0;\n",
              "\n",
              "      const channel = await google.colab.kernel.comms.open(id);\n",
              "      // Send a message to notify the kernel that we're ready.\n",
              "      channel.send({})\n",
              "\n",
              "      for await (const message of channel.messages) {\n",
              "        // Send a message to notify the kernel that we're ready.\n",
              "        channel.send({})\n",
              "        if (message.buffers) {\n",
              "          for (const buffer of message.buffers) {\n",
              "            buffers.push(buffer);\n",
              "            downloaded += buffer.byteLength;\n",
              "            progress.value = downloaded;\n",
              "          }\n",
              "        }\n",
              "      }\n",
              "      const blob = new Blob(buffers, {type: 'application/binary'});\n",
              "      const a = document.createElement('a');\n",
              "      a.href = window.URL.createObjectURL(blob);\n",
              "      a.download = filename;\n",
              "      div.appendChild(a);\n",
              "      a.click();\n",
              "      div.remove();\n",
              "    }\n",
              "  "
            ],
            "text/plain": [
              "<IPython.core.display.Javascript object>"
            ]
          },
          "metadata": {}
        },
        {
          "output_type": "display_data",
          "data": {
            "application/javascript": [
              "download(\"download_8ed88239-d132-4d7e-b529-f551d3a8b1c1\", \"kmeans-label0.xlsx\", 70665)"
            ],
            "text/plain": [
              "<IPython.core.display.Javascript object>"
            ]
          },
          "metadata": {}
        },
        {
          "output_type": "display_data",
          "data": {
            "application/javascript": [
              "\n",
              "    async function download(id, filename, size) {\n",
              "      if (!google.colab.kernel.accessAllowed) {\n",
              "        return;\n",
              "      }\n",
              "      const div = document.createElement('div');\n",
              "      const label = document.createElement('label');\n",
              "      label.textContent = `Downloading \"${filename}\": `;\n",
              "      div.appendChild(label);\n",
              "      const progress = document.createElement('progress');\n",
              "      progress.max = size;\n",
              "      div.appendChild(progress);\n",
              "      document.body.appendChild(div);\n",
              "\n",
              "      const buffers = [];\n",
              "      let downloaded = 0;\n",
              "\n",
              "      const channel = await google.colab.kernel.comms.open(id);\n",
              "      // Send a message to notify the kernel that we're ready.\n",
              "      channel.send({})\n",
              "\n",
              "      for await (const message of channel.messages) {\n",
              "        // Send a message to notify the kernel that we're ready.\n",
              "        channel.send({})\n",
              "        if (message.buffers) {\n",
              "          for (const buffer of message.buffers) {\n",
              "            buffers.push(buffer);\n",
              "            downloaded += buffer.byteLength;\n",
              "            progress.value = downloaded;\n",
              "          }\n",
              "        }\n",
              "      }\n",
              "      const blob = new Blob(buffers, {type: 'application/binary'});\n",
              "      const a = document.createElement('a');\n",
              "      a.href = window.URL.createObjectURL(blob);\n",
              "      a.download = filename;\n",
              "      div.appendChild(a);\n",
              "      a.click();\n",
              "      div.remove();\n",
              "    }\n",
              "  "
            ],
            "text/plain": [
              "<IPython.core.display.Javascript object>"
            ]
          },
          "metadata": {}
        },
        {
          "output_type": "display_data",
          "data": {
            "application/javascript": [
              "download(\"download_d601ad14-7654-44c3-9786-106111b305b7\", \"kmeans-label3.xlsx\", 29971)"
            ],
            "text/plain": [
              "<IPython.core.display.Javascript object>"
            ]
          },
          "metadata": {}
        },
        {
          "output_type": "display_data",
          "data": {
            "application/javascript": [
              "\n",
              "    async function download(id, filename, size) {\n",
              "      if (!google.colab.kernel.accessAllowed) {\n",
              "        return;\n",
              "      }\n",
              "      const div = document.createElement('div');\n",
              "      const label = document.createElement('label');\n",
              "      label.textContent = `Downloading \"${filename}\": `;\n",
              "      div.appendChild(label);\n",
              "      const progress = document.createElement('progress');\n",
              "      progress.max = size;\n",
              "      div.appendChild(progress);\n",
              "      document.body.appendChild(div);\n",
              "\n",
              "      const buffers = [];\n",
              "      let downloaded = 0;\n",
              "\n",
              "      const channel = await google.colab.kernel.comms.open(id);\n",
              "      // Send a message to notify the kernel that we're ready.\n",
              "      channel.send({})\n",
              "\n",
              "      for await (const message of channel.messages) {\n",
              "        // Send a message to notify the kernel that we're ready.\n",
              "        channel.send({})\n",
              "        if (message.buffers) {\n",
              "          for (const buffer of message.buffers) {\n",
              "            buffers.push(buffer);\n",
              "            downloaded += buffer.byteLength;\n",
              "            progress.value = downloaded;\n",
              "          }\n",
              "        }\n",
              "      }\n",
              "      const blob = new Blob(buffers, {type: 'application/binary'});\n",
              "      const a = document.createElement('a');\n",
              "      a.href = window.URL.createObjectURL(blob);\n",
              "      a.download = filename;\n",
              "      div.appendChild(a);\n",
              "      a.click();\n",
              "      div.remove();\n",
              "    }\n",
              "  "
            ],
            "text/plain": [
              "<IPython.core.display.Javascript object>"
            ]
          },
          "metadata": {}
        },
        {
          "output_type": "display_data",
          "data": {
            "application/javascript": [
              "download(\"download_1046ec7a-e6c8-4195-971a-9baeb2d791a0\", \"kmeans-label2.xlsx\", 19727)"
            ],
            "text/plain": [
              "<IPython.core.display.Javascript object>"
            ]
          },
          "metadata": {}
        },
        {
          "output_type": "display_data",
          "data": {
            "application/javascript": [
              "\n",
              "    async function download(id, filename, size) {\n",
              "      if (!google.colab.kernel.accessAllowed) {\n",
              "        return;\n",
              "      }\n",
              "      const div = document.createElement('div');\n",
              "      const label = document.createElement('label');\n",
              "      label.textContent = `Downloading \"${filename}\": `;\n",
              "      div.appendChild(label);\n",
              "      const progress = document.createElement('progress');\n",
              "      progress.max = size;\n",
              "      div.appendChild(progress);\n",
              "      document.body.appendChild(div);\n",
              "\n",
              "      const buffers = [];\n",
              "      let downloaded = 0;\n",
              "\n",
              "      const channel = await google.colab.kernel.comms.open(id);\n",
              "      // Send a message to notify the kernel that we're ready.\n",
              "      channel.send({})\n",
              "\n",
              "      for await (const message of channel.messages) {\n",
              "        // Send a message to notify the kernel that we're ready.\n",
              "        channel.send({})\n",
              "        if (message.buffers) {\n",
              "          for (const buffer of message.buffers) {\n",
              "            buffers.push(buffer);\n",
              "            downloaded += buffer.byteLength;\n",
              "            progress.value = downloaded;\n",
              "          }\n",
              "        }\n",
              "      }\n",
              "      const blob = new Blob(buffers, {type: 'application/binary'});\n",
              "      const a = document.createElement('a');\n",
              "      a.href = window.URL.createObjectURL(blob);\n",
              "      a.download = filename;\n",
              "      div.appendChild(a);\n",
              "      a.click();\n",
              "      div.remove();\n",
              "    }\n",
              "  "
            ],
            "text/plain": [
              "<IPython.core.display.Javascript object>"
            ]
          },
          "metadata": {}
        },
        {
          "output_type": "display_data",
          "data": {
            "application/javascript": [
              "download(\"download_5fd4e46a-f6d6-4e42-9cd3-53564a810cec\", \"kmeans-label1.xlsx\", 15939)"
            ],
            "text/plain": [
              "<IPython.core.display.Javascript object>"
            ]
          },
          "metadata": {}
        }
      ]
    },
    {
      "cell_type": "code",
      "metadata": {
        "colab": {
          "base_uri": "https://localhost:8080/",
          "height": 607
        },
        "id": "7LBB0s2tb-Ek",
        "outputId": "53828ee3-9fb0-4b9e-b663-5d339f18effc"
      },
      "source": [
        "kmeans = KMeans(n_clusters=9)  # Previously 15\n",
        "label = kmeans.fit_predict(df_vecs.T)\n",
        "u_labels = np.unique(label)\n",
        "\n",
        "fig, ax = plt.subplots(1, 1, figsize=(12, 10))\n",
        "for i in u_labels:\n",
        "    ax.scatter(df_vecs.T[label == i, 0],\n",
        "               df_vecs.T[label == i, 1],\n",
        "               label = i, s = 200, alpha=0.5)\n",
        "ax.legend()\n",
        "ax.grid(True)\n",
        "ax.set_title('K-Means');"
      ],
      "execution_count": 48,
      "outputs": [
        {
          "output_type": "display_data",
          "data": {
            "image/png": "[encoded data removed]",
            "text/plain": [
              "<Figure size 864x720 with 1 Axes>"
            ]
          },
          "metadata": {
            "needs_background": "light"
          }
        }
      ]
    },
    {
      "cell_type": "markdown",
      "metadata": {
        "id": "AbrblptdglSN"
      },
      "source": [
        "### 4.5 HDBScan"
      ]
    },
    {
      "cell_type": "code",
      "metadata": {
        "colab": {
          "base_uri": "https://localhost:8080/",
          "height": 607
        },
        "id": "CDqaTEAteh6U",
        "outputId": "04907c15-a016-42f8-ca45-2aca3fe86aa8"
      },
      "source": [
        "clusterhdb = hdbscan.HDBSCAN(min_cluster_size=15)\n",
        "label = clusterhdb.fit_predict(df_vecs.T)\n",
        "\n",
        "u_labels = np.unique(label)\n",
        "fig, ax = plt.subplots(1, 1, figsize=(12, 10))\n",
        "for i in u_labels:\n",
        "    ax.scatter(df_vecs.T[label == i, 0],\n",
        "               df_vecs.T[label == i , 1],\n",
        "               label = i, s = 200, alpha = 0.5)\n",
        "ax.legend()\n",
        "ax.grid(True)\n",
        "ax.set_title('HDBScan');"
      ],
      "execution_count": 45,
      "outputs": [
        {
          "output_type": "display_data",
          "data": {
            "image/png": "[encoded data removed]",
            "text/plain": [
              "<Figure size 864x720 with 1 Axes>"
            ]
          },
          "metadata": {
            "needs_background": "light"
          }
        }
      ]
    }
  ]
}